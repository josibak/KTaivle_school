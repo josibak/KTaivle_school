{
 "cells": [
  {
   "cell_type": "markdown",
   "metadata": {
    "id": "BFhIXgdYoYGp"
   },
   "source": [
    "<center><img src='https://raw.githubusercontent.com/Jangrae/img/master/title.png' width=500/></center>"
   ]
  },
  {
   "cell_type": "markdown",
   "metadata": {
    "id": "0kW6dzBFYnWW"
   },
   "source": [
    "# 4.데이터프레임 변경\n",
    "\n",
    "- 데이터 전처리를 위해 꼭 익혀두어야 할 내용입니다.\n",
    "- 반복 학습과 실습을 통해서 익숙해져야 합니다."
   ]
  },
  {
   "cell_type": "code",
   "execution_count": null,
   "metadata": {
    "id": "b9NraxWDnYr1"
   },
   "outputs": [],
   "source": [
    "# 라이브러리 불러오기\n",
    "import pandas as pd"
   ]
  },
  {
   "cell_type": "code",
   "execution_count": null,
   "metadata": {
    "id": "SOiVUXk_nlEl"
   },
   "outputs": [],
   "source": [
    "# 데이터 읽어오기\n",
    "path = 'https://raw.githubusercontent.com/Jangrae/csv/master/tips(2).csv'\n",
    "tip = pd.read_csv(path)\n",
    "\n",
    "# 확인\n",
    "tip.head()"
   ]
  },
  {
   "cell_type": "markdown",
   "metadata": {
    "id": "BCBZOe4UATv2"
   },
   "source": [
    "## 4.1.열 이름 변경\n",
    "\n",
    "- 기존 데이터프레임의 열 이름을 적절히 변경해야 할 경우가 있습니다.\n",
    "- 또는 집계 결과를 가진 열 이름을 이해하기 쉽게 변경해야 할 경우도 있습니다."
   ]
  },
  {
   "cell_type": "markdown",
   "metadata": {
    "id": "wE9-dcnOATwT"
   },
   "source": [
    "**1) 일부 열 이름 변경**\n",
    "\n",
    "- **rename()** 메서드를 사용해 변경 전후의 열 이름을 딕셔너리 형태로 나열하는 방법으로 변경합니다.\n",
    "- **inplace=True** 옵션을 설정해야 변경 사항이 실제 반영이 됩니다.\n",
    "- 다음과 같이 열 이름을 변경합니다.\n",
    "    - total_bill_amount → total_bill\n",
    "    - male_female → sex\n",
    "    - smoke_yes_no → smoker\n",
    "    - week_name → day\n",
    "    - dinner_lunch → time"
   ]
  },
  {
   "cell_type": "code",
   "execution_count": null,
   "metadata": {
    "id": "nIBQUaLbwxo7"
   },
   "outputs": [],
   "source": [
    "# rename() 함수로 열 이름 변경\n",
    "tip.rename(columns={'total_bill_amount': 'total_bill',\n",
    "                    'male_female': 'sex',\n",
    "                    'smoke_yes_no': 'smoker',\n",
    "                    'week_name': 'day',\n",
    "                    'dinner_lunch': 'time'}, inplace=True)\n",
    "\n",
    "# 확인\n",
    "tip.head()"
   ]
  },
  {
   "cell_type": "markdown",
   "metadata": {
    "id": "MTGNl_DxATwH"
   },
   "source": [
    "**2) 모든 열 이름 변경**\n",
    "\n",
    "- 모든 열 이름을 변경할 때는 **columns** 속성을 변경합니다.\n",
    "- 변경이 필요없는 열은 기존 이름을 부여해 변경합니다.\n"
   ]
  },
  {
   "cell_type": "code",
   "execution_count": null,
   "metadata": {
    "id": "EkoPSqHOwxo1"
   },
   "outputs": [],
   "source": [
    "# 모든 열 이름 변경\n",
    "tip.columns = ['total_bill', 'tip', 'sex', 'smoker', 'day', 'time', 'size']\n",
    "\n",
    "# 확인\n",
    "tip.head()"
   ]
  },
  {
   "cell_type": "markdown",
   "metadata": {
    "id": "705oIgrVATwZ"
   },
   "source": [
    "## 4.2.열 추가\n",
    "\n",
    "- 새로운 열을 추가하여 기존 데이터에서 계산된 결괏값을 저장해야할 경우가 있습니다.\n",
    "- total_bill에 tip을 더한 값을 갖는 final_amt 열을 추가합니다."
   ]
  },
  {
   "cell_type": "code",
   "execution_count": null,
   "metadata": {
    "id": "EsXD6gb6ATw2",
    "scrolled": true
   },
   "outputs": [],
   "source": [
    "# final_amt 열 추가\n",
    "tip['final_amt'] = tip['total_bill'] + tip['tip']\n",
    "\n",
    "# 확인\n",
    "tip.head()"
   ]
  },
  {
   "cell_type": "markdown",
   "metadata": {
    "id": "HNLDyARyQTQx"
   },
   "source": [
    "- insert() 메서드를 사용하면 원하는 위치에 열을 추가할 수 있습니다.\n"
   ]
  },
  {
   "cell_type": "code",
   "execution_count": null,
   "metadata": {
    "id": "C4d3Rz2vQTQ4",
    "scrolled": true
   },
   "outputs": [],
   "source": [
    "# tip 열 앞에 div_tb 열 추가\n",
    "tip.insert(1, 'div_tb', tip['total_bill'] / tip['size'])\n",
    "\n",
    "# 확인\n",
    "tip.head()"
   ]
  },
  {
   "cell_type": "markdown",
   "metadata": {
    "id": "bl6mG6JgATw5"
   },
   "source": [
    "## 4.3.열 삭제\n",
    "\n",
    "- 뭔가를 삭제할 때는 **항상 조심x100** 해야 합니다."
   ]
  },
  {
   "cell_type": "markdown",
   "metadata": {
    "id": "YxCLRWcTATxC"
   },
   "source": [
    "**1) 열 하나 삭제**\n",
    "\n",
    "- **drop()** 메서드를 사용해 열을 삭제합니다.\n",
    "- axis=0: 행 삭제(기본 값)\n",
    "- axis=1: 열 삭제\n",
    "- **inplace=True** 옵션을 지정해야 실제로 반영이 됩니다.\n"
   ]
  },
  {
   "cell_type": "code",
   "execution_count": null,
   "metadata": {
    "id": "IllnJ5JfATxD"
   },
   "outputs": [],
   "source": [
    "# 열 하나 삭제\n",
    "tip.drop('final_amt', axis=1, inplace=True)\n",
    "\n",
    "# 확인\n",
    "tip.head()"
   ]
  },
  {
   "cell_type": "markdown",
   "metadata": {
    "id": "TFmpd24DATxI"
   },
   "source": [
    "**2) 여러 열 삭제**\n",
    "\n",
    "- 삭제할 열을 리스트 형태로 전달해 한 번에 여러 열을 제거할 수 있습니다."
   ]
  },
  {
   "cell_type": "code",
   "execution_count": null,
   "metadata": {
    "id": "4P_cuUeOATxK",
    "scrolled": true
   },
   "outputs": [],
   "source": [
    "# 열 두 개 삭제\n",
    "tip.drop(['div_tb', 'day'], axis=1, inplace=True)\n",
    "\n",
    "# 확인\n",
    "tip.head()"
   ]
  },
  {
   "cell_type": "markdown",
   "metadata": {
    "id": "yohTkqw2ex7e"
   },
   "source": [
    "<img src='https://raw.githubusercontent.com/jangrae/img/master/practice_20.png' width=120 align=\"left\"/>"
   ]
  },
  {
   "cell_type": "markdown",
   "metadata": {
    "id": "hKxotLXL1EFl"
   },
   "source": [
    "[문1] pandas 라이브러리를 불러오세요."
   ]
  },
  {
   "cell_type": "code",
   "execution_count": null,
   "metadata": {
    "executionInfo": {
     "elapsed": 1182,
     "status": "ok",
     "timestamp": 1726720094327,
     "user": {
      "displayName": "Jangrae Lee",
      "userId": "08475661575434032088"
     },
     "user_tz": -540
    },
    "id": "8hZaRpngVhlS"
   },
   "outputs": [],
   "source": [
    "# 라이브러리 불러오기\n",
    "\n"
   ]
  },
  {
   "cell_type": "markdown",
   "metadata": {
    "id": "swByQenKUAXS"
   },
   "source": [
    "[문2] 다음 경로의 파일을 읽어 titanic 데이터프레임을 만드세요.\n",
    "\n",
    "- 파일 경로: 'https://raw.githubusercontent.com/Jangrae/csv/master/titanic.csv'"
   ]
  },
  {
   "cell_type": "markdown",
   "metadata": {
    "id": "osNX5-GjVYW7"
   },
   "source": [
    "**[titanic 데이터 셋 정보]**\n",
    "\n",
    "- Survived: 생존여부(1=Yes, 0=No)\n",
    "- Pclass: 객실등급(1=1st, 2=2nd, 3=3rd)\n",
    "- Sex: 성별(male, female)\n",
    "- Age: 나이\n",
    "- Sibsp: 탑승한 형제자매, 배우자 수\n",
    "- Parch: 탑승한 자녀, 부모 수\n",
    "- Ticket: 티켓 번호\n",
    "- Fare: 요금\n",
    "- Cabin: 캐빈 번호\n",
    "- Embarked: 출발한 항구((C=Cherbourg, Q=Queenstown, S=Southampton)"
   ]
  },
  {
   "cell_type": "code",
   "execution_count": null,
   "metadata": {
    "executionInfo": {
     "elapsed": 1055,
     "status": "ok",
     "timestamp": 1726720095380,
     "user": {
      "displayName": "Jangrae Lee",
      "userId": "08475661575434032088"
     },
     "user_tz": -540
    },
    "id": "zFm_DPTaUdqQ"
   },
   "outputs": [],
   "source": [
    "# 파일 읽어오기\n",
    "\n"
   ]
  },
  {
   "cell_type": "markdown",
   "metadata": {
    "id": "WAGgvzDv2klV"
   },
   "source": [
    "[문3] 상위 5개 행을 확인하세요."
   ]
  },
  {
   "cell_type": "code",
   "execution_count": null,
   "metadata": {
    "colab": {
     "base_uri": "https://localhost:8080/",
     "height": 503
    },
    "executionInfo": {
     "elapsed": 9,
     "status": "ok",
     "timestamp": 1726720095381,
     "user": {
      "displayName": "Jangrae Lee",
      "userId": "08475661575434032088"
     },
     "user_tz": -540
    },
    "id": "vJwQEeOt2fSD",
    "outputId": "5de51a38-db57-4269-da76-fab4a565b79d"
   },
   "outputs": [],
   "source": [
    "# 상위 5개 확인\n",
    "\n"
   ]
  },
  {
   "cell_type": "markdown",
   "metadata": {
    "id": "nIFVI4dD2LaD"
   },
   "source": [
    "[문4] 다음 요구사항에 맞게 순서대로 구문을 작성하고 확인하세요.\n",
    "\n",
    "- 4-1) PassengerId, Name, Ticket, Cabin 열을 한 번에 삭제하세요.\n",
    "- 4-2) Sex 열 이름을 Male로 변경하세요.\n",
    "- 4-3) SibSp 열과 Parch 열의 값을 더한 결과를 갖는 Family 열을 추가하세요.\n",
    "- 4-4) SibSp, Parch 두 열을 삭제하세요.\n",
    "- 4-5) 결과를 확인하세요."
   ]
  },
  {
   "cell_type": "code",
   "execution_count": null,
   "metadata": {
    "colab": {
     "base_uri": "https://localhost:8080/",
     "height": 206
    },
    "executionInfo": {
     "elapsed": 7,
     "status": "ok",
     "timestamp": 1726720095381,
     "user": {
      "displayName": "Jangrae Lee",
      "userId": "08475661575434032088"
     },
     "user_tz": -540
    },
    "id": "rMLb6r445GSW",
    "outputId": "f3bb44d0-666f-4d1d-ef6e-4a68eb94939e",
    "scrolled": true
   },
   "outputs": [],
   "source": [
    "# 4-1) PassengerId, Name, Ticket, Cabin 열 삭제\n",
    "\n",
    "\n",
    "# 4-2) 열 이름 변경: Sex --> Male\n",
    "\n",
    "\n",
    "# 4-3) Family = SibSp + Parch\n",
    "\n",
    "\n",
    "# 4-4) SibSp, Parch 열 삭제\n",
    "\n",
    "\n",
    "# 4-5) 확인\n",
    "\n"
   ]
  },
  {
   "cell_type": "markdown",
   "metadata": {
    "id": "VTlu-bdSfMYw"
   },
   "source": [
    "<img src='https://raw.githubusercontent.com/jangrae/img/master/practice_20e.png' width=45 align=\"left\"/>"
   ]
  },
  {
   "cell_type": "markdown",
   "metadata": {
    "id": "aEBr4Fa_fyPK"
   },
   "source": [
    "## 4.4.결측치 처리\n",
    "\n",
    "- NaN 값, 즉 결측치는 정확한 분석을 방해합니다.\n",
    "- NaN 값을 만나면 오류가 발생하는 함수도 있습니다."
   ]
  },
  {
   "cell_type": "markdown",
   "metadata": {
    "id": "Sit9nStQglNh"
   },
   "source": [
    "<img src='https://raw.githubusercontent.com/Jangrae/img/master/nan.png' width=700 align=\"left\"/>"
   ]
  },
  {
   "cell_type": "markdown",
   "metadata": {
    "id": "ixz4UVQO2o3q"
   },
   "source": [
    "- NaN 값은 제거하든지 다른 값(예를 들면 평균값, 최빈값 등)으로 채워야 합니다."
   ]
  },
  {
   "cell_type": "markdown",
   "metadata": {
    "id": "tBiPJrpmJ7Ys"
   },
   "source": [
    "**[airquality 데이터 셋 정보]**\n",
    "\n",
    "- Ozone: 오존 농도  \n",
    "- Solar.R: 태양복사량\n",
    "- Wind: 풍속\n",
    "- Temp: 기온\n",
    "- Month: 월\n",
    "- Day: 일"
   ]
  },
  {
   "cell_type": "code",
   "execution_count": null,
   "metadata": {
    "id": "JidNhJ9BAxZH"
   },
   "outputs": [],
   "source": [
    "# 데이터 읽어오기\n",
    "path = 'https://raw.githubusercontent.com/Jangrae/csv/master/airquality.csv'\n",
    "air = pd.read_csv(path)\n",
    "\n",
    "# 확인\n",
    "air.head()"
   ]
  },
  {
   "cell_type": "markdown",
   "metadata": {
    "id": "ym9R9OVegJpd"
   },
   "source": [
    "### 4.4.1.결측치 찾기\n",
    "\n",
    "- 결측치 존재 여부를 확인하고 이를 어떻게 처리할 지 방법을 결정해야 합니다.\n",
    "- 결측치를 확인할 수 있는 방법은 참 많습니다."
   ]
  },
  {
   "cell_type": "markdown",
   "metadata": {
    "id": "r342ajaBiM4D"
   },
   "source": [
    "**1) info() 메서드로 확인**"
   ]
  },
  {
   "cell_type": "code",
   "execution_count": null,
   "metadata": {
    "id": "QJtmOEpjgSEO"
   },
   "outputs": [],
   "source": [
    "# 값 개수로 결측치 존재 여부 확인\n",
    "air.info()"
   ]
  },
  {
   "cell_type": "markdown",
   "metadata": {
    "id": "qLZ-WjMLhk3P"
   },
   "source": [
    "**2) isnull(), notnull() 메서드 사용**\n",
    "\n",
    "- **isnull()** 메서드는 결측치면 True, 유효한 값이면 False를 반환합니다.\n",
    "- **notnull()** 메서드는 결측치면 False, 유효한 값이면 True를 반환합니다.\n",
    "- isnull() 대신 **isna()**, notnull() 대신 **notna()** 메서드를 사용해도 됩니다."
   ]
  },
  {
   "cell_type": "code",
   "execution_count": null,
   "metadata": {
    "id": "EjMy9QB5dwtp"
   },
   "outputs": [],
   "source": [
    "# 전체 데이터 중에서 결측치는 True로 표시\n",
    "air.isna()"
   ]
  },
  {
   "cell_type": "code",
   "execution_count": null,
   "metadata": {
    "id": "9chfA7UFX4YY"
   },
   "outputs": [],
   "source": [
    "# 전체 데이터 중에서 결측치는 False로 표시\n",
    "air.notna()"
   ]
  },
  {
   "cell_type": "markdown",
   "metadata": {
    "id": "b_vXSmZGYcbu"
   },
   "source": [
    "- **sum()** 메서드를 사용해 True 값의 개수, 즉 **열의 결측치 개수**를 확인할 수 있습니다."
   ]
  },
  {
   "cell_type": "code",
   "execution_count": null,
   "metadata": {
    "id": "sP5s5liTYPGo"
   },
   "outputs": [],
   "source": [
    "# 열의 결측치 개수 확인\n",
    "air.isnull().sum()"
   ]
  },
  {
   "cell_type": "markdown",
   "metadata": {
    "id": "Gj-SaA5akWAT"
   },
   "source": [
    "### 4.4.2.결측치 제거\n",
    "\n",
    "- **dropna()** 메서드로 결측치가 있는 열이나 행을 제거할 수 있습니다.\n",
    "- inplace=True 옵션을 지정해야 해당 데이터프레임에 실제로 반영됩니다.\n",
    "- axis 옵션으로 행을 제거할 지 열을 제거할 지 지정합니다.\n",
    "    - axis=0: 행 제거(기본값)\n",
    "    - axis=1: 열 제거"
   ]
  },
  {
   "cell_type": "markdown",
   "metadata": {
    "id": "l_k-OqWXqhN-"
   },
   "source": [
    "**1) 어떤 열이든 결측치가 있는 행 제거**\n",
    "\n",
    "- dropna() 메서드는 기본적으로 어느 열이든 결측치가 있는 행을 제거합니다."
   ]
  },
  {
   "cell_type": "markdown",
   "metadata": {
    "id": "aPvcT3n72o3s"
   },
   "source": [
    "<img src='https://raw.githubusercontent.com/Jangrae/img/master/dropna_01.png' width=300 align=\"left\"/>"
   ]
  },
  {
   "cell_type": "code",
   "execution_count": null,
   "metadata": {
    "id": "irYg8ojDzL_s"
   },
   "outputs": [],
   "source": [
    "# 데이터프레임 복사\n",
    "air_test = air.copy()\n",
    "\n",
    "# 열의 결측치 개수 확인\n",
    "air_test.isnull().sum()"
   ]
  },
  {
   "cell_type": "code",
   "execution_count": null,
   "metadata": {
    "id": "KUMVEY7EsxQO"
   },
   "outputs": [],
   "source": [
    "# 결측치가 하나라도 있는 행 제거\n",
    "air_test.dropna(axis=0, inplace=True)\n",
    "\n",
    "# 확인\n",
    "air_test.isna().sum()"
   ]
  },
  {
   "cell_type": "markdown",
   "metadata": {
    "id": "zsa83xmHFL4h"
   },
   "source": [
    "**2) 특정 열에 결측치가 있는 행 제거**\n",
    "\n",
    "- subset 옵션에 열을 지정해 해당 열에 결측치가 있는 행을 제거합니다."
   ]
  },
  {
   "cell_type": "markdown",
   "metadata": {
    "id": "fwCoCsOQgzBb"
   },
   "source": [
    "<img src='https://raw.githubusercontent.com/Jangrae/img/master/dropna_02.png' width=300 align=\"left\"/>"
   ]
  },
  {
   "cell_type": "code",
   "execution_count": null,
   "metadata": {
    "id": "qxnVGzBijLr6",
    "scrolled": true
   },
   "outputs": [],
   "source": [
    "# 데이터프레임 복사\n",
    "air_test = air.copy()\n",
    "\n",
    "# Ozone 열이 결측치인 행 제거\n",
    "air_test.dropna(subset=['Ozone'], axis=0, inplace=True)\n",
    "\n",
    "# 확인\n",
    "air_test.isna().sum()"
   ]
  },
  {
   "cell_type": "markdown",
   "metadata": {
    "id": "mdqeG19oGBSP"
   },
   "source": [
    "**3) 결측치가 있는 모든 열 제거**\n",
    "\n",
    "- axis=1 옵션을 지정해 열을 제거할 수 있습니다."
   ]
  },
  {
   "cell_type": "markdown",
   "metadata": {
    "id": "Kr9SHPt4g1pe"
   },
   "source": [
    "<img src='https://raw.githubusercontent.com/Jangrae/img/master/dropna_03.png' width=300 align=\"left\"/>"
   ]
  },
  {
   "cell_type": "code",
   "execution_count": null,
   "metadata": {
    "id": "MH0G7PQRGBST"
   },
   "outputs": [],
   "source": [
    "# 데이터프레임 복사\n",
    "air_test = air.copy()\n",
    "\n",
    "# 결측치가 있는 열 제거\n",
    "air_test.dropna(axis=1, inplace=True)\n",
    "\n",
    "# 확인\n",
    "air_test.isna().sum()"
   ]
  },
  {
   "cell_type": "markdown",
   "metadata": {
    "id": "cYaThcUMuP6u"
   },
   "source": [
    "### 4.4.3.결측치 채우기\n",
    "\n",
    "- **fillna()** 메서드를 사용해 결측치를 다른 값으로 채울 수 있습니다."
   ]
  },
  {
   "cell_type": "markdown",
   "metadata": {
    "id": "DanX5zk-viHI"
   },
   "source": [
    "**1) 평균값으로 채우기**\n",
    "\n",
    "- 결측치가 있는 열의 평균값을 구한 후 결측치를 그 값으로 채웁니다."
   ]
  },
  {
   "cell_type": "code",
   "execution_count": null,
   "metadata": {
    "id": "3LqSXjUrxXmU"
   },
   "outputs": [],
   "source": [
    "# 데이터프레임 복사\n",
    "air_test = air.copy()\n",
    "\n",
    "# Ozone 평균 구하기\n",
    "mean_Ozone = air_test['Ozone'].mean()\n",
    "\n",
    "# 결측치를 평균값으로 채우기\n",
    "air_test['Ozone'] = air_test['Ozone'].fillna(mean_Ozone)\n",
    "\n",
    "# 확인\n",
    "air_test.isna().sum()"
   ]
  },
  {
   "cell_type": "markdown",
   "metadata": {
    "id": "1pPFQQOjiQPw"
   },
   "source": [
    "**2) 특정 값으로 채우기**\n",
    "\n",
    "- 모든 결측치, 또는 일부 결측치를 특정 값으로 채웁니다."
   ]
  },
  {
   "cell_type": "code",
   "execution_count": null,
   "metadata": {
    "id": "ZnDQPgyMiTKd"
   },
   "outputs": [],
   "source": [
    "# Solar.R 열의 누락된 값을 0으로 채우기\n",
    "air_test['Solar.R'] = air_test['Solar.R'].fillna(0)\n",
    "\n",
    "# 확인\n",
    "air_test.isna().sum()"
   ]
  },
  {
   "cell_type": "markdown",
   "metadata": {
    "id": "ll4fBPfWsSyc"
   },
   "source": [
    "**4) 직전 행의 값 또는 바로 다음 행의 값으로 채우기**\n",
    "\n",
    "- 결측치를 바로 앞의 값이나 바로 다음에 나오는 값으로 채웁니다.\n",
    "- 날짜 또는 시간의 흐름에 따른 값을 갖는 시계열 데이터 처리시 유용합니다.\n",
    "- **method='ffill'**: 바로 앞의 값으로 변경(Forward Fill)\n",
    "- **method='bfill'**: 바로 다음 값으로 변경(Backward Fill)\n",
    "- 참고: method 속성으로 'ffill', 'bfill'을 지정하는 대신 **ffill(), bfill()** 메서드 사용을 권고"
   ]
  },
  {
   "cell_type": "markdown",
   "metadata": {
    "id": "JtsgxcXx2o3v"
   },
   "source": [
    "<img src='https://raw.githubusercontent.com/Jangrae/img/master/ffill_bfill.png' width=600 align=\"left\"/>"
   ]
  },
  {
   "cell_type": "code",
   "execution_count": null,
   "metadata": {
    "id": "_rPnVgsWhlkT"
   },
   "outputs": [],
   "source": [
    "# 데이터프레임 복사\n",
    "air_test = air.copy()\n",
    "\n",
    "# 결측치 확인\n",
    "air_test.isna().sum()"
   ]
  },
  {
   "cell_type": "code",
   "execution_count": null,
   "metadata": {
    "id": "AF9q0GZ4smrR"
   },
   "outputs": [],
   "source": [
    "# Ozone 열의 누락된 값을 바로 앞의 값으로 채우기\n",
    "# air_test['Ozone'] = air_test['Ozone'].fillna(method='ffill')\n",
    "air_test['Ozone'] = air_test['Ozone'].ffill()\n",
    "\n",
    "# Solar.R 열의 누락된 값을 바로 뒤의 값으로 채우기\n",
    "# air_test['Solar.R'] = air_test['Solar.R'].fillna(method='bfill')\n",
    "air_test['Solar.R'] = air_test['Solar.R'].bfill()\n",
    "\n",
    "# 확인\n",
    "air_test.isna().sum()"
   ]
  },
  {
   "cell_type": "markdown",
   "metadata": {
    "id": "E6WNEA69jDxL"
   },
   "source": [
    "**5) 선형보간법으로 채우기**\n",
    "\n",
    "- **interpolate()** 메서드를 사용해 선형보간법으로 채울 수 있습니다."
   ]
  },
  {
   "cell_type": "markdown",
   "metadata": {
    "id": "5rJrI32V2o3v"
   },
   "source": [
    "<img src='https://raw.githubusercontent.com/Jangrae/img/master/interpolate.png' width=300 align=\"left\"/>"
   ]
  },
  {
   "cell_type": "code",
   "execution_count": null,
   "metadata": {
    "id": "3P8wrhsFiih0"
   },
   "outputs": [],
   "source": [
    "# 데이터프레임 복사\n",
    "air_test = air.copy()\n",
    "\n",
    "# 선형보간법으로 채우기\n",
    "air_test['Ozone'] = air_test['Ozone'].interpolate(method='linear')\n",
    "air_test['Solar.R'] = air_test['Solar.R'].interpolate(method='linear')\n",
    "\n",
    "# 확인\n",
    "air_test.isna().sum()"
   ]
  },
  {
   "cell_type": "markdown",
   "metadata": {
    "id": "yohTkqw2ex7e"
   },
   "source": [
    "<img src='https://raw.githubusercontent.com/jangrae/img/master/practice_20.png' width=120 align=\"left\"/>"
   ]
  },
  {
   "cell_type": "markdown",
   "metadata": {
    "id": "_Wj4YWpI1nJN"
   },
   "source": [
    "[문1] 다음 요구사항에 맞게 순서대로 구문을 작성하고 확인하세요.\n",
    "\n",
    "- 1-1) pandas 라이브러리를 pd 별칭을 주어 불러오세요.\n",
    "- 1-2) 다음 경로의 파일을 읽어와 titanic 데이터프레임을 선언하세요.\n",
    "    - 파일 경로: 'https://raw.githubusercontent.com/Jangrae/csv/master/titanic.csv'\n",
    "- 1-3) PassengerId, Name, Ticket, Cabin 열을 한 번에 제거하세요."
   ]
  },
  {
   "cell_type": "code",
   "execution_count": null,
   "metadata": {
    "id": "8hZaRpngVhlS"
   },
   "outputs": [],
   "source": [
    "# 1-1) 라이브러리 불러오기\n",
    "\n",
    "\n",
    "# 1-2) 데이터 읽어오기\n",
    "\n",
    "\n",
    "# 1-3) PassengerId, Name, Ticket, Cabin 열 삭제\n",
    "\n"
   ]
  },
  {
   "cell_type": "markdown",
   "metadata": {
    "id": "WAGgvzDv2klV"
   },
   "source": [
    "[문2] 상위 5개 행을 확인하세요."
   ]
  },
  {
   "cell_type": "code",
   "execution_count": null,
   "metadata": {
    "id": "vJwQEeOt2fSD"
   },
   "outputs": [],
   "source": [
    "# 상위 5개 확인\n",
    "\n"
   ]
  },
  {
   "cell_type": "markdown",
   "metadata": {
    "id": "3dl8Yof7sXFv"
   },
   "source": [
    "[문3] 다음 요구사항에 맞게 순서대로 구문을 작성하고 확인하세요.\n",
    "\n",
    "- 3-1) Age 열 결측치를 Age 열 평균으로 채우세요.\n",
    "- 3-2) Embarked 열 결측치를 'S'로 채우세요.\n",
    "- 3-3) 각 열에 결측치가 남아있는지 확인하세요."
   ]
  },
  {
   "cell_type": "code",
   "execution_count": null,
   "metadata": {
    "id": "MPhnTJf7j8q5"
   },
   "outputs": [],
   "source": [
    "# 3-1) Age 결측치 평균으로 채우기\n",
    "\n",
    "\n",
    "# 3-2) Embarked 결측치 'S'로 채우기\n",
    "\n",
    "\n",
    "# 3-3) 결측치 존재여부 확인\n",
    "\n"
   ]
  },
  {
   "cell_type": "markdown",
   "metadata": {
    "id": "VTlu-bdSfMYw"
   },
   "source": [
    "<img src='https://raw.githubusercontent.com/jangrae/img/master/practice_20e.png' width=45 align=\"left\"/>"
   ]
  },
  {
   "cell_type": "markdown",
   "metadata": {
    "id": "TKXSGj6GW2sU"
   },
   "source": [
    "## 4.5.데이터프레임 합치기(Concat)\n",
    "\n",
    "- **concat()** 함수를 사용해 **인덱스 값을 기준으로** 두 데이터프레임을 가로 또는 세로로 합칠 수 있습니다.\n"
   ]
  },
  {
   "cell_type": "markdown",
   "metadata": {
    "id": "Ai1-9_qwNth_"
   },
   "source": [
    "### 4.5.1.가로로 합치기\n",
    "\n",
    "- **axis=1** 옵션을 지정해 가로로 합칠 수 있습니다."
   ]
  },
  {
   "cell_type": "markdown",
   "metadata": {
    "id": "E0SAH5cR9MSg"
   },
   "source": [
    "<img src='https://raw.githubusercontent.com/Jangrae/img/master/concat_ax1.png' width=500, align=\"left\"/>"
   ]
  },
  {
   "cell_type": "markdown",
   "metadata": {
    "id": "u6QfphTxVsxF"
   },
   "source": [
    "**1) 데이터 읽어오기**"
   ]
  },
  {
   "cell_type": "code",
   "execution_count": null,
   "metadata": {
    "colab": {
     "base_uri": "https://localhost:8080/",
     "height": 363
    },
    "executionInfo": {
     "elapsed": 5,
     "status": "ok",
     "timestamp": 1726806060338,
     "user": {
      "displayName": "Jangrae Lee",
      "userId": "08475661575434032088"
     },
     "user_tz": -540
    },
    "id": "SOiVUXk_nlEl",
    "outputId": "4cc63747-7164-481d-a815-270fa4bd988f"
   },
   "outputs": [],
   "source": [
    "# 서울 인구정보 읽어오기 #1\n",
    "path = 'https://raw.githubusercontent.com/Jangrae/csv/master/seoul_pop_h01.csv'\n",
    "pop01 = pd.read_csv(path, index_col='year')\n",
    "pop01.index.name = None\n",
    "\n",
    "# 확인\n",
    "pop01.head(10)"
   ]
  },
  {
   "cell_type": "code",
   "execution_count": null,
   "metadata": {
    "colab": {
     "base_uri": "https://localhost:8080/",
     "height": 363
    },
    "executionInfo": {
     "elapsed": 864,
     "status": "ok",
     "timestamp": 1726806061199,
     "user": {
      "displayName": "Jangrae Lee",
      "userId": "08475661575434032088"
     },
     "user_tz": -540
    },
    "id": "9w2LWwOzVaAa",
    "outputId": "ddb6fb0b-1e41-41d8-8d6d-e1f31da87f76"
   },
   "outputs": [],
   "source": [
    "# 서울 인구정보 읽어오기 #2\n",
    "path = 'https://raw.githubusercontent.com/Jangrae/csv/master/seoul_pop_h02.csv'\n",
    "pop02 = pd.read_csv(path, index_col='year')\n",
    "pop02.index.name = None\n",
    "\n",
    "# 확인\n",
    "pop02.head(10)"
   ]
  },
  {
   "cell_type": "markdown",
   "metadata": {
    "id": "e2QtLRzgJSfv"
   },
   "source": [
    "**2) 데이터프레임 합치기**\n",
    "\n",
    "- 이제 **concat()** 함수를 사용해 두 데이터프레임을 합쳐봅니다.\n",
    "- 가로로 합치므로 **axis=1** 옵션을 지정합니다.\n",
    "- join='outer'는 기본 옵션값이므로 생략이 가능합니다."
   ]
  },
  {
   "cell_type": "code",
   "execution_count": null,
   "metadata": {
    "colab": {
     "base_uri": "https://localhost:8080/",
     "height": 363
    },
    "executionInfo": {
     "elapsed": 11,
     "status": "ok",
     "timestamp": 1726806061199,
     "user": {
      "displayName": "Jangrae Lee",
      "userId": "08475661575434032088"
     },
     "user_tz": -540
    },
    "id": "e2JTK2AzJPvI",
    "outputId": "e8ef44a1-b17c-4212-f285-372388f13235"
   },
   "outputs": [],
   "source": [
    "# 모든 열 합치기\n",
    "pop = pd.concat([pop01, pop02], join='outer', axis=1)\n",
    "\n",
    "# 확인\n",
    "pop.head(10)"
   ]
  },
  {
   "cell_type": "markdown",
   "metadata": {
    "id": "xgfGAfFfJkYq"
   },
   "source": [
    "- pop02 데이터프레임에는 1981~1984년 데이터가 없어 합쳐진 결과에 결측치가 생깁니다.\n",
    "- join='inner' 옵션을 지정하면 매핑되지 못한 행은 제외됩니다."
   ]
  },
  {
   "cell_type": "code",
   "execution_count": null,
   "metadata": {
    "colab": {
     "base_uri": "https://localhost:8080/",
     "height": 363
    },
    "executionInfo": {
     "elapsed": 12,
     "status": "ok",
     "timestamp": 1726806061200,
     "user": {
      "displayName": "Jangrae Lee",
      "userId": "08475661575434032088"
     },
     "user_tz": -540
    },
    "id": "QG_IsO1nI7lt",
    "outputId": "4ac35390-2dbe-4b27-b997-6ceddafa9b57"
   },
   "outputs": [],
   "source": [
    "# 모든 열 합치기\n",
    "pop = pd.concat([pop01, pop02], join='inner', axis=1)\n",
    "\n",
    "# 확인\n",
    "pop.head(10)"
   ]
  },
  {
   "cell_type": "markdown",
   "metadata": {
    "id": "FALUn2QYJ6r_"
   },
   "source": [
    "### 4.5.2.세로로 합치기\n",
    "\n",
    "\n",
    "- **axis=0** 옵션을 지정해 세로로 합칠 수 있습니다.(기본값)"
   ]
  },
  {
   "cell_type": "markdown",
   "metadata": {
    "id": "PSmjf_uLMWGw"
   },
   "source": [
    "<img src='https://raw.githubusercontent.com/Jangrae/img/master/concat_ax0.png' width=450, align=\"left\"/>"
   ]
  },
  {
   "cell_type": "markdown",
   "metadata": {
    "id": "c6OmWbzqJ6sA"
   },
   "source": [
    "**1) 데이터 읽어오기**\n"
   ]
  },
  {
   "cell_type": "code",
   "execution_count": null,
   "metadata": {
    "colab": {
     "base_uri": "https://localhost:8080/",
     "height": 363
    },
    "executionInfo": {
     "elapsed": 11,
     "status": "ok",
     "timestamp": 1726806061200,
     "user": {
      "displayName": "Jangrae Lee",
      "userId": "08475661575434032088"
     },
     "user_tz": -540
    },
    "id": "z7r8xxi8J6sC",
    "outputId": "5e58d3de-a9e7-4a73-c0a3-1ef0078dc9aa"
   },
   "outputs": [],
   "source": [
    "# 서울 인구정보 읽어오기 #1\n",
    "path = 'https://raw.githubusercontent.com/Jangrae/csv/master/seoul_pop_v01.csv'\n",
    "pop01 = pd.read_csv(path)\n",
    "\n",
    "# 확인\n",
    "pop01.head(10)"
   ]
  },
  {
   "cell_type": "code",
   "execution_count": null,
   "metadata": {
    "colab": {
     "base_uri": "https://localhost:8080/",
     "height": 363
    },
    "executionInfo": {
     "elapsed": 10,
     "status": "ok",
     "timestamp": 1726806061200,
     "user": {
      "displayName": "Jangrae Lee",
      "userId": "08475661575434032088"
     },
     "user_tz": -540
    },
    "id": "zN7wOKMwJ6sS",
    "outputId": "d307487a-484d-4091-f805-76c5c2f12124"
   },
   "outputs": [],
   "source": [
    "# 서울 인구정보 읽어오기 #2\n",
    "path = 'https://raw.githubusercontent.com/Jangrae/csv/master/seoul_pop_v02.csv'\n",
    "pop02 = pd.read_csv(path)\n",
    "\n",
    "# 확인\n",
    "pop02.head(10)"
   ]
  },
  {
   "cell_type": "markdown",
   "metadata": {
    "id": "5EinAPQPJ6sT"
   },
   "source": [
    "**2) 데이터프레임 합치기**\n",
    "\n",
    "- 이제 **concat()** 함수를 사용해 두 데이터프레임을 합쳐봅니다.\n",
    "- 세로로 합치므로 **axis=0** 옵션을 지정하거나 생략합니다."
   ]
  },
  {
   "cell_type": "code",
   "execution_count": null,
   "metadata": {
    "colab": {
     "base_uri": "https://localhost:8080/",
     "height": 363
    },
    "executionInfo": {
     "elapsed": 10,
     "status": "ok",
     "timestamp": 1726806061200,
     "user": {
      "displayName": "Jangrae Lee",
      "userId": "08475661575434032088"
     },
     "user_tz": -540
    },
    "id": "M1pucV1cJ6sT",
    "outputId": "0bfb5ae6-e8f3-42de-afda-7420c5b8e493"
   },
   "outputs": [],
   "source": [
    "# 모든 행 합치기\n",
    "pop = pd.concat([pop01, pop02], axis=0)\n",
    "\n",
    "# 확인\n",
    "pop.head(10)"
   ]
  },
  {
   "cell_type": "markdown",
   "metadata": {
    "id": "R-qgH4Npk2CB"
   },
   "source": [
    "- 세로로 합해지면 인덱스 값이 중복될 수 있으므로 인덱스를 초기화합니다."
   ]
  },
  {
   "cell_type": "code",
   "execution_count": null,
   "metadata": {
    "colab": {
     "base_uri": "https://localhost:8080/",
     "height": 363
    },
    "executionInfo": {
     "elapsed": 9,
     "status": "ok",
     "timestamp": 1726806061200,
     "user": {
      "displayName": "Jangrae Lee",
      "userId": "08475661575434032088"
     },
     "user_tz": -540
    },
    "id": "WFLv7qCpktak",
    "outputId": "f349f627-6ac3-4949-ef3b-b76ddc04c90c"
   },
   "outputs": [],
   "source": [
    "# 인덱스 초기화\n",
    "pop.reset_index(drop=True, inplace=True)\n",
    "\n",
    "# 확인\n",
    "pop.head(10)"
   ]
  },
  {
   "cell_type": "markdown",
   "metadata": {
    "id": "naoHbouH4-uf"
   },
   "source": [
    "**3) 참고: 인구 변화량 시각화**\n",
    "\n",
    "- 인구 변화량을 간단히 시각화 해봅니다."
   ]
  },
  {
   "cell_type": "code",
   "execution_count": null,
   "metadata": {
    "colab": {
     "base_uri": "https://localhost:8080/",
     "height": 430
    },
    "executionInfo": {
     "elapsed": 848,
     "status": "ok",
     "timestamp": 1726806062039,
     "user": {
      "displayName": "Jangrae Lee",
      "userId": "08475661575434032088"
     },
     "user_tz": -540
    },
    "id": "BPDPtal25ItW",
    "outputId": "2afa602f-cd96-492c-c6a5-c6d4e7ded20c"
   },
   "outputs": [],
   "source": [
    "# 라이브러리 불러오기\n",
    "import matplotlib.pyplot as plt\n",
    "\n",
    "# 시각화\n",
    "plt.plot(pop['year'], pop['k_male'])\n",
    "plt.show()"
   ]
  },
  {
   "cell_type": "markdown",
   "metadata": {
    "id": "4I9g3Rk05pUk"
   },
   "source": [
    "- y축에 여러 값을 표시할 수 있습니다. 이때는 범례를 표시하는 것이 좋습니다."
   ]
  },
  {
   "cell_type": "code",
   "execution_count": null,
   "metadata": {
    "colab": {
     "base_uri": "https://localhost:8080/",
     "height": 430
    },
    "executionInfo": {
     "elapsed": 5,
     "status": "ok",
     "timestamp": 1726806062039,
     "user": {
      "displayName": "Jangrae Lee",
      "userId": "08475661575434032088"
     },
     "user_tz": -540
    },
    "id": "JeL3agTo5Wd1",
    "outputId": "5b5b18c5-62dc-4968-fcbc-e94503222604"
   },
   "outputs": [],
   "source": [
    "# 시각화\n",
    "plt.plot(pop['year'], pop[['k_male', 'k_female']])\n",
    "plt.legend(['k_male', 'k_female'])\n",
    "plt.show()"
   ]
  },
  {
   "cell_type": "markdown",
   "metadata": {
    "id": "0Cq3lmVb5oj2"
   },
   "source": [
    "## 4.6.데이터프레임 조인(Merge)\n",
    "\n",
    "- **merge()** 함수를 사용 두 데이터프레임을 지정한 키 값을 기준으로 병합할 수 있습니다."
   ]
  },
  {
   "cell_type": "markdown",
   "metadata": {
    "id": "KqOHu2W4C_0R"
   },
   "source": [
    "<img src='https://raw.githubusercontent.com/Jangrae/img/master/join.png' width=600, align=\"left\"/>"
   ]
  },
  {
   "cell_type": "markdown",
   "metadata": {
    "id": "npocTmMLLuQj"
   },
   "source": [
    "### 4.6.1.데이터 읽어오기"
   ]
  },
  {
   "cell_type": "code",
   "execution_count": null,
   "metadata": {
    "colab": {
     "base_uri": "https://localhost:8080/",
     "height": 363
    },
    "executionInfo": {
     "elapsed": 502,
     "status": "ok",
     "timestamp": 1726806062537,
     "user": {
      "displayName": "Jangrae Lee",
      "userId": "08475661575434032088"
     },
     "user_tz": -540
    },
    "id": "WGSai17VLuQ6",
    "outputId": "f3c33cde-9301-43ff-d5f0-f79cb1267fd4"
   },
   "outputs": [],
   "source": [
    "# 서울 인구정보 읽어오기 #1\n",
    "path = 'https://raw.githubusercontent.com/Jangrae/csv/master/seoul_pop_h01.csv'\n",
    "pop01 = pd.read_csv(path)\n",
    "\n",
    "# 확인\n",
    "pop01.head(10)"
   ]
  },
  {
   "cell_type": "code",
   "execution_count": null,
   "metadata": {
    "colab": {
     "base_uri": "https://localhost:8080/",
     "height": 363
    },
    "executionInfo": {
     "elapsed": 5,
     "status": "ok",
     "timestamp": 1726806062537,
     "user": {
      "displayName": "Jangrae Lee",
      "userId": "08475661575434032088"
     },
     "user_tz": -540
    },
    "id": "_nR7Xni4LuQ7",
    "outputId": "968b4644-c9a1-4346-b148-14703562f6d1"
   },
   "outputs": [],
   "source": [
    "# 서울 인구정보 읽어오기 #2\n",
    "path = 'https://raw.githubusercontent.com/Jangrae/csv/master/seoul_pop_h02.csv'\n",
    "pop02 = pd.read_csv(path)\n",
    "\n",
    "# 확인\n",
    "pop02.head(10)"
   ]
  },
  {
   "cell_type": "markdown",
   "metadata": {
    "id": "6DbFlvK6olV4"
   },
   "source": [
    "### 4.6.2.inner 조인\n",
    "\n",
    "- 같은 이름의 열이 있으면 on 옵션을 지정하지 않아도 그 열을 기준으로 조인됩니다.\n",
    "- 그래도 기준 열을 명시적으로 지정해 주기를 권고합니다.\n",
    "- how='inner' 옵션은 기본 옵션값이므로 생략할 수 있습니다."
   ]
  },
  {
   "cell_type": "code",
   "execution_count": null,
   "metadata": {
    "colab": {
     "base_uri": "https://localhost:8080/",
     "height": 363
    },
    "executionInfo": {
     "elapsed": 4,
     "status": "ok",
     "timestamp": 1726806062537,
     "user": {
      "displayName": "Jangrae Lee",
      "userId": "08475661575434032088"
     },
     "user_tz": -540
    },
    "id": "j5DGezR_GTc6",
    "outputId": "5fa3b98a-5449-498a-ebc3-e18859642eee"
   },
   "outputs": [],
   "source": [
    "# 조인\n",
    "pop = pd.merge(pop01, pop02, on='year', how='inner')\n",
    "\n",
    "# 확인\n",
    "pop.head(10)"
   ]
  },
  {
   "cell_type": "markdown",
   "metadata": {
    "id": "esr7F4UiMD6I"
   },
   "source": [
    "### 4.6.3.outer 조인\n",
    "\n",
    "- how='outer' 옵션을 지정합니다."
   ]
  },
  {
   "cell_type": "code",
   "execution_count": null,
   "metadata": {
    "colab": {
     "base_uri": "https://localhost:8080/",
     "height": 363
    },
    "executionInfo": {
     "elapsed": 4,
     "status": "ok",
     "timestamp": 1726806062537,
     "user": {
      "displayName": "Jangrae Lee",
      "userId": "08475661575434032088"
     },
     "user_tz": -540
    },
    "id": "Zlbcjbb8MD6L",
    "outputId": "3d6fd940-3de4-49a9-b28c-979041c0f151"
   },
   "outputs": [],
   "source": [
    "# 조인\n",
    "pop = pd.merge(pop01, pop02, on='year',  how='outer')\n",
    "\n",
    "# 확인\n",
    "pop.head(10)"
   ]
  },
  {
   "cell_type": "markdown",
   "metadata": {
    "id": "yohTkqw2ex7e"
   },
   "source": [
    "<img src='https://raw.githubusercontent.com/jangrae/img/master/practice_30.png' width=120 align=\"left\"/>"
   ]
  },
  {
   "cell_type": "markdown",
   "metadata": {
    "id": "swByQenKUAXS"
   },
   "source": [
    "[문1] 다음 요구사항에 맞게 순서대로 구문을 작성하고 확인하세요.\n",
    "\n",
    "- 1-1) pandas 라이브러리를 pd 별칭을 주어 불러오세요.\n",
    "- 1-2) 다음 경로의 파일들을 불러와 **pop01, pop02, pop03** 데이터프레임을 만드세요.\n",
    "    - 단, read_csv() 함수 사용시  index_col='year' 옵션을 지정하세요.\n",
    "    - 파일 경로: 'https://raw.githubusercontent.com/Jangrae/csv/master/seoul_pop_h01.csv'    \n",
    "    - 파일 경로: 'https://raw.githubusercontent.com/Jangrae/csv/master/seoul_pop_h02.csv'\n",
    "    - 파일 경로: 'https://raw.githubusercontent.com/Jangrae/csv/master/seoul_pop_h03.csv'\n",
    "- 1-3) 세 개의 데이터프레임을 outer 방식으로 연결해 pop 데이터프레임을 만드세요.\n",
    "- 1-4) pop 데이터프레임 인덱스를 초기화 하세요. 단 기존 인덱스 값을 버리지 마세요."
   ]
  },
  {
   "cell_type": "code",
   "execution_count": null,
   "metadata": {
    "executionInfo": {
     "elapsed": 627,
     "status": "ok",
     "timestamp": 1709693921043,
     "user": {
      "displayName": "Jangrae Lee",
      "userId": "08475661575434032088"
     },
     "user_tz": -540
    },
    "id": "zFm_DPTaUdqQ"
   },
   "outputs": [],
   "source": [
    "\n"
   ]
  },
  {
   "cell_type": "markdown",
   "metadata": {
    "id": "WAGgvzDv2klV"
   },
   "source": [
    "[문2] pop 데이터프레임 상위 10개 행을 확인하세요."
   ]
  },
  {
   "cell_type": "code",
   "execution_count": null,
   "metadata": {
    "colab": {
     "base_uri": "https://localhost:8080/",
     "height": 363
    },
    "executionInfo": {
     "elapsed": 7,
     "status": "ok",
     "timestamp": 1709693921043,
     "user": {
      "displayName": "Jangrae Lee",
      "userId": "08475661575434032088"
     },
     "user_tz": -540
    },
    "id": "vJwQEeOt2fSD",
    "outputId": "5bf16d4d-1e0d-4e9d-c695-195764de5fab"
   },
   "outputs": [],
   "source": [
    "\n"
   ]
  },
  {
   "cell_type": "markdown",
   "metadata": {
    "id": "lkEBQNhC75Nj"
   },
   "source": [
    "[문3] 결측치가 어느 정도 존재하는 지 확인하세요."
   ]
  },
  {
   "cell_type": "code",
   "execution_count": null,
   "metadata": {
    "colab": {
     "base_uri": "https://localhost:8080/"
    },
    "executionInfo": {
     "elapsed": 5,
     "status": "ok",
     "timestamp": 1709693921043,
     "user": {
      "displayName": "Jangrae Lee",
      "userId": "08475661575434032088"
     },
     "user_tz": -540
    },
    "id": "Agb9g-487zld",
    "outputId": "5207c4fc-8384-4480-87ba-5e32a176ba13"
   },
   "outputs": [],
   "source": [
    "\n"
   ]
  },
  {
   "cell_type": "markdown",
   "metadata": {
    "id": "G2d9WL1sjDA4"
   },
   "source": [
    "[문4] 모든 결측치는 뒤에 오는 값으로 채우세요."
   ]
  },
  {
   "cell_type": "code",
   "execution_count": null,
   "metadata": {
    "executionInfo": {
     "elapsed": 4,
     "status": "ok",
     "timestamp": 1709693921043,
     "user": {
      "displayName": "Jangrae Lee",
      "userId": "08475661575434032088"
     },
     "user_tz": -540
    },
    "id": "yQ7NKRPcjDA8",
    "scrolled": true
   },
   "outputs": [],
   "source": [
    "\n"
   ]
  },
  {
   "cell_type": "markdown",
   "metadata": {
    "id": "axszLBfc-HoH"
   },
   "source": [
    "[문5] 결측치가 남아 있는지 확인하세요."
   ]
  },
  {
   "cell_type": "code",
   "execution_count": null,
   "metadata": {
    "colab": {
     "base_uri": "https://localhost:8080/"
    },
    "executionInfo": {
     "elapsed": 3,
     "status": "ok",
     "timestamp": 1709693921043,
     "user": {
      "displayName": "Jangrae Lee",
      "userId": "08475661575434032088"
     },
     "user_tz": -540
    },
    "id": "RWlMOEde-HoQ",
    "outputId": "2fe28dce-b43d-40f6-fe97-bdb8cb35cd07"
   },
   "outputs": [],
   "source": [
    "\n"
   ]
  },
  {
   "cell_type": "markdown",
   "metadata": {
    "id": "C_HPBRxHA56R"
   },
   "source": [
    "[문6] 다음 요구사항에 맞게 순서대로 구문을 작성하고 확인하세요.\n",
    "\n",
    "- 6-1) pandas 라이브러리를 pd 별칭을 주어 불러오세요.\n",
    "- 6-2) 다음 경로의 파일들을 불러와 **pop01, pop02, pop03** 데이터프레임을 만드세요.\n",
    "    - 파일 경로: 'https://raw.githubusercontent.com/Jangrae/csv/master/seoul_pop_h01.csv'    \n",
    "    - 파일 경로: 'https://raw.githubusercontent.com/Jangrae/csv/master/seoul_pop_h02.csv'\n",
    "    - 파일 경로: 'https://raw.githubusercontent.com/Jangrae/csv/master/seoul_pop_h03.csv'\n",
    "- 6-3) 세 개의 데이터프레임을 inner 방식으로 **조인(merge)**해 pop 데이터프레임을 만드세요."
   ]
  },
  {
   "cell_type": "code",
   "execution_count": null,
   "metadata": {
    "executionInfo": {
     "elapsed": 415,
     "status": "ok",
     "timestamp": 1709693921455,
     "user": {
      "displayName": "Jangrae Lee",
      "userId": "08475661575434032088"
     },
     "user_tz": -540
    },
    "id": "914EtI97A56Y"
   },
   "outputs": [],
   "source": [
    "\n"
   ]
  },
  {
   "cell_type": "markdown",
   "metadata": {
    "id": "V0-wQmv0vNr4"
   },
   "source": [
    "[문7] pop 데이터프레임 상위 10개 행을 확인하세요."
   ]
  },
  {
   "cell_type": "code",
   "execution_count": null,
   "metadata": {
    "colab": {
     "base_uri": "https://localhost:8080/",
     "height": 363
    },
    "executionInfo": {
     "elapsed": 4,
     "status": "ok",
     "timestamp": 1709693921455,
     "user": {
      "displayName": "Jangrae Lee",
      "userId": "08475661575434032088"
     },
     "user_tz": -540
    },
    "id": "pBM99bMivNr6",
    "outputId": "9696e23c-afc8-4b8f-fc2d-932d98392a98"
   },
   "outputs": [],
   "source": [
    "\n"
   ]
  },
  {
   "cell_type": "markdown",
   "metadata": {
    "id": "QfgvRcTvEIfQ"
   },
   "source": [
    "[문8] 다음 요구사항에 맞게 순서대로 구문을 작성하고 확인하세요.\n",
    "\n",
    "- 8-1) 다음 공식에 따라 pop 데이터프레임에 k_total, f_total, male, female, total 열을 추가하세요.\n",
    "    - k_total = k_male + k_female\n",
    "    - f_total = f_male + f_female\n",
    "    - male = k_male + f_male\n",
    "    - female = k_female + f_female\n",
    "    - total = k_total + f_total\n",
    "- 8-2) year, total, male, female 열만 추출해 pop_sum 데이터프레임을 선언하세요.\n",
    "- 8-3) pop_sum 데이터프레임 상위 10개 행을 조회하세요."
   ]
  },
  {
   "cell_type": "code",
   "execution_count": null,
   "metadata": {
    "colab": {
     "base_uri": "https://localhost:8080/",
     "height": 363
    },
    "executionInfo": {
     "elapsed": 3,
     "status": "ok",
     "timestamp": 1709693921455,
     "user": {
      "displayName": "Jangrae Lee",
      "userId": "08475661575434032088"
     },
     "user_tz": -540
    },
    "id": "_2UJfoL4Deyq",
    "outputId": "66c80c62-1b8d-4017-9f10-dc2a4dc2e884"
   },
   "outputs": [],
   "source": [
    "\n"
   ]
  },
  {
   "cell_type": "markdown",
   "metadata": {
    "id": "VTlu-bdSfMYw"
   },
   "source": [
    "<img src='https://raw.githubusercontent.com/jangrae/img/master/practice_30e.png' width=45 align=\"left\"/>"
   ]
  }
 ],
 "metadata": {
  "colab": {
   "provenance": []
  },
  "kernelspec": {
   "display_name": "Python 3",
   "language": "python",
   "name": "python3"
  },
  "language_info": {
   "codemirror_mode": {
    "name": "ipython",
    "version": 3
   },
   "file_extension": ".py",
   "mimetype": "text/x-python",
   "name": "python",
   "nbconvert_exporter": "python",
   "pygments_lexer": "ipython3",
   "version": "3.12.7"
  }
 },
 "nbformat": 4,
 "nbformat_minor": 4
}
