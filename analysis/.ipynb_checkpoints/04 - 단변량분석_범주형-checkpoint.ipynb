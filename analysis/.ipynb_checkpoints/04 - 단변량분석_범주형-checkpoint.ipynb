{
 "cells": [
  {
   "cell_type": "markdown",
   "metadata": {
    "id": "b3TDAdnvnSbh"
   },
   "source": [
    "<center><img src='https://raw.githubusercontent.com/Jangrae/img/master/title.png' width=500/></center>\n"
   ]
  },
  {
   "cell_type": "markdown",
   "metadata": {
    "id": "7trDmFHx5c-f"
   },
   "source": [
    "# **단변량 분석 ② - 범주형**"
   ]
  },
  {
   "cell_type": "markdown",
   "metadata": {
    "id": "qXUBfCONOdID"
   },
   "source": [
    "- 범주형 변수는 정해진 몇 개의 값이 여럿 모여있는 변수입니다.\n",
    "- 예를 들어 Titanic 데이터의 Pclass 변수는 객실 등급 1, 2, 3이 범줏값으로 포함되어 있습니다.\n",
    "- 이런 범주형 변수는 범줏값 각각이 몇 개씩 포함되어 있는지, 전체에서 각각이 차지하는 비율은 어떤지가 궁금합니다.\n",
    "- 즉 범주형 변수안에 포함된 범숫값 각각의 **빈도수**와 **비율**이 분석 대상이 됩니다."
   ]
  },
  {
   "cell_type": "markdown",
   "metadata": {
    "id": "DRI1GtQE0Wiz"
   },
   "source": [
    "<img src='https://raw.githubusercontent.com/Jangrae/img/master/var_02.png' width=600 align='left'/>"
   ]
  },
  {
   "cell_type": "markdown",
   "metadata": {
    "id": "IhrRKU-FlTVm"
   },
   "source": [
    "## **1. 환경준비**\n",
    "\n",
    "- 사용할 라이브러리와 분석 대상 데이터를 불러옵니다."
   ]
  },
  {
   "cell_type": "code",
   "execution_count": null,
   "metadata": {
    "id": "4YlBbXAn_jxR"
   },
   "outputs": [],
   "source": [
    "import numpy as np\n",
    "import pandas as pd\n",
    "import matplotlib.pyplot as plt\n",
    "import seaborn as sns\n",
    "import warnings\n",
    "\n",
    "warnings.filterwarnings(action='ignore')\n",
    "%config InlineBackend.figure_format='retina'\n",
    "plt.rcParams['figure.figsize'] = (6, 4)"
   ]
  },
  {
   "cell_type": "code",
   "execution_count": null,
   "metadata": {
    "id": "GGiShK-RqnGf"
   },
   "outputs": [],
   "source": [
    "# Titanic 데이터\n",
    "path = 'https://raw.githubusercontent.com/Jangrae/csv/master/titanic.1.csv'\n",
    "titanic = pd.read_csv(path)\n",
    "titanic.head()"
   ]
  },
  {
   "cell_type": "markdown",
   "metadata": {
    "id": "mhAsPhn8lgnn"
   },
   "source": [
    "**📋 데이터 정보**\n",
    "\n",
    "- Survived: 생존 여부(1:생존, 0:사망)\n",
    "- Pclass: 객실 등급(1:1등급, 2:2등급, 3:3등급)\n",
    "- Title: 호칭(Mr, Mrs, Miss, Master, Others)\n",
    "- Sex: 성별(male, female)\n",
    "- Age: 나이\n",
    "- Fare: 운임($)\n",
    "- Embarked: 승선 지역(S:Southampton, C:Cherbourg, Q:Queenstown)\n",
    "  - 사우샘프턴(영국), 셰르부르(프랑스), 퀸스타운(아일랜드)\n",
    "- AgeGroup: 연령대\n",
    "- Family: 같이 탑승한 가족 수\n",
    "- Mother: 엄마 여부"
   ]
  },
  {
   "cell_type": "markdown",
   "metadata": {
    "id": "h1wBK63N7OvI"
   },
   "source": [
    "## **2. 수치화**\n",
    "\n",
    "- 범주형 변수는 범주별 빈도수와 비율을 기초 통계량을 통해 확인합니다.\n",
    "- Pandas의 **value_counts()** 메소드는 범주형 변수에 포함된 범줏값 각각의 개수를 카운트 해 줍니다.\n",
    "- **normalize=True** 옵션을 지정해 개수가 아닌 비율을 확인할 수 있습니다."
   ]
  },
  {
   "cell_type": "code",
   "execution_count": null,
   "metadata": {
    "id": "LKQYHsYN-14z"
   },
   "outputs": [],
   "source": [
    "print(titanic['Pclass'].value_counts())\n",
    "print('-' * 28)\n",
    "print(titanic['Pclass'].value_counts(normalize=True))"
   ]
  },
  {
   "cell_type": "markdown",
   "metadata": {
    "id": "5yvn-evr2TpT"
   },
   "source": [
    "**🔍 해석**\n",
    "    \n",
    "- 3등급 객실 탑승객이 전체에서 55%를 차지합니다.\n",
    "- 1등급 객실 탑승객이 24%, 2등급 객실 탑승객이 20.7%를 차지합니다.\n",
    "\n"
   ]
  },
  {
   "cell_type": "code",
   "execution_count": null,
   "metadata": {
    "id": "RuUh8ldh_urh"
   },
   "outputs": [],
   "source": [
    "print(titanic['Embarked'].value_counts())\n",
    "print('-' * 28)\n",
    "print(titanic['Embarked'].value_counts(normalize=True))"
   ]
  },
  {
   "cell_type": "code",
   "execution_count": null,
   "metadata": {
    "id": "HlEHcvYH_nb5"
   },
   "outputs": [],
   "source": [
    "print(titanic['Survived'].value_counts())\n",
    "print('-' * 28)\n",
    "print(titanic['Survived'].value_counts(normalize=True))"
   ]
  },
  {
   "cell_type": "markdown",
   "metadata": {
    "id": "s2PS8ALfOuYn"
   },
   "source": [
    "<img src='https://raw.githubusercontent.com/jangrae/img/master/practice_20.png' width=120 align=\"left\"/>"
   ]
  },
  {
   "cell_type": "markdown",
   "metadata": {
    "id": "1P85A3o3OuYn"
   },
   "source": [
    "다음 변수들의 빈도수와 비율을 확인하세요."
   ]
  },
  {
   "cell_type": "markdown",
   "metadata": {
    "id": "UmoodvLqOuYn"
   },
   "source": [
    "**1️⃣ Title**"
   ]
  },
  {
   "cell_type": "code",
   "execution_count": null,
   "metadata": {
    "id": "UQ7B-8_fOuYn"
   },
   "outputs": [],
   "source": [
    "\n"
   ]
  },
  {
   "cell_type": "markdown",
   "metadata": {
    "id": "NUGOL15YOuYo"
   },
   "source": [
    "**2️⃣ Sex**"
   ]
  },
  {
   "cell_type": "code",
   "execution_count": null,
   "metadata": {
    "id": "LyilMxpfOuYo"
   },
   "outputs": [],
   "source": [
    "\n"
   ]
  },
  {
   "cell_type": "markdown",
   "metadata": {
    "id": "Rnah6e7zOuYo"
   },
   "source": [
    "**3️⃣ AgeGroup**"
   ]
  },
  {
   "cell_type": "code",
   "execution_count": null,
   "metadata": {
    "id": "GOnN59R0OuYo"
   },
   "outputs": [],
   "source": [
    "\n"
   ]
  },
  {
   "cell_type": "markdown",
   "metadata": {
    "id": "QdVZi4PIOuYp"
   },
   "source": [
    "<img src='https://raw.githubusercontent.com/jangrae/img/master/practice_20e.png' width=45 align=\"left\"/>"
   ]
  },
  {
   "cell_type": "markdown",
   "metadata": {
    "id": "uvkAWxOX9us8"
   },
   "source": [
    "## **3. 시각화**\n",
    "\n",
    "- 범주형 변수는 Bar Plot과 Pie Chart를 사용해 시각화 할 수 있습니다.\n",
    "- 기초 통계량보다 좀더 쉽게 데이터를 이해할 수 있습니다."
   ]
  },
  {
   "cell_type": "markdown",
   "metadata": {
    "id": "rDXTimrr_90B"
   },
   "source": [
    "### **3.1. Bar Plot**\n",
    "\n",
    "- 범주 이름과 값이 필요하므로 집계 작업이 선행되어야 합니다.\n",
    "- 판다스의 **value_counts()** 를 사용하여 집계합니다.\n",
    "    - 집계 결과의 index: 범줏값 이름\n",
    "    - 집계 결과의 values: 값\n",
    "- 집계 결과를 **Matplotlib**의 **bar()** 함수로 시각화합니다."
   ]
  },
  {
   "cell_type": "markdown",
   "metadata": {
    "id": "W5ZSjuZCuyK8"
   },
   "source": [
    "- titanic 데이터프레임의 Pclass 변수에 포함된 범줏값 각각의 개수를 집계합니다."
   ]
  },
  {
   "cell_type": "code",
   "execution_count": null,
   "metadata": {
    "id": "Rjysm4ibE6fd"
   },
   "outputs": [],
   "source": [
    "temp = titanic['Pclass'].value_counts()\n",
    "print(temp.index)\n",
    "print(temp.values)"
   ]
  },
  {
   "cell_type": "markdown",
   "metadata": {
    "id": "dOuo8Vy4vS3t"
   },
   "source": [
    "- 위 집계 결과를 bar() 함수로 시각화합니다.\n",
    "- x축이 범줏값 이름, y축이 비교할 값입니다."
   ]
  },
  {
   "cell_type": "code",
   "execution_count": null,
   "metadata": {
    "id": "ogo4QMHHATZJ"
   },
   "outputs": [],
   "source": [
    "temp = titanic['Pclass'].value_counts()\n",
    "\n",
    "plt.bar(x=temp.index, height=temp.values)\n",
    "plt.show()"
   ]
  },
  {
   "cell_type": "markdown",
   "metadata": {
    "id": "5ZsmjDOzFB02"
   },
   "source": [
    "- **Seaborn**의 **countplot()** 함수를 사용하면 집계 과정 없이도 Bar Plot을 그릴 수 있습니다."
   ]
  },
  {
   "cell_type": "code",
   "execution_count": null,
   "metadata": {
    "id": "61LM30xvFEg1"
   },
   "outputs": [],
   "source": [
    "sns.countplot(x='Pclass', data=titanic)\n",
    "plt.show()"
   ]
  },
  {
   "cell_type": "code",
   "execution_count": null,
   "metadata": {
    "id": "Wxy_-ALkAeF0"
   },
   "outputs": [],
   "source": [
    "sns.countplot(x='Embarked', data=titanic)\n",
    "plt.show()"
   ]
  },
  {
   "cell_type": "markdown",
   "metadata": {
    "id": "kFdPB7TnROST"
   },
   "source": [
    "<img src='https://raw.githubusercontent.com/jangrae/img/master/practice_20.png' width=120 align=\"left\"/>"
   ]
  },
  {
   "cell_type": "markdown",
   "metadata": {
    "id": "mfJmGFn3ROSU"
   },
   "source": [
    "다음 변수들의 범줏값과 그 값들의 개수를 Seaborn의 countplot() 함수로 시각화해서 확인하세요."
   ]
  },
  {
   "cell_type": "markdown",
   "metadata": {
    "id": "04PLHqefROSU"
   },
   "source": [
    "**1️⃣ Title**"
   ]
  },
  {
   "cell_type": "code",
   "execution_count": null,
   "metadata": {
    "id": "kTVFAmupROSV"
   },
   "outputs": [],
   "source": [
    "\n"
   ]
  },
  {
   "cell_type": "markdown",
   "metadata": {
    "id": "zrGWoJtVROSV"
   },
   "source": [
    "**2️⃣ Sex**"
   ]
  },
  {
   "cell_type": "code",
   "execution_count": null,
   "metadata": {
    "id": "Nrympx5mROSV"
   },
   "outputs": [],
   "source": [
    "\n"
   ]
  },
  {
   "cell_type": "markdown",
   "metadata": {
    "id": "4wqd7eyLROSW"
   },
   "source": [
    "**3️⃣ AgeGroup**"
   ]
  },
  {
   "cell_type": "code",
   "execution_count": null,
   "metadata": {
    "id": "CEEDCTXUROSW"
   },
   "outputs": [],
   "source": [
    "\n"
   ]
  },
  {
   "cell_type": "markdown",
   "metadata": {
    "id": "xcVgcphvROSW"
   },
   "source": [
    "<img src='https://raw.githubusercontent.com/jangrae/img/master/practice_20e.png' width=45 align=\"left\"/>"
   ]
  },
  {
   "cell_type": "markdown",
   "metadata": {
    "id": "ypCiFedx_hkk"
   },
   "source": [
    "### **3.2. Pie Chart**\n",
    "\n",
    "- 범주별 값의 빈도수가 아닌 비율을 비교할 때는 Pie Chart를 사용합니다.\n",
    "- Pie Chart 역시 집계를 먼저 해야 합니다."
   ]
  },
  {
   "cell_type": "code",
   "execution_count": null,
   "metadata": {
    "id": "kbNvoNKSOdIG"
   },
   "outputs": [],
   "source": [
    "temp = titanic['Pclass'].value_counts()\n",
    "\n",
    "plt.pie(x=temp.values, labels=temp.index, autopct='%.2f%%')\n",
    "plt.show()"
   ]
  },
  {
   "cell_type": "code",
   "execution_count": null,
   "metadata": {
    "id": "FcOtWoUrfjpl"
   },
   "outputs": [],
   "source": [
    "temp = titanic['Embarked'].value_counts()\n",
    "\n",
    "plt.pie(x=temp.values, labels=temp.index, autopct='%.1f%%')\n",
    "plt.show()"
   ]
  },
  {
   "cell_type": "markdown",
   "metadata": {
    "id": "K3WMix48A1ng"
   },
   "source": [
    "- 다음 두 옵션을 사용해 파이의 각도와 방향을 조절해 봅니다.\n",
    "    \n",
    "    - startangle=90: 90도 부터 시작\n",
    "    - counterclock=False: 시계 방향으로"
   ]
  },
  {
   "cell_type": "code",
   "execution_count": null,
   "metadata": {
    "id": "tBml4tvzA13Z"
   },
   "outputs": [],
   "source": [
    "plt.pie(x=temp.values,\n",
    "        labels=temp.index,\n",
    "        autopct='%.2f%%',\n",
    "        startangle=90,\n",
    "        counterclock=False)\n",
    "plt.show()"
   ]
  },
  {
   "cell_type": "markdown",
   "metadata": {
    "id": "nH8-9uLeA7GA"
   },
   "source": [
    "- 다음 두 옵션을 사용해 파이 간격과 그림자를 조절해 봅니다.\n",
    "\n",
    "    - explode=[0.05, 0.05, 0.05]: 중심으로 부터 1, 2, 3을 얼마만큼 띄울지\n",
    "    - shadow=True: 그림자 추가\n",
    "\n"
   ]
  },
  {
   "cell_type": "code",
   "execution_count": null,
   "metadata": {
    "id": "bYso7JIGA8K4"
   },
   "outputs": [],
   "source": [
    "plt.pie(x=temp.values,\n",
    "        labels=temp.index,\n",
    "        autopct='%.2f%%',\n",
    "        startangle=90,\n",
    "        counterclock=False,\n",
    "        explode=[0.05, 0.05, 0.05],\n",
    "        shadow=True)\n",
    "plt.show()"
   ]
  },
  {
   "cell_type": "markdown",
   "metadata": {
    "id": "CcjE4LuOR7MM"
   },
   "source": [
    "<img src='https://raw.githubusercontent.com/jangrae/img/master/practice_20.png' width=120 align=\"left\"/>"
   ]
  },
  {
   "cell_type": "markdown",
   "metadata": {
    "id": "nxWG1lDkR7MN"
   },
   "source": [
    "다음 변수들의 범줏값과 그 값들의 비율을 Matplotlib의 pie() 함수로 시각화해서 확인하세요."
   ]
  },
  {
   "cell_type": "markdown",
   "metadata": {
    "id": "YudBAXyUR7MN"
   },
   "source": [
    "**1️⃣ Title**"
   ]
  },
  {
   "cell_type": "code",
   "execution_count": null,
   "metadata": {
    "id": "gdSlBN0wR7MN"
   },
   "outputs": [],
   "source": [
    "\n"
   ]
  },
  {
   "cell_type": "markdown",
   "metadata": {
    "id": "RIhMluh8R7MO"
   },
   "source": [
    "**2️⃣ Sex**"
   ]
  },
  {
   "cell_type": "code",
   "execution_count": null,
   "metadata": {
    "id": "7AxHxCu8R7MO"
   },
   "outputs": [],
   "source": [
    "\n"
   ]
  },
  {
   "cell_type": "markdown",
   "metadata": {
    "id": "iDDFK4GfR7MP"
   },
   "source": [
    "<img src='https://raw.githubusercontent.com/jangrae/img/master/practice_20e.png' width=45 align=\"left\"/>"
   ]
  }
 ],
 "metadata": {
  "colab": {
   "provenance": []
  },
  "kernelspec": {
   "display_name": "Python 3",
   "language": "python",
   "name": "python3"
  },
  "language_info": {
   "codemirror_mode": {
    "name": "ipython",
    "version": 3
   },
   "file_extension": ".py",
   "mimetype": "text/x-python",
   "name": "python",
   "nbconvert_exporter": "python",
   "pygments_lexer": "ipython3",
   "version": "3.12.7"
  }
 },
 "nbformat": 4,
 "nbformat_minor": 4
}
