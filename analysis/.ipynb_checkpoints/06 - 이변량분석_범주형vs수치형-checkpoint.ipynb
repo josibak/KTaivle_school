{
 "cells": [
  {
   "cell_type": "markdown",
   "metadata": {
    "id": "b3TDAdnvnSbh"
   },
   "source": [
    "<center><img src='https://raw.githubusercontent.com/Jangrae/img/master/title.png' width=500/></center>\n"
   ]
  },
  {
   "cell_type": "markdown",
   "metadata": {
    "id": "lGENlY2r6RCS"
   },
   "source": [
    "# **이변량 분석 ② - 범주형  → 수치형**"
   ]
  },
  {
   "cell_type": "markdown",
   "metadata": {
    "id": "EnlYouStN0Le"
   },
   "source": [
    "\n",
    "- 시각화와 수치화 방법으로 범주형 변수와 수치형 변수 간 관계를 분석합니다."
   ]
  },
  {
   "cell_type": "markdown",
   "metadata": {
    "id": "hynlqeBw0M3n"
   },
   "source": [
    "<img src='https://raw.githubusercontent.com/Jangrae/img/master/two_var_02.png' width=600 align='left'/>"
   ]
  },
  {
   "cell_type": "markdown",
   "metadata": {
    "id": "hmWyNpcSkdIL"
   },
   "source": [
    "<img src='https://raw.githubusercontent.com/Jangrae/img/master/analysis2.png' width=620 align='left'/>"
   ]
  },
  {
   "cell_type": "markdown",
   "metadata": {
    "id": "0SJP-uYxN0Lk"
   },
   "source": [
    "## **1. 환경준비**\n",
    "\n",
    "- 사용할 라이브러리와 분석 대상 데이터를 읽어옵니다."
   ]
  },
  {
   "cell_type": "code",
   "execution_count": null,
   "metadata": {
    "id": "Sma8Fku5N0Ll"
   },
   "outputs": [],
   "source": [
    "import numpy as np\n",
    "import pandas as pd\n",
    "import random as rd\n",
    "import matplotlib.pyplot as plt\n",
    "import seaborn as sns\n",
    "import scipy.stats as spst\n",
    "import warnings\n",
    "\n",
    "warnings.filterwarnings(action='ignore')\n",
    "%config InlineBackend.figure_format = 'retina'\n",
    "plt.rcParams['figure.figsize'] = (6, 4)"
   ]
  },
  {
   "cell_type": "code",
   "execution_count": null,
   "metadata": {
    "id": "si-trqDhN0Lo"
   },
   "outputs": [],
   "source": [
    "# Titanic 데이터\n",
    "path = 'https://raw.githubusercontent.com/Jangrae/csv/master/titanic.csv'\n",
    "titanic = pd.read_csv(path)\n",
    "titanic.head(10)"
   ]
  },
  {
   "cell_type": "code",
   "execution_count": null,
   "metadata": {
    "id": "XDZMdh_zWk44"
   },
   "outputs": [],
   "source": [
    "# Insurance 데이터\n",
    "path = 'https://raw.githubusercontent.com/Jangrae/csv/master/insurance.csv'\n",
    "insurance = pd.read_csv(path)\n",
    "insurance.head(10)"
   ]
  },
  {
   "cell_type": "markdown",
   "metadata": {
    "id": "n0eqOJBAgv_i"
   },
   "source": [
    "## **2. 시각화**\n",
    "\n",
    "- **Seaborn**의 **barplot()** 함수는 범줏값 간의 **평균을 비교**해 표시합니다.\n",
    "- **Seaborn**의 **boxplot()** 함수로 범줏값 간의 **값 분포를 비교**할 수 있습니다."
   ]
  },
  {
   "cell_type": "code",
   "execution_count": null,
   "metadata": {
    "id": "NJQhnVuSBq4c"
   },
   "outputs": [],
   "source": [
    "sns.barplot(x='Survived', y='Age', data=titanic)\n",
    "plt.show()"
   ]
  },
  {
   "cell_type": "code",
   "execution_count": null,
   "metadata": {
    "id": "UukJEX7KAmT8"
   },
   "outputs": [],
   "source": [
    "sns.boxplot(x='Survived', y='Age', data=titanic)\n",
    "plt.show()"
   ]
  },
  {
   "cell_type": "markdown",
   "metadata": {
    "id": "n8sQTkSnh-mG"
   },
   "source": [
    "- **질문:** 생존 여부(Survived) 별 나이(Age) 평균에 차이가 있나요?"
   ]
  },
  {
   "cell_type": "code",
   "execution_count": null,
   "metadata": {
    "id": "-rzaxrydlH5B"
   },
   "outputs": [],
   "source": [
    "#"
   ]
  },
  {
   "cell_type": "code",
   "execution_count": null,
   "metadata": {
    "id": "26UOHdyupy3R"
   },
   "outputs": [],
   "source": [
    "plt.figure(figsize=(8, 3))\n",
    "plt.subplot(1, 2, 1)\n",
    "sns.barplot(x='Pclass', y='Age', data=titanic)\n",
    "plt.subplot(1, 2, 2)\n",
    "sns.boxplot(x='Pclass', y='Age', data=titanic)\n",
    "plt.tight_layout()\n",
    "plt.show()"
   ]
  },
  {
   "cell_type": "markdown",
   "metadata": {
    "id": "UKo2ajIbrDOq"
   },
   "source": [
    "- **질문:**  객실 등급(Pclass)별 나이(Age) 평균에 차이가 있나요?"
   ]
  },
  {
   "cell_type": "code",
   "execution_count": null,
   "metadata": {
    "id": "IEItxvjQWk46"
   },
   "outputs": [],
   "source": [
    "#"
   ]
  },
  {
   "cell_type": "markdown",
   "metadata": {
    "id": "CT3bNdsa9mR3"
   },
   "source": [
    "<img src='https://raw.githubusercontent.com/jangrae/img/master/practice_20.png' width=120 align=\"left\"/>"
   ]
  },
  {
   "cell_type": "markdown",
   "metadata": {
    "id": "L4cXA3pEUlMz"
   },
   "source": [
    "insurance 데이터프레임의 다음 변수들 간의 관계를 barplot(), boxplot() 함수로 확인하세요."
   ]
  },
  {
   "cell_type": "markdown",
   "metadata": {
    "id": "AGKMdzlAD4U8"
   },
   "source": [
    "**1️⃣ sex → charges**"
   ]
  },
  {
   "cell_type": "code",
   "execution_count": null,
   "metadata": {
    "id": "4NVYTleJWk47",
    "scrolled": true
   },
   "outputs": [],
   "source": [
    "\n"
   ]
  },
  {
   "cell_type": "code",
   "execution_count": null,
   "metadata": {
    "id": "NvgFjeLxalW1"
   },
   "outputs": [],
   "source": [
    "\n"
   ]
  },
  {
   "cell_type": "markdown",
   "metadata": {
    "id": "GMVb5R9SWk47"
   },
   "source": [
    "- **질문:**  남녀(sex)별 의료비(charges) 평균에 차이가 있나요?"
   ]
  },
  {
   "cell_type": "code",
   "execution_count": null,
   "metadata": {
    "id": "vJZVJfXlWk47"
   },
   "outputs": [],
   "source": [
    "#"
   ]
  },
  {
   "cell_type": "markdown",
   "metadata": {
    "id": "_7MhYwriD6Pv"
   },
   "source": [
    "**2️⃣ smoker → charges**"
   ]
  },
  {
   "cell_type": "code",
   "execution_count": null,
   "metadata": {
    "id": "3Wg3fFkoDy57",
    "scrolled": true
   },
   "outputs": [],
   "source": [
    "\n"
   ]
  },
  {
   "cell_type": "code",
   "execution_count": null,
   "metadata": {
    "id": "vR4P76K4an2P"
   },
   "outputs": [],
   "source": [
    "\n"
   ]
  },
  {
   "cell_type": "markdown",
   "metadata": {
    "id": "OGEsHK1YWk47"
   },
   "source": [
    "- **질문:**  흡연 여부(smoker)별 의료비(charges) 평균에 차이가 있나요?"
   ]
  },
  {
   "cell_type": "code",
   "execution_count": null,
   "metadata": {
    "id": "cWpnqggcWk47"
   },
   "outputs": [],
   "source": [
    "#"
   ]
  },
  {
   "cell_type": "markdown",
   "metadata": {
    "id": "kJNrhpY1D8Cw"
   },
   "source": [
    "**3️⃣ region → charges**"
   ]
  },
  {
   "cell_type": "code",
   "execution_count": null,
   "metadata": {
    "id": "Fjcj2FR3DyYM"
   },
   "outputs": [],
   "source": [
    "\n"
   ]
  },
  {
   "cell_type": "code",
   "execution_count": null,
   "metadata": {
    "id": "GTIdOjBIaq6v"
   },
   "outputs": [],
   "source": [
    "\n"
   ]
  },
  {
   "cell_type": "markdown",
   "metadata": {
    "id": "DN21T_2EWk48"
   },
   "source": [
    "- **질문:**  지역(region)별 의료비(charges) 평균에 차이가 있나요?"
   ]
  },
  {
   "cell_type": "code",
   "execution_count": null,
   "metadata": {
    "id": "K2mj5nETWk48"
   },
   "outputs": [],
   "source": [
    "#"
   ]
  },
  {
   "cell_type": "markdown",
   "metadata": {
    "id": "z05v04VcOHRf"
   },
   "source": [
    "<img src='https://raw.githubusercontent.com/jangrae/img/master/practice_20e.png' width=45 align=\"left\"/>"
   ]
  },
  {
   "cell_type": "markdown",
   "metadata": {
    "id": "4UHk56yBiSL1"
   },
   "source": [
    "## **3. 수치화**\n",
    "\n",
    "- 이제는 시각화 대신 수치화를 통해 비교해 봅니다.\n",
    "- 다음 두 가지 방법으로 수치화해 확인합니다.\n",
    "    - t-검정(두 범주)\n",
    "    - ANOVA(세 범주 이상)"
   ]
  },
  {
   "cell_type": "markdown",
   "metadata": {
    "id": "GZK2CM-Wim3v"
   },
   "source": [
    "### **3.1. t-검정**\n",
    "\n",
    "- 두 집단의 평균값이 서로 유의하게 다른지를 검정하는 통계적인 방법입니다.\n",
    "- 데이터에 결측치가 있으면 계산이 안되니, notnull() 등으로 결측치를 제외한 데이터를 사용해야 합니다.\n",
    "- **scipy.stats** 라이브러리의 **ttest_ind()** 함수로 t-검정을 수행합니다\n"
   ]
  },
  {
   "cell_type": "markdown",
   "metadata": {
    "id": "VRZ_eMYsE_qm"
   },
   "source": [
    "\n",
    "**📌 t-statistics, t-통계량**\n",
    "- 두 평균의 차이를 표준오차로 나눈 값입니다.\n",
    "- 기본적으로는 두 평균의 차이로 이해해도 좋습니다.\n",
    "- 우리의 가설(대립가설)은 차이가 있다는 것이므로, t-통계량 값이 크던지 작던지 하기를 바랍니다.\n",
    "- 보통, **t-통계량 값이 -2보다 작거나, 2보다 크면 차이가 있다고 봅니다.**"
   ]
  },
  {
   "cell_type": "markdown",
   "metadata": {
    "id": "ByYw3E0w7EB1"
   },
   "source": [
    "**📌 p-value**\n",
    "\n",
    "- t-검정에서 p-value는 유의확률(Significance Probability)로도 불립니다.\n",
    "- 귀무가설(Null Hypothesis)을 검정할 때 사용되는 값입니다.\n",
    "- p-value는 귀무가설이 맞을 때 표본에서 계산된 통계량이 나올 확률을 나타냅니다.\n",
    "- 따라서, p-value가 작을수록 귀무가설이 틀릴 확률이 높아지므로, 귀무가설을 기각하게 됩니다.\n",
    "- **p-value 값이 작으면 통계적으로 유의미한 차이가 있다는 것을 의미한다고 보면 됩니다**"
   ]
  },
  {
   "cell_type": "markdown",
   "metadata": {
    "id": "5Qt3vjIVyOgo"
   },
   "source": [
    "**📌 표준오차**\n",
    "\n",
    "- 모집단의 평균을 구하고 싶지만, 모집단이 너무 커서 구할 수 없습니다.\n",
    "- 그래서 모집단에서 표본(Sample)을 뽑아 그 표본의 평균을 구합니다.\n",
    "- 계속해서 표본을 뽑아 그 표본의 평균을 구합니다.\n",
    "- 이 표본들의 평균의 평균이 모집단의 평균입니다.\n",
    "- 그리고 이 표본들의 평균의 표준편차를 **표준오차**라고 부릅니다.\n",
    "- 즉 추정값인 표본 평균들과 참값인 모평균과의 표준적인 차이라고 할 수 있습니다."
   ]
  },
  {
   "cell_type": "markdown",
   "metadata": {
    "id": "9v6nEw9g5any"
   },
   "source": [
    "- 우선 두 개의 모집단을 만듭니다.\n",
    "    - pop1: 평균이 160, 표준편차가 10인 100,000개의 실수\n",
    "    - pop2: 평균이 170, 표준편차가 10인 100,000개의 실수\n",
    "    "
   ]
  },
  {
   "cell_type": "code",
   "execution_count": null,
   "metadata": {
    "id": "4OodmXKXpoQ3"
   },
   "outputs": [],
   "source": [
    "pop1 = [round(rd.normalvariate(160, 10), 1) for i in range(100000)]\n",
    "pop2 = [round(rd.normalvariate(170, 10), 1) for i in range(100000)]\n",
    "\n",
    "# 확인\n",
    "print('* pop1:', pop1[:10])\n",
    "print('* pop2:', pop2[:10])"
   ]
  },
  {
   "cell_type": "markdown",
   "metadata": {
    "id": "wNZJNiPJXHby"
   },
   "source": [
    "- 우리는 모집단을 알 수 없지만 그래도 살짝 살펴봅니다."
   ]
  },
  {
   "cell_type": "code",
   "execution_count": null,
   "metadata": {
    "id": "gO41uZtE5EwV"
   },
   "outputs": [],
   "source": [
    "plt.figure(figsize=(8, 5))\n",
    "sns.kdeplot(pop1)\n",
    "sns.kdeplot(pop2)\n",
    "plt.show()"
   ]
  },
  {
   "cell_type": "markdown",
   "metadata": {
    "id": "hmYFfQO1XMkP"
   },
   "source": [
    "- 이제 두 모집단으로 부터 표본을 200개씩 추출한 후 t-검정을 수행합니다.\n",
    "- 먼저 모집단 pop1으로 부터 두 개의 샘플을 추출한 후 t-검정을  수행합니다."
   ]
  },
  {
   "cell_type": "code",
   "execution_count": null,
   "metadata": {
    "id": "uYDGmkhXne5j"
   },
   "outputs": [],
   "source": [
    "s1 = rd.sample(pop1, 200)\n",
    "s2 = rd.sample(pop1, 200)\n",
    "t_test = spst.ttest_ind(s1, s2)\n",
    "\n",
    "print('* t-statistic:', t_test[0])\n",
    "print('* p-value:', t_test[1])"
   ]
  },
  {
   "cell_type": "markdown",
   "metadata": {
    "id": "rnixsBiMq8wI"
   },
   "source": [
    "- **질문:**  p-value의 의미는?"
   ]
  },
  {
   "cell_type": "code",
   "execution_count": null,
   "metadata": {
    "id": "HvP4JK6kq73R"
   },
   "outputs": [],
   "source": [
    "#"
   ]
  },
  {
   "cell_type": "markdown",
   "metadata": {
    "id": "9FI2S84ZXTNu"
   },
   "source": [
    "- 이번에는 서로 다른 모집단으로 부터 각각 샘플링한 후 t-검정을 수행합니다."
   ]
  },
  {
   "cell_type": "code",
   "execution_count": null,
   "metadata": {
    "id": "ePBOfjTvq7sp"
   },
   "outputs": [],
   "source": [
    "s1 = rd.sample(pop1, 200)\n",
    "s2 = rd.sample(pop2, 200)\n",
    "t_test = spst.ttest_ind(s1, s2)\n",
    "\n",
    "print('* t-statistic:', t_test[0])\n",
    "print('* p-value:', t_test[1])"
   ]
  },
  {
   "cell_type": "markdown",
   "metadata": {
    "id": "bLaA72udrL4C"
   },
   "source": [
    "- **질문:**   p-value의 의미는?"
   ]
  },
  {
   "cell_type": "code",
   "execution_count": null,
   "metadata": {
    "id": "RVz1WpMl81l8"
   },
   "outputs": [],
   "source": [
    "#"
   ]
  },
  {
   "cell_type": "markdown",
   "metadata": {
    "id": "KJ3I2aNrrLib"
   },
   "source": [
    "- 이번엔 titanic 데이터프레임으로 시도해 봅니다.\n",
    "- **Survived → Age**: 생존 여부 별로 나이에 차이가 있을것이다.\n",
    "- 먼저 결측치가 있는지 확인해 봅니다."
   ]
  },
  {
   "cell_type": "code",
   "execution_count": null,
   "metadata": {
    "id": "n4kXmaaqSR_4"
   },
   "outputs": [],
   "source": [
    "titanic.isna().sum()"
   ]
  },
  {
   "cell_type": "markdown",
   "metadata": {
    "id": "G4yWiNP-861y"
   },
   "source": [
    "- Age 변수에 결측치가 없는 행만 가져와 다음 두 변수를 선언합니다.\n",
    "    - died: 사망자들의 나이\n",
    "    - survived: 생존자들의 나이\n",
    "- 이 두 변수가 가지는 나이(Age)에 차이가 있을지 궁금합니다."
   ]
  },
  {
   "cell_type": "code",
   "execution_count": null,
   "metadata": {
    "id": "zHCz_442ifcG"
   },
   "outputs": [],
   "source": [
    "temp = titanic.loc[titanic['Age'].notnull()]\n",
    "died = temp.loc[temp['Survived']==0, 'Age']\n",
    "survived = temp.loc[temp['Survived']==1, 'Age']\n",
    "\n",
    "t_test = spst.ttest_ind(died, survived)\n",
    "\n",
    "print('* t-statistic:', t_test[0])\n",
    "print('* p-value:', t_test[1])"
   ]
  },
  {
   "cell_type": "markdown",
   "metadata": {
    "id": "JZQlnM6B9NM1"
   },
   "source": [
    "- **질문:**   p-value의 의미는?"
   ]
  },
  {
   "cell_type": "code",
   "execution_count": null,
   "metadata": {
    "id": "99JL6qGn9OYq"
   },
   "outputs": [],
   "source": [
    "#\n",
    "#"
   ]
  },
  {
   "cell_type": "markdown",
   "metadata": {
    "id": "-cfh0-Vtrh-P"
   },
   "source": [
    "- **Sex → Fare**: 성별에 따라 운임에 차이가 있을 것이다."
   ]
  },
  {
   "cell_type": "code",
   "execution_count": null,
   "metadata": {
    "id": "uUZ4j47prpHQ"
   },
   "outputs": [],
   "source": [
    "male = titanic.loc[titanic['Sex']=='male', 'Fare']\n",
    "female = titanic.loc[titanic['Sex']=='female', 'Fare']\n",
    "\n",
    "t_test = spst.ttest_ind(male, female)\n",
    "\n",
    "print('* t-statistic:', t_test[0])\n",
    "print('* p-value:', t_test[1])"
   ]
  },
  {
   "cell_type": "markdown",
   "metadata": {
    "id": "vLSAOuwQApJc"
   },
   "source": [
    "- **질문:**   p-value의 의미는?"
   ]
  },
  {
   "cell_type": "code",
   "execution_count": null,
   "metadata": {
    "id": "wk0xzJRaay1J"
   },
   "outputs": [],
   "source": [
    "#"
   ]
  },
  {
   "cell_type": "markdown",
   "metadata": {
    "id": "82unrKthWk5A"
   },
   "source": [
    "<img src='https://raw.githubusercontent.com/jangrae/img/master/practice_20.png' width=120 align=\"left\"/>"
   ]
  },
  {
   "cell_type": "markdown",
   "metadata": {
    "id": "3nMEx2KLWk5A"
   },
   "source": [
    "insurance 데이터프레임의 다음 변수들 간의 관계를 t-통계량과 p-value를 사용해 확인하세요."
   ]
  },
  {
   "cell_type": "markdown",
   "metadata": {
    "id": "dJ7btGkXWk5B"
   },
   "source": [
    "**1️⃣ sex → charges**"
   ]
  },
  {
   "cell_type": "code",
   "execution_count": null,
   "metadata": {
    "id": "wfYyxT6WWk5B",
    "scrolled": true
   },
   "outputs": [],
   "source": [
    "\n"
   ]
  },
  {
   "cell_type": "markdown",
   "metadata": {
    "id": "iQ1Y92ORWk5B"
   },
   "source": [
    "- **질문:**  남녀(sex)별 의료비(charges) 평균에 차이가 있나요?"
   ]
  },
  {
   "cell_type": "code",
   "execution_count": null,
   "metadata": {
    "id": "EZG0fvQoWk5B"
   },
   "outputs": [],
   "source": [
    "#"
   ]
  },
  {
   "cell_type": "markdown",
   "metadata": {
    "id": "GV6zBdGfWk5B"
   },
   "source": [
    "**2️⃣ smoker → charges**"
   ]
  },
  {
   "cell_type": "code",
   "execution_count": null,
   "metadata": {
    "id": "GtFAPxtbWk5B",
    "scrolled": true
   },
   "outputs": [],
   "source": [
    "\n"
   ]
  },
  {
   "cell_type": "markdown",
   "metadata": {
    "id": "TtHMFOeHWk5B"
   },
   "source": [
    "- **질문:**  흡연 여부(smoker)별 의료비(charges) 평균에 차이가 있나요?"
   ]
  },
  {
   "cell_type": "code",
   "execution_count": null,
   "metadata": {
    "id": "E91EGjM5Wk5C"
   },
   "outputs": [],
   "source": [
    "#"
   ]
  },
  {
   "cell_type": "markdown",
   "metadata": {
    "id": "Y70ojUtTApmo"
   },
   "source": [
    "<img src='https://raw.githubusercontent.com/jangrae/img/master/practice_20e.png' width=45 align=\"left\"/>"
   ]
  },
  {
   "cell_type": "markdown",
   "metadata": {
    "id": "gEwfyAAIiuMb"
   },
   "source": [
    "### **3.2. 분산분석**\n",
    "\n",
    "- 세 개 이상의 집단 간 차이는 분산분석(ANOVA)으로 비교합니다.\n",
    "- ANOVA: **AN**alysis **O**f **VA**riance\n",
    "- 여기서 기준은 전체 평균 입니다.\n",
    "- **scipy.stats** 라이브러리의 **f_oneway()** 함수로 분산분석을 수행합니다."
   ]
  },
  {
   "cell_type": "markdown",
   "metadata": {
    "id": "7YgSdopvFYPO"
   },
   "source": [
    "**📌 f-statistics, f-통계량, f-value**\n",
    "\n",
    "- 두 개 이상의 집단 간 분산의 비율을 검정하는 데 사용되는 통계량입니다.\n",
    "- 분산분석(ANOVA)에서 사용되며, 각 집단 내에서의 분산과 각 집단 간의 분산의 비율을 계산합니다.\n",
    "- $f-통계량=\\frac{집단간 분산}{집단내 분산}  $\n",
    "- 이 계산 결과로 각 집단이 모집단으로부터 동일한 분산을 가지는지를 검정합니다.\n",
    "- 분산의 비율이 작을수록 1에 가까운 값을 가집니다.\n",
    "- 분산의 비율이 클수록 f-통계량 값이 커집니다.\n",
    "- f-통계량 값이 크다는 것은 각 집단 간 차이가 통계적으로 유의미하다는 것을 나타냅니다.\n",
    "- 보통, **f-통계량 값이 2~3 이상이면 차이가 있다고 봅니다.**"
   ]
  },
  {
   "cell_type": "markdown",
   "metadata": {
    "id": "SCZdBgw-oLQx"
   },
   "source": [
    "- **Pclass → Age**: 객실 등급별로 나이에 차이가 있을 것이다."
   ]
  },
  {
   "cell_type": "code",
   "execution_count": null,
   "metadata": {
    "id": "YYiFvvh8G1t9"
   },
   "outputs": [],
   "source": [
    "print('* 전체평균: {}'.format(titanic['Age'].mean()))\n",
    "\n",
    "sns.barplot(x='Pclass', y='Age', data=titanic)\n",
    "plt.show()"
   ]
  },
  {
   "cell_type": "markdown",
   "metadata": {
    "id": "8QQnZ3t_CLHR"
   },
   "source": [
    "- Pclass 값을 기준으로 p1 ~ p3 세 집단을 만듭니다.\n",
    "- 결측치가 없는 데이터만을 대상으로 합니다."
   ]
  },
  {
   "cell_type": "code",
   "execution_count": null,
   "metadata": {
    "id": "DiZy6QH4ivkR"
   },
   "outputs": [],
   "source": [
    "temp = titanic.loc[titanic['Age'].notnull()]\n",
    "p1 = temp.loc[titanic['Pclass']==1, 'Age']\n",
    "p2 = temp.loc[titanic['Pclass']==2, 'Age']\n",
    "p3 = temp.loc[titanic['Pclass']==3, 'Age']\n",
    "anova = spst.f_oneway(p1, p2, p3)\n",
    "print('* f-statistic:', anova[0])\n",
    "print('* p-value:', anova[1])"
   ]
  },
  {
   "cell_type": "markdown",
   "metadata": {
    "id": "g7bv5AsgN0sz"
   },
   "source": [
    "- **Embarked → Fare**: 승선 지역별로 운임에 차이가 있을 것이다."
   ]
  },
  {
   "cell_type": "code",
   "execution_count": null,
   "metadata": {
    "id": "UDn3f5fvsDU0"
   },
   "outputs": [],
   "source": [
    "print('* 전체평균: {}'.format(titanic['Fare'].mean()))\n",
    "\n",
    "sns.barplot(x='Embarked', y='Fare', data=titanic)\n",
    "plt.show()"
   ]
  },
  {
   "cell_type": "markdown",
   "metadata": {
    "id": "iKfVkvN0Wk5D"
   },
   "source": [
    "<img src='https://raw.githubusercontent.com/jangrae/img/master/practice_20.png' width=120 align=\"left\"/>"
   ]
  },
  {
   "cell_type": "markdown",
   "metadata": {
    "id": "8kK32-c5Wk5D"
   },
   "source": [
    "insurance 데이터프레임의 다음 변수 간의 관계를 f-통계량과 p-value를 사용해 확인하세요."
   ]
  },
  {
   "cell_type": "markdown",
   "metadata": {
    "id": "z9k07Yj6Wk5D"
   },
   "source": [
    "**1️⃣ region → charges**"
   ]
  },
  {
   "cell_type": "code",
   "execution_count": null,
   "metadata": {
    "id": "Tfg-T1yoWk5D",
    "scrolled": true
   },
   "outputs": [],
   "source": [
    "\n"
   ]
  },
  {
   "cell_type": "markdown",
   "metadata": {
    "id": "HmpCbw76Wk5E"
   },
   "source": [
    "- **질문:**  지역(region)별 의료비(charges) 평균에 차이가 있나요?"
   ]
  },
  {
   "cell_type": "code",
   "execution_count": null,
   "metadata": {
    "id": "jzxKE6T6Wk5E"
   },
   "outputs": [],
   "source": [
    "#"
   ]
  },
  {
   "cell_type": "markdown",
   "metadata": {
    "id": "kwZb8iZuWk5E"
   },
   "source": [
    "<img src='https://raw.githubusercontent.com/jangrae/img/master/practice_20e.png' width=45 align=\"left\"/>"
   ]
  }
 ],
 "metadata": {
  "colab": {
   "provenance": []
  },
  "kernelspec": {
   "display_name": "Python 3",
   "language": "python",
   "name": "python3"
  },
  "language_info": {
   "codemirror_mode": {
    "name": "ipython",
    "version": 3
   },
   "file_extension": ".py",
   "mimetype": "text/x-python",
   "name": "python",
   "nbconvert_exporter": "python",
   "pygments_lexer": "ipython3",
   "version": "3.12.7"
  }
 },
 "nbformat": 4,
 "nbformat_minor": 4
}
