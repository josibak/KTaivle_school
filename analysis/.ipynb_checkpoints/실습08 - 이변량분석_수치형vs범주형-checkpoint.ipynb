{
 "cells": [
  {
   "cell_type": "markdown",
   "metadata": {
    "id": "b3TDAdnvnSbh"
   },
   "source": [
    "<center><img src='https://raw.githubusercontent.com/Jangrae/img/master/title.png' width=500/></center>\n"
   ]
  },
  {
   "cell_type": "markdown",
   "metadata": {
    "id": "1oPLOHIsryHj"
   },
   "source": [
    "# **실습: 이변량 분석 ④ - 수치형  → 범주형**"
   ]
  },
  {
   "cell_type": "markdown",
   "metadata": {
    "id": "MS9gHc_7ryHr"
   },
   "source": [
    "## **1. 환경준비**"
   ]
  },
  {
   "cell_type": "code",
   "execution_count": null,
   "metadata": {
    "id": "H6lz8COjryHs"
   },
   "outputs": [],
   "source": [
    "import pandas as pd\n",
    "import numpy as np\n",
    "import random as rd\n",
    "import matplotlib.pyplot as plt\n",
    "import seaborn as sns\n",
    "import statsmodels.api as sm\n",
    "import warnings\n",
    "\n",
    "warnings.filterwarnings(action='ignore')\n",
    "%config InlineBackend.figure_format = 'retina'\n",
    "plt.rcParams['figure.figsize'] = (6, 4)"
   ]
  },
  {
   "cell_type": "code",
   "execution_count": null,
   "metadata": {
    "id": "2voHuCQWY03s"
   },
   "outputs": [],
   "source": [
    "# Attrition 데이터\n",
    "path = 'https://raw.githubusercontent.com/Jangrae/csv/master/Attrition_simple2.csv'\n",
    "attrition = pd.read_csv(path)\n",
    "attrition.head(5)"
   ]
  },
  {
   "cell_type": "markdown",
   "metadata": {
    "id": "Qrw-WjE1dwL3"
   },
   "source": [
    "**📋 데이터 정보**\n",
    "\n",
    "- Attrition: 이직 여부 (1: 이직, 0: 잔류)\n",
    "- Age: 나이\n",
    "- DistanceFromHome: 집-직장 거리 (단위: 마일)\n",
    "- EmployeeNumber: 사번\n",
    "- Gender: 성별 (Male, Female)\n",
    "- JobSatisfaction: 직무만족도(1: Low, 2: Medium, 3: High, 4: Very High)\n",
    "- MaritalStatus: 결혼 상태 (Single, Married, Divorced)\n",
    "- MonthlyIncome: 월급 (단위: 달러)\n",
    "- OverTime: 야근 여부 (Yes, No)\n",
    "- PercentSalaryHike: 전년 대비 급여 인상율(단위: %)\n",
    "- TotalWorkingYears: 총 경력 연수"
   ]
  },
  {
   "cell_type": "markdown",
   "metadata": {
    "id": "jyLho2bqryHt"
   },
   "source": [
    "## **2. 시각화**\n",
    "\n",
    "- 다음 두 변수들 간의 관계를 Histogram과 Density Plot으로 시각화해 확인하세요."
   ]
  },
  {
   "cell_type": "markdown",
   "metadata": {
    "id": "IWr6sMbJ5kHa"
   },
   "source": [
    "**1️⃣ 나이(Age) → 이직 여부(Attrition)**"
   ]
  },
  {
   "cell_type": "markdown",
   "metadata": {
    "id": "_DCR1vBs5kHq"
   },
   "source": [
    "- Histogram"
   ]
  },
  {
   "cell_type": "code",
   "execution_count": null,
   "metadata": {
    "id": "-XTw9X4r5kHq"
   },
   "outputs": [],
   "source": [
    "\n"
   ]
  },
  {
   "cell_type": "markdown",
   "metadata": {
    "id": "5TzWobcm5kHs"
   },
   "source": [
    "- Density Plot"
   ]
  },
  {
   "cell_type": "code",
   "execution_count": null,
   "metadata": {
    "id": "ExDBEOtl5kHs"
   },
   "outputs": [],
   "source": [
    "\n"
   ]
  },
  {
   "cell_type": "markdown",
   "metadata": {
    "id": "tzWBdE6LXDJi"
   },
   "source": [
    "- multiple='fill'"
   ]
  },
  {
   "cell_type": "code",
   "execution_count": null,
   "metadata": {
    "id": "RARdYmJgzkSh"
   },
   "outputs": [],
   "source": [
    "\n"
   ]
  },
  {
   "cell_type": "markdown",
   "metadata": {
    "id": "0nnSSbPJ62rq"
   },
   "source": [
    "- **질문:** 위 시각화 결과에서 무엇을 확인할 수 있나요?"
   ]
  },
  {
   "cell_type": "code",
   "execution_count": null,
   "metadata": {
    "id": "r8YkPpy_62rr"
   },
   "outputs": [],
   "source": [
    "#"
   ]
  },
  {
   "cell_type": "markdown",
   "metadata": {
    "id": "jo75Zd3wz7O6"
   },
   "source": [
    "**2️⃣ 월급(MonthlyIncome) → 이직 여부(Attrition)**"
   ]
  },
  {
   "cell_type": "markdown",
   "metadata": {
    "id": "RcSK8bLSz7O6"
   },
   "source": [
    "- Histogram"
   ]
  },
  {
   "cell_type": "code",
   "execution_count": null,
   "metadata": {
    "id": "eyZnGj2Rz7O6"
   },
   "outputs": [],
   "source": [
    "\n"
   ]
  },
  {
   "cell_type": "markdown",
   "metadata": {
    "id": "e2ig4Zeez7O6"
   },
   "source": [
    "- Density Plot"
   ]
  },
  {
   "cell_type": "code",
   "execution_count": null,
   "metadata": {
    "id": "k9D2hsbHz7O7"
   },
   "outputs": [],
   "source": [
    "\n"
   ]
  },
  {
   "cell_type": "markdown",
   "metadata": {
    "id": "SgXERnPeXcbw"
   },
   "source": [
    "- multiple='fill'"
   ]
  },
  {
   "cell_type": "code",
   "execution_count": null,
   "metadata": {
    "id": "SCxqu35iz7O7"
   },
   "outputs": [],
   "source": [
    "\n"
   ]
  },
  {
   "cell_type": "markdown",
   "metadata": {
    "id": "mXwwU1Qgz7O7"
   },
   "source": [
    "- **질문:** 위 시각화 결과에서 무엇을 확인할 수 있나요?"
   ]
  },
  {
   "cell_type": "code",
   "execution_count": null,
   "metadata": {
    "id": "kjdjaGeEz7O7"
   },
   "outputs": [],
   "source": [
    "#"
   ]
  },
  {
   "cell_type": "markdown",
   "metadata": {
    "id": "BePLSu2CebAi"
   },
   "source": [
    "**3️⃣ 경력 연수(TotalWorkingYears) → 이직 여부(Attrition)**"
   ]
  },
  {
   "cell_type": "markdown",
   "metadata": {
    "id": "-X_849wFebAj"
   },
   "source": [
    "- Histogram"
   ]
  },
  {
   "cell_type": "code",
   "execution_count": null,
   "metadata": {
    "id": "qLqCE6ObebAj"
   },
   "outputs": [],
   "source": [
    "\n"
   ]
  },
  {
   "cell_type": "markdown",
   "metadata": {
    "id": "yf1tinY6ebAj"
   },
   "source": [
    "- Density Plot"
   ]
  },
  {
   "cell_type": "code",
   "execution_count": null,
   "metadata": {
    "id": "4tDMNBEXebAj"
   },
   "outputs": [],
   "source": [
    "\n"
   ]
  },
  {
   "cell_type": "markdown",
   "metadata": {
    "id": "mDX4iRlyebAk"
   },
   "source": [
    "- multiple='fill'"
   ]
  },
  {
   "cell_type": "code",
   "execution_count": null,
   "metadata": {
    "id": "9NoBX2e7ebAk"
   },
   "outputs": [],
   "source": [
    "\n"
   ]
  },
  {
   "cell_type": "markdown",
   "metadata": {
    "id": "soqwt-xcebAk"
   },
   "source": [
    "- **질문:** 위 시각화 결과에서 무엇을 확인할 수 있나요?"
   ]
  },
  {
   "cell_type": "code",
   "execution_count": null,
   "metadata": {
    "id": "cBLMnZhJebAk"
   },
   "outputs": [],
   "source": [
    "#"
   ]
  },
  {
   "cell_type": "markdown",
   "metadata": {
    "id": "7IHYFs-sryH0"
   },
   "source": [
    "## **3. 수치화**\n",
    "\n",
    "- 숫자 vs 범주에 대해 딱 맞는 가설검정 도구가 없으므로, 로지스틱 회귀모델로 부터 p-value를 구해보세요."
   ]
  },
  {
   "cell_type": "markdown",
   "metadata": {
    "id": "yoMI1Ied0TC-"
   },
   "source": [
    "**1️⃣ 나이(Age) → 이직 여부(Attrition)**"
   ]
  },
  {
   "cell_type": "code",
   "execution_count": null,
   "metadata": {
    "id": "JYw_7hKE7bBh"
   },
   "outputs": [],
   "source": [
    "\n"
   ]
  },
  {
   "cell_type": "markdown",
   "metadata": {
    "id": "SPs3tJUC7bBh"
   },
   "source": [
    "- **질문:** 위 수치화 결과에서 무엇을 확인할 수 있나요?"
   ]
  },
  {
   "cell_type": "code",
   "execution_count": null,
   "metadata": {
    "id": "0KNT7aBH7bBi"
   },
   "outputs": [],
   "source": [
    "#"
   ]
  },
  {
   "cell_type": "markdown",
   "metadata": {
    "id": "XFifuMle7NOS"
   },
   "source": [
    "**2️⃣ 월급(MonthlyIncome) → 이직 여부(Attrition)**"
   ]
  },
  {
   "cell_type": "code",
   "execution_count": null,
   "metadata": {
    "id": "hpmVxpfS7fEt"
   },
   "outputs": [],
   "source": [
    "\n"
   ]
  },
  {
   "cell_type": "markdown",
   "metadata": {
    "id": "ZQtpMbJZ7fEt"
   },
   "source": [
    "- **질문:** 위 수치화 결과에서 무엇을 확인할 수 있나요?"
   ]
  },
  {
   "cell_type": "code",
   "execution_count": null,
   "metadata": {
    "id": "i8O2tCuT7fEu"
   },
   "outputs": [],
   "source": [
    "#"
   ]
  },
  {
   "cell_type": "markdown",
   "metadata": {
    "id": "bhyNCvzbe7yZ"
   },
   "source": [
    "**3️⃣ 경력 연수(TotalWorkingYears) → 이직 여부(Attrition)**"
   ]
  },
  {
   "cell_type": "code",
   "execution_count": null,
   "metadata": {
    "id": "BNJhVw3ze7yZ"
   },
   "outputs": [],
   "source": [
    "\n"
   ]
  },
  {
   "cell_type": "markdown",
   "metadata": {
    "id": "2EjwO0vwe7ya"
   },
   "source": [
    "- **질문:** 위 수치화 결과에서 무엇을 확인할 수 있나요?"
   ]
  },
  {
   "cell_type": "code",
   "execution_count": null,
   "metadata": {
    "id": "9tf5N62Ue7ya"
   },
   "outputs": [],
   "source": [
    "#"
   ]
  }
 ],
 "metadata": {
  "colab": {
   "provenance": []
  },
  "kernelspec": {
   "display_name": "Python 3",
   "language": "python",
   "name": "python3"
  },
  "language_info": {
   "codemirror_mode": {
    "name": "ipython",
    "version": 3
   },
   "file_extension": ".py",
   "mimetype": "text/x-python",
   "name": "python",
   "nbconvert_exporter": "python",
   "pygments_lexer": "ipython3",
   "version": "3.12.7"
  }
 },
 "nbformat": 4,
 "nbformat_minor": 4
}
