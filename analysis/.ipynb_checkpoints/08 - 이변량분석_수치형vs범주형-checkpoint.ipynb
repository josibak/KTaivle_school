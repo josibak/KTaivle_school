{
 "cells": [
  {
   "cell_type": "markdown",
   "metadata": {
    "id": "b3TDAdnvnSbh"
   },
   "source": [
    "<center><img src='https://raw.githubusercontent.com/Jangrae/img/master/title.png' width=500/></center>\n"
   ]
  },
  {
   "cell_type": "markdown",
   "metadata": {
    "id": "ssEm_FVX7kJa"
   },
   "source": [
    "# **이변량 분석 ④ - 수치형  → 범주형**"
   ]
  },
  {
   "cell_type": "markdown",
   "metadata": {
    "id": "hHLE18LF7qDv"
   },
   "source": [
    "- 시각화와 수치화 방법으로 수치형 변수와 범주형 변수 간 관계를 분석합니다."
   ]
  },
  {
   "cell_type": "markdown",
   "metadata": {
    "id": "hynlqeBw0M3n"
   },
   "source": [
    "<img src='https://raw.githubusercontent.com/Jangrae/img/master/two_var_04.png' width=600 align='left'/>"
   ]
  },
  {
   "cell_type": "markdown",
   "metadata": {
    "id": "hmWyNpcSkdIL"
   },
   "source": [
    "<img src='https://raw.githubusercontent.com/Jangrae/img/master/analysis4.png' width=620 align='left'/>"
   ]
  },
  {
   "cell_type": "markdown",
   "metadata": {
    "id": "0SJP-uYxN0Lk"
   },
   "source": [
    "## **1. 환경준비**\n",
    "\n",
    "- 사용할 라이브러리와 분석 대상 데이터를 읽어옵니다."
   ]
  },
  {
   "cell_type": "code",
   "execution_count": null,
   "metadata": {
    "id": "Sma8Fku5N0Ll"
   },
   "outputs": [],
   "source": [
    "import pandas as pd\n",
    "import numpy as np\n",
    "import random as rd\n",
    "import matplotlib.pyplot as plt\n",
    "import seaborn as sns\n",
    "import statsmodels.api as sm\n",
    "import warnings\n",
    "\n",
    "warnings.filterwarnings(action='ignore')\n",
    "%config InlineBackend.figure_format = 'retina'\n",
    "plt.rcParams['figure.figsize'] = (6, 4)"
   ]
  },
  {
   "cell_type": "code",
   "execution_count": null,
   "metadata": {
    "id": "si-trqDhN0Lo"
   },
   "outputs": [],
   "source": [
    "# Titanic 데이터\n",
    "path = 'https://raw.githubusercontent.com/Jangrae/csv/master/titanic.0.csv'\n",
    "titanic = pd.read_csv(path)\n",
    "titanic = titanic.loc[titanic['Age'].notnull()]\n",
    "titanic.head()"
   ]
  },
  {
   "cell_type": "code",
   "execution_count": null,
   "metadata": {
    "id": "19J4CeRxYU98"
   },
   "outputs": [],
   "source": [
    "# Admission 데이터\n",
    "path = 'https://raw.githubusercontent.com/Jangrae/csv/master/admission_simple.csv'\n",
    "admission = pd.read_csv(path)\n",
    "admission.head()"
   ]
  },
  {
   "cell_type": "markdown",
   "metadata": {
    "id": "24HAzukSN0Ls"
   },
   "source": [
    "## **2. 시각화**"
   ]
  },
  {
   "cell_type": "markdown",
   "metadata": {
    "id": "ngCbCBcN7c_X"
   },
   "source": [
    "**1) Histogran**\n",
    "\n",
    "- **Seaborn**의 **histplot()** 함수로 Histogram을 그립니다.\n",
    "- Histogram을 사용해 Age 변수의 값 분포를 Survived 변수를 기준으로 나눠서 표시해 봅니다."
   ]
  },
  {
   "cell_type": "code",
   "execution_count": null,
   "metadata": {
    "id": "0qgc0U-l5YP3"
   },
   "outputs": [],
   "source": [
    "sns.histplot(x='Age', hue='Survived', data=titanic, bins=20)\n",
    "plt.show()"
   ]
  },
  {
   "cell_type": "code",
   "execution_count": null,
   "metadata": {
    "id": "Aho6aUMSOmYg"
   },
   "outputs": [],
   "source": [
    "sns.histplot(x='Fare', hue='Survived', bins=20, data=titanic)\n",
    "plt.show()"
   ]
  },
  {
   "cell_type": "markdown",
   "metadata": {
    "id": "jY7SgTWC7fXE"
   },
   "source": [
    "**2) Density Plot**\n",
    "\n",
    "- **Seaborn**의 **kdeplot()** 함수로 Density Plot을 그립니다."
   ]
  },
  {
   "cell_type": "markdown",
   "metadata": {
    "id": "4h5xv_bSzBCI"
   },
   "source": [
    "**① kdeplot(..., hue='Survived')**"
   ]
  },
  {
   "cell_type": "markdown",
   "metadata": {
    "id": "2PkCiE3BzqHw"
   },
   "source": [
    "- 생존 여부의 비율이 유지된 채로 표시됩니다.\n",
    "- 두 그래프의 아래 면적의 합이 1이 됩니다."
   ]
  },
  {
   "cell_type": "code",
   "execution_count": null,
   "metadata": {
    "id": "offVzz3k6p1F"
   },
   "outputs": [],
   "source": [
    "sns.kdeplot(x='Age', hue='Survived', data=titanic)\n",
    "plt.show()"
   ]
  },
  {
   "cell_type": "code",
   "execution_count": null,
   "metadata": {
    "id": "9JgCLp_i9qNj"
   },
   "outputs": [],
   "source": [
    "sns.kdeplot(x='Fare', hue='Survived', data=titanic)\n",
    "plt.show()"
   ]
  },
  {
   "cell_type": "markdown",
   "metadata": {
    "id": "UNo9bLGizDYl"
   },
   "source": [
    "**② kdeplot(..., hue='Survived', common_norm=False)**\n",
    "\n",
    "- **common_norm** 매개변수 값을 **False**로 지정하면 두 그래프 각각의 아래 면적이 1이 됩니다."
   ]
  },
  {
   "cell_type": "code",
   "execution_count": null,
   "metadata": {
    "id": "v-n4uisv6AvT"
   },
   "outputs": [],
   "source": [
    "sns.kdeplot(x='Age', hue='Survived', data=titanic, common_norm=False)\n",
    "plt.show()"
   ]
  },
  {
   "cell_type": "code",
   "execution_count": null,
   "metadata": {
    "id": "Fzysqktf5SGQ"
   },
   "outputs": [],
   "source": [
    "sns.kdeplot(x='Fare', hue='Survived', data=titanic, common_norm=False)\n",
    "plt.show()"
   ]
  },
  {
   "cell_type": "markdown",
   "metadata": {
    "id": "Kym9tVshYU-A"
   },
   "source": [
    "**3) multiple='fill' 지정**\n",
    "\n",
    "- **multiple** 매개변수 값을 **'fill'** 로 지정해 비율을 비교할 수 있습니다.\n",
    "- 단, 양의 비교가 아닌 비율을 비교합니다."
   ]
  },
  {
   "cell_type": "markdown",
   "metadata": {
    "id": "kcJ48P8iQ1uG"
   },
   "source": [
    "**① kdeplot(..., hue='Survived', multiple='fill')**"
   ]
  },
  {
   "cell_type": "code",
   "execution_count": null,
   "metadata": {
    "id": "d1O8WLqGQfMu"
   },
   "outputs": [],
   "source": [
    "sns.kdeplot(x='Age', hue='Survived', data=titanic, multiple='fill')\n",
    "plt.axhline(titanic['Survived'].mean(), color='r')\n",
    "plt.show()"
   ]
  },
  {
   "cell_type": "code",
   "execution_count": null,
   "metadata": {
    "id": "HQ-O7pZg9qBa"
   },
   "outputs": [],
   "source": [
    "sns.kdeplot(x='Fare', hue='Survived', data=titanic, multiple='fill')\n",
    "plt.axhline(titanic['Survived'].mean(), color='r')\n",
    "plt.show()"
   ]
  },
  {
   "cell_type": "markdown",
   "metadata": {
    "id": "ei3NK7Yy4NDY"
   },
   "source": [
    "**① histplot(..., hue='Survived', multiple='fill')**"
   ]
  },
  {
   "cell_type": "code",
   "execution_count": null,
   "metadata": {
    "id": "eFzX2vHbQ1uH"
   },
   "outputs": [],
   "source": [
    "sns.histplot(x='Age', hue='Survived', data=titanic, bins=16, multiple='fill')\n",
    "plt.axhline(titanic['Survived'].mean(), color='r')\n",
    "plt.show()"
   ]
  },
  {
   "cell_type": "code",
   "execution_count": null,
   "metadata": {
    "id": "PVAr1B75Rdzh"
   },
   "outputs": [],
   "source": [
    "sns.histplot(x='Fare', hue='Survived', data=titanic, bins=20, multiple='fill')\n",
    "plt.axhline(titanic['Survived'].mean(), color='r')\n",
    "plt.show()"
   ]
  },
  {
   "cell_type": "markdown",
   "metadata": {
    "id": "J2lIuQRyYU-B"
   },
   "source": [
    "<img src='https://raw.githubusercontent.com/jangrae/img/master/practice_20.png' width=120 align=\"left\"/>"
   ]
  },
  {
   "cell_type": "markdown",
   "metadata": {
    "id": "bE7tY5JyYU-B"
   },
   "source": [
    "admission 데이터프레임의 다음 변수들 간의 관계를 histplot(), kdeplot() 함수로 시각화해 화인하세요."
   ]
  },
  {
   "cell_type": "markdown",
   "metadata": {
    "id": "GvdCKwJbYU-B"
   },
   "source": [
    "**1️⃣ GRE → ADMIT**"
   ]
  },
  {
   "cell_type": "code",
   "execution_count": null,
   "metadata": {
    "id": "9W49V0yGYU-B"
   },
   "outputs": [],
   "source": [
    "\n"
   ]
  },
  {
   "cell_type": "code",
   "execution_count": null,
   "metadata": {
    "id": "e2IVsmGFbL2t"
   },
   "outputs": [],
   "source": [
    "\n"
   ]
  },
  {
   "cell_type": "markdown",
   "metadata": {
    "id": "W4g44BobYU-B"
   },
   "source": [
    "**2️⃣ GPA → ADMIT**"
   ]
  },
  {
   "cell_type": "code",
   "execution_count": null,
   "metadata": {
    "id": "h3kLppYfYU-B"
   },
   "outputs": [],
   "source": [
    "\n"
   ]
  },
  {
   "cell_type": "code",
   "execution_count": null,
   "metadata": {
    "id": "9AKzjqUsbNCa"
   },
   "outputs": [],
   "source": [
    "\n"
   ]
  },
  {
   "cell_type": "markdown",
   "metadata": {
    "id": "l1KNz_K9YU-C"
   },
   "source": [
    "**3️⃣ TOEFL → ADMIT**"
   ]
  },
  {
   "cell_type": "code",
   "execution_count": null,
   "metadata": {
    "id": "WccohqoCYU-C",
    "scrolled": true
   },
   "outputs": [],
   "source": [
    "\n"
   ]
  },
  {
   "cell_type": "code",
   "execution_count": null,
   "metadata": {
    "id": "wkR238wlbN4l"
   },
   "outputs": [],
   "source": [
    "\n"
   ]
  },
  {
   "cell_type": "markdown",
   "metadata": {
    "id": "uiJKhvmMYU-C"
   },
   "source": [
    "<img src='https://raw.githubusercontent.com/jangrae/img/master/practice_20e.png' width=45 align=\"left\"/>"
   ]
  },
  {
   "cell_type": "markdown",
   "metadata": {
    "id": "zIJRVvKS9CgC"
   },
   "source": [
    "## **3. 수치화**\n",
    "\n",
    "- 숫자 vs 범주에 대해 딱 맞는 가설검정 도구가 없으므로, 로지스틱 회귀모델로 부터 p-value를 구해봅니다."
   ]
  },
  {
   "cell_type": "code",
   "execution_count": null,
   "metadata": {
    "id": "RTWC6vEg5Fd3"
   },
   "outputs": [],
   "source": [
    "model = sm.Logit(titanic['Survived'], titanic['Age'])\n",
    "result = model.fit()\n",
    "print(result.pvalues)"
   ]
  },
  {
   "cell_type": "code",
   "execution_count": null,
   "metadata": {
    "id": "0x5nao5R_BPa"
   },
   "outputs": [],
   "source": [
    "model = sm.Logit(titanic['Survived'], titanic['Sex'].map({'male': 1, 'female': 0}))\n",
    "result = model.fit()\n",
    "print(result.pvalues)"
   ]
  },
  {
   "cell_type": "code",
   "execution_count": null,
   "metadata": {
    "id": "oI3vDS2jyK8v"
   },
   "outputs": [],
   "source": [
    "model = sm.Logit(titanic['Survived'], titanic['Parch'])\n",
    "result = model.fit()\n",
    "print(result.pvalues)"
   ]
  },
  {
   "cell_type": "code",
   "execution_count": null,
   "metadata": {
    "id": "bt-vgu3j9sx0"
   },
   "outputs": [],
   "source": [
    "model = sm.Logit(titanic['Survived'], titanic['Fare'])\n",
    "result = model.fit()\n",
    "print(result.pvalues)"
   ]
  }
 ],
 "metadata": {
  "colab": {
   "provenance": []
  },
  "kernelspec": {
   "display_name": "Python 3",
   "language": "python",
   "name": "python3"
  },
  "language_info": {
   "codemirror_mode": {
    "name": "ipython",
    "version": 3
   },
   "file_extension": ".py",
   "mimetype": "text/x-python",
   "name": "python",
   "nbconvert_exporter": "python",
   "pygments_lexer": "ipython3",
   "version": "3.12.7"
  }
 },
 "nbformat": 4,
 "nbformat_minor": 4
}
