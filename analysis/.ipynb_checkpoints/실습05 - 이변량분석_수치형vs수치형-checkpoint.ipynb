{
 "cells": [
  {
   "cell_type": "markdown",
   "metadata": {
    "id": "b3TDAdnvnSbh"
   },
   "source": [
    "<center><img src='https://raw.githubusercontent.com/Jangrae/img/master/title.png' width=500/></center>\n"
   ]
  },
  {
   "cell_type": "markdown",
   "metadata": {
    "id": "-_VBIz-dwKdX"
   },
   "source": [
    "\n",
    "# **실습: 이변량 분석 ① - 수치형  → 수치형**"
   ]
  },
  {
   "cell_type": "markdown",
   "metadata": {
    "id": "3AAh1WF9wKdZ"
   },
   "source": [
    "## **1. 환경준비**"
   ]
  },
  {
   "cell_type": "code",
   "execution_count": null,
   "metadata": {
    "id": "ABXwC4KCwKdg"
   },
   "outputs": [],
   "source": [
    "import numpy as np\n",
    "import pandas as pd\n",
    "import matplotlib.pyplot as plt\n",
    "import seaborn as sns\n",
    "import scipy.stats as spst\n",
    "import warnings\n",
    "\n",
    "warnings.filterwarnings(action='ignore')\n",
    "%config InlineBackend.figure_format = 'retina'\n",
    "plt.rcParams['figure.figsize'] = (6, 4)"
   ]
  },
  {
   "cell_type": "code",
   "execution_count": null,
   "metadata": {
    "id": "O7S-PoJ5wKdn"
   },
   "outputs": [],
   "source": [
    "# CarSeat 데이터\n",
    "path = 'https://raw.githubusercontent.com/Jangrae/csv/master/Carseats.csv'\n",
    "carseat = pd.read_csv(path)\n",
    "carseat.drop('Education', axis=1, inplace=True)\n",
    "carseat.head()"
   ]
  },
  {
   "cell_type": "markdown",
   "metadata": {
    "id": "70oTx7P0qvvh"
   },
   "source": [
    "**📋 데이터 정보**\n",
    "\n",
    "- Sales: 각 지역 판매량(단위: 1,000개)\n",
    "- CompPrice: 경쟁사 가격(단위: 달러)\n",
    "- Income: 지역 평균 소득(단위: 1,000달러)\n",
    "- Advertising: 각 지역, 회사의 광고 예산(단위: 1,000달러)\n",
    "- Population: 지역 인구수(단위: 1,000명)\n",
    "- Price: 자사 지역별 판매가격\n",
    "- ShelveLoc: 진열상태\n",
    "- Age: 지역 인구의 평균 연령\n",
    "- Urban: 도심 지역 여부(Yes, No)\n",
    "- US: 매장이 미국에 있는지 여부(Yes, No)"
   ]
  },
  {
   "cell_type": "markdown",
   "metadata": {
    "id": "wcohGQmYwKdq"
   },
   "source": [
    "## **2. 시각화**"
   ]
  },
  {
   "cell_type": "markdown",
   "metadata": {
    "id": "RlEEBlDkwKdr"
   },
   "source": [
    "**1) 다음 두 변수들 간의 상관관계를 산점도로 시각화해 확인하세요.**"
   ]
  },
  {
   "cell_type": "markdown",
   "metadata": {
    "id": "V8B1Co66rUxg"
   },
   "source": [
    "1️⃣ **평균소득(Income) → 판매량(Sales)**"
   ]
  },
  {
   "cell_type": "code",
   "execution_count": null,
   "metadata": {
    "id": "3dzuH7TpwKdr",
    "scrolled": true
   },
   "outputs": [],
   "source": [
    "\n"
   ]
  },
  {
   "cell_type": "markdown",
   "metadata": {
    "id": "58qjhtPYV5fl"
   },
   "source": [
    "- **질문:** 시각화 결과로 무엇을 확인할 수 있나요?"
   ]
  },
  {
   "cell_type": "code",
   "execution_count": null,
   "metadata": {
    "id": "vZJgCfNlV5fl"
   },
   "outputs": [],
   "source": [
    "#"
   ]
  },
  {
   "cell_type": "markdown",
   "metadata": {
    "id": "q9ixhYh4RZKM"
   },
   "source": [
    "2️⃣ **판매가격(Price) → 판매량(Sales)**"
   ]
  },
  {
   "cell_type": "code",
   "execution_count": null,
   "metadata": {
    "id": "z5UPeabZRZKO",
    "scrolled": true
   },
   "outputs": [],
   "source": [
    "\n"
   ]
  },
  {
   "cell_type": "markdown",
   "metadata": {
    "id": "tYwJsc7hV394"
   },
   "source": [
    "- **질문:** 시각화 결과로 무엇을 확인할 수 있나요?"
   ]
  },
  {
   "cell_type": "code",
   "execution_count": null,
   "metadata": {
    "id": "99V1OIPYV395"
   },
   "outputs": [],
   "source": [
    "#"
   ]
  },
  {
   "cell_type": "markdown",
   "metadata": {
    "id": "IPPKkHKURZtt"
   },
   "source": [
    "3️⃣ **평균연령(Age) → 판매량(Sales)**"
   ]
  },
  {
   "cell_type": "code",
   "execution_count": null,
   "metadata": {
    "id": "XjHIIR5kRZtu",
    "scrolled": true
   },
   "outputs": [],
   "source": [
    "\n"
   ]
  },
  {
   "cell_type": "markdown",
   "metadata": {
    "id": "9DW8ISOeuIlJ"
   },
   "source": [
    "- **질문:** 시각화 결과로 무엇을 확인할 수 있나요?"
   ]
  },
  {
   "cell_type": "code",
   "execution_count": null,
   "metadata": {
    "id": "z-knQFBNuCp4"
   },
   "outputs": [],
   "source": [
    "#"
   ]
  },
  {
   "cell_type": "markdown",
   "metadata": {
    "id": "5dBpSEVZws0n"
   },
   "source": [
    "**2) 모든 숫자형 변수에 대한 산점도를 한꺼번에 그려보세요.**"
   ]
  },
  {
   "cell_type": "code",
   "execution_count": null,
   "metadata": {
    "id": "lLgCV5xowKdx"
   },
   "outputs": [],
   "source": [
    "\n"
   ]
  },
  {
   "cell_type": "markdown",
   "metadata": {
    "id": "k1m2pIPVwKdy"
   },
   "source": [
    "## **3. 수치화**"
   ]
  },
  {
   "cell_type": "markdown",
   "metadata": {
    "id": "_heZRGYvYpbB"
   },
   "source": [
    "**1) 다음 두 변수들 간의 상관관계를 상관계수와 p_value로 수치화해 확인하세요.**"
   ]
  },
  {
   "cell_type": "markdown",
   "metadata": {
    "id": "gVIdjyfIx5HO"
   },
   "source": [
    "1️⃣ **평균소득(Income) → 판매량(Sales)**"
   ]
  },
  {
   "cell_type": "code",
   "execution_count": null,
   "metadata": {
    "id": "WbaoOuB9wKdy"
   },
   "outputs": [],
   "source": [
    "\n"
   ]
  },
  {
   "cell_type": "markdown",
   "metadata": {
    "id": "MxkSrIROOOkS"
   },
   "source": [
    "- **질문:** 결과를 해석해 보세요."
   ]
  },
  {
   "cell_type": "code",
   "execution_count": null,
   "metadata": {
    "id": "59tsqC1lyLZo"
   },
   "outputs": [],
   "source": [
    "#"
   ]
  },
  {
   "cell_type": "markdown",
   "metadata": {
    "id": "f1sZW-MGTgaL"
   },
   "source": [
    "2️⃣ **판매가격(Price) → 판매량(Sales)**"
   ]
  },
  {
   "cell_type": "code",
   "execution_count": null,
   "metadata": {
    "id": "DiLK2laZTgaM"
   },
   "outputs": [],
   "source": [
    "\n"
   ]
  },
  {
   "cell_type": "markdown",
   "metadata": {
    "id": "Rrbfq7hnTgaM"
   },
   "source": [
    "- **질문:** 결과를 해석해 보세요."
   ]
  },
  {
   "cell_type": "code",
   "execution_count": null,
   "metadata": {
    "id": "X1IgJPr2TgaM"
   },
   "outputs": [],
   "source": [
    "#"
   ]
  },
  {
   "cell_type": "markdown",
   "metadata": {
    "id": "TcldJx_BToDv"
   },
   "source": [
    "3️⃣ **평균연령(Age) → 판매량(Sales)**"
   ]
  },
  {
   "cell_type": "code",
   "execution_count": null,
   "metadata": {
    "id": "cESxxKcdToDw"
   },
   "outputs": [],
   "source": [
    "\n"
   ]
  },
  {
   "cell_type": "markdown",
   "metadata": {
    "id": "-YV_pSr5ToDw"
   },
   "source": [
    "- **질문:** 결과를 해석해 보세요."
   ]
  },
  {
   "cell_type": "code",
   "execution_count": null,
   "metadata": {
    "id": "l13462_GToDw"
   },
   "outputs": [],
   "source": [
    "#"
   ]
  },
  {
   "cell_type": "markdown",
   "metadata": {
    "id": "KErrkEr_yURt"
   },
   "source": [
    "**2) 각 변수들 간에 상관계수를 구해 보세요.**"
   ]
  },
  {
   "cell_type": "code",
   "execution_count": null,
   "metadata": {
    "id": "vYfcwSN6yURu"
   },
   "outputs": [],
   "source": [
    "\n"
   ]
  },
  {
   "cell_type": "markdown",
   "metadata": {
    "id": "OPQOF5h4Iu0S"
   },
   "source": [
    "**3) 위 결과를 Seaborn의 heatmap() 함수로 시각화하세요.**"
   ]
  },
  {
   "cell_type": "code",
   "execution_count": null,
   "metadata": {
    "id": "NiDa5wAlIuHL"
   },
   "outputs": [],
   "source": [
    "\n"
   ]
  },
  {
   "cell_type": "markdown",
   "metadata": {
    "id": "DEgBBTOFymeA"
   },
   "source": [
    "- **질문:** 위 결과에서 가장 강한 상관관계와 약한 상관관계를 찾아 보세요."
   ]
  },
  {
   "cell_type": "code",
   "execution_count": null,
   "metadata": {
    "id": "fux8i_JvyURv"
   },
   "outputs": [],
   "source": [
    "# 가장 강한 상관관계:\n",
    "# 가장 약한 상관관계:"
   ]
  }
 ],
 "metadata": {
  "colab": {
   "provenance": []
  },
  "kernelspec": {
   "display_name": "Python 3",
   "language": "python",
   "name": "python3"
  },
  "language_info": {
   "codemirror_mode": {
    "name": "ipython",
    "version": 3
   },
   "file_extension": ".py",
   "mimetype": "text/x-python",
   "name": "python",
   "nbconvert_exporter": "python",
   "pygments_lexer": "ipython3",
   "version": "3.12.7"
  }
 },
 "nbformat": 4,
 "nbformat_minor": 4
}
