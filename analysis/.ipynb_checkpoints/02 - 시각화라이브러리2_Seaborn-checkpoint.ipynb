{
 "cells": [
  {
   "cell_type": "markdown",
   "metadata": {
    "id": "b3TDAdnvnSbh"
   },
   "source": [
    "<center><img src='https://raw.githubusercontent.com/Jangrae/img/master/title.png' width=500/></center>\n"
   ]
  },
  {
   "cell_type": "markdown",
   "metadata": {
    "id": "hcMvGL6S2lYP"
   },
   "source": [
    "\n",
    "# **시각화 라이브러리 ② - Seaborn**"
   ]
  },
  {
   "cell_type": "markdown",
   "metadata": {
    "id": "EnlYouStN0Le"
   },
   "source": [
    "\n",
    "\n",
    "- Seaborn은 파이썬 시각화 라이브러리 중 하나입니다.\n",
    "- Matplotlib 기반으로 작성된 고수준 인터페이스를 제공하여 쉽게 시각화할 수 있도록 도와줍니다.\n",
    "- Matplotlib보다 훨씬 간편하고 직관적인 API를 제공합니다.\n",
    "- 이를 통해 통계 그래픽을 생성하는 데 필요한 많은 작업을 단순화할 수 있습니다.\n",
    "- Matplotlib과 함께 사용되는 것이 일반적입니다.\n",
    "- Matplotlib에서 지원하지 않는 색상 팔레트, 테마 등을 제공합니다.\n",
    "- Matplotlib보다 훨씬 다양한 스타일과 테마를 지원하며, 더욱 효과적인 시각화를 가능하게 합니다."
   ]
  },
  {
   "cell_type": "markdown",
   "metadata": {
    "id": "0SJP-uYxN0Lk"
   },
   "source": [
    "## **1. 환경준비**\n",
    "\n",
    "- 이후 사용할 기본 라이브러를 불러오고 분석 대상 데이터를 읽어옵니다."
   ]
  },
  {
   "cell_type": "code",
   "execution_count": null,
   "metadata": {
    "id": "ba319GIZlcFB"
   },
   "outputs": [],
   "source": [
    "import numpy as np\n",
    "import pandas as pd\n",
    "import matplotlib.pyplot as plt\n",
    "import seaborn as sns\n",
    "import warnings\n",
    "\n",
    "warnings.filterwarnings(action='ignore')\n",
    "%config InlineBackend.figure_format='retina'"
   ]
  },
  {
   "cell_type": "code",
   "execution_count": null,
   "metadata": {
    "id": "BEiaACx-PPYi"
   },
   "outputs": [],
   "source": [
    "# Titanic 데이터\n",
    "path = 'https://raw.githubusercontent.com/Jangrae/csv/master/titanic_simple.csv'\n",
    "titanic = pd.read_csv(path)\n",
    "titanic.dropna(inplace=True)\n",
    "\n",
    "# 확인\n",
    "titanic.head()"
   ]
  },
  {
   "cell_type": "markdown",
   "metadata": {
    "id": "VjjG_iJ_qnGf"
   },
   "source": [
    "**📋 데이터 정보**\n",
    "\n",
    "- PassengerId : 승객 번호\n",
    "- Survived : 생존 여부(1:생존, 0:사망)\n",
    "- Pclass : 객실 등급(1:1등급, 2:2등급, 3:3등급)\n",
    "- Name : 승객 이름\n",
    "- Sex : 성별(male, female)\n",
    "- Age : 나이\n",
    "- Fare : 운임($)\n",
    "- Embarked : 승선 지역(Southampton, Cherbourg, Queenstown)"
   ]
  },
  {
   "cell_type": "code",
   "execution_count": null,
   "metadata": {
    "id": "fdkAgEiePPYz"
   },
   "outputs": [],
   "source": [
    "# Iris 데이터\n",
    "path = 'https://raw.githubusercontent.com/Jangrae/csv/master/iris.csv'\n",
    "iris = pd.read_csv(path)\n",
    "iris.head()"
   ]
  },
  {
   "cell_type": "markdown",
   "metadata": {
    "id": "tdmcsCsTo7--"
   },
   "source": [
    "**📋 데이터 정보**\n",
    "\n",
    "- Sepal.Length: 꽃받침의 길이\n",
    "- Sepal.Width: 꽃받침의 너비\n",
    "- Petal.Length: 꽃잎의 길이\n",
    "- Petal.Width: 꽃잎의 너비"
   ]
  },
  {
   "cell_type": "markdown",
   "metadata": {
    "id": "5L4FDWm9zm8R"
   },
   "source": [
    "## **2. 기본 그래프**\n",
    "\n",
    "- 우선 가장 일반적인 차트 기능부터 살펴봅니다."
   ]
  },
  {
   "cell_type": "markdown",
   "metadata": {
    "id": "GB26Ro0Bz_ap"
   },
   "source": [
    "### **2.1. Histogram**\n",
    "\n",
    "- **histplot()** 함수는 단일 변수의 데이터 분포를 Histogram으로 표시합니다.\n",
    "- **hue** 매개변수를 사용하여 구분 기준이 되는 범주형 변수를 지정할 수도 있습니다."
   ]
  },
  {
   "cell_type": "markdown",
   "metadata": {
    "id": "CUTbsbM83wtm"
   },
   "source": [
    "- Age 열 데이터 분포를 Histogram으로 확인해 봅니다."
   ]
  },
  {
   "cell_type": "code",
   "execution_count": null,
   "metadata": {
    "id": "fPe-O_pjzm8S",
    "scrolled": true
   },
   "outputs": [],
   "source": [
    "sns.histplot(x='Age', data=titanic, bins=16, edgecolor='k')\n",
    "plt.show()"
   ]
  },
  {
   "cell_type": "markdown",
   "metadata": {
    "id": "xMPtDtOL-Arj"
   },
   "source": [
    "- Age 열 데이터 분포를 Survived 열을 기준으로 구분해 확인해 봅니다."
   ]
  },
  {
   "cell_type": "code",
   "execution_count": null,
   "metadata": {
    "id": "julFR2cBz9uN"
   },
   "outputs": [],
   "source": [
    "sns.histplot(x='Age', hue='Survived', data=titanic, bins=16, edgecolor='k')\n",
    "plt.show()"
   ]
  },
  {
   "cell_type": "markdown",
   "metadata": {
    "id": "g2HR4Mrj0YYj"
   },
   "source": [
    "### **2.2. Density Plot**\n",
    "\n",
    "- **kdeplot()** 함수는 단일 변수 또는 두 변수의 데이터 분포를 Density Plot으로 표시합니다.\n",
    "- 숫자형 변수의 값 분포를 확인할 수 있는 커널밀도함수 그래프를 표시합니다.\n",
    "- 그래프 아래의 면적이 1이 됩니다.\n",
    "- x와 y 매개변수 중 하나를 사용하여 변수를 지정해 표시되는 방향을 조정합니다.\n",
    "- hue 매개변수를 사용하여 구분 기준이 되는 범주형 변수를 지정할 수 있습니다."
   ]
  },
  {
   "cell_type": "markdown",
   "metadata": {
    "id": "3pxIAkSk3YyZ"
   },
   "source": [
    "- Age 변수의 데이터 분포를 Density Plot으로 확인해 봅니다."
   ]
  },
  {
   "cell_type": "code",
   "execution_count": null,
   "metadata": {
    "id": "6ZNi2exI0YYj"
   },
   "outputs": [],
   "source": [
    "sns.kdeplot(x='Age', data=titanic)\n",
    "plt.show()"
   ]
  },
  {
   "cell_type": "markdown",
   "metadata": {
    "id": "xGIftTHe9YyH"
   },
   "source": [
    "- Age 변수의 데이터 분포를 Survived 열을 기준으로 구분해 확인해 봅니다.\n",
    "- **common_norm=False**를 지정하면 그래프 각각의 면적이 1이 됩니다."
   ]
  },
  {
   "cell_type": "code",
   "execution_count": null,
   "metadata": {
    "id": "fqnu97VU0YYj"
   },
   "outputs": [],
   "source": [
    "sns.kdeplot(x='Age', hue='Survived', data=titanic, common_norm=False)\n",
    "plt.show()"
   ]
  },
  {
   "cell_type": "markdown",
   "metadata": {
    "id": "9Vhf4mRezsjZ"
   },
   "source": [
    "- **common_norm=True**를 지정하면 두 그래프 면적의 합이 1이 됩니다."
   ]
  },
  {
   "cell_type": "code",
   "execution_count": null,
   "metadata": {
    "id": "PRx5xzCIzsjZ"
   },
   "outputs": [],
   "source": [
    "sns.kdeplot(x='Age', hue='Survived', data=titanic, common_norm=True)\n",
    "plt.show()"
   ]
  },
  {
   "cell_type": "markdown",
   "metadata": {
    "id": "pNOoOPNO0vgf"
   },
   "source": [
    "### **2.3. Box Plot**\n",
    "\n",
    "- **boxplot()** 함수는 단일 변수나 여러 변수의 분포를 Box Plot으로 표시합니다.\n",
    "- 변수의 분포와 이상치(Outlier)를 시각적으로 탐색할 수 있습니다.\n",
    "- boxplot() 함수는 x와 y 매개변수 중 하나를 사용하여 변수를 지정합니다.\n",
    "-  hue 매개변수를 사용하여 구분 기준이 되는 범주형 변수를 지정할 수 있습니다."
   ]
  },
  {
   "cell_type": "markdown",
   "metadata": {
    "id": "rrfVjirB2Xs9"
   },
   "source": [
    "- Age 변수의 데이터 분포를 Box Plot으로 확인해 봅니다.\n",
    "- y 축에 대상 열을 지정하면 세로 형태로 표시됩니다."
   ]
  },
  {
   "cell_type": "code",
   "execution_count": null,
   "metadata": {
    "id": "qrjRPmyq0vgg"
   },
   "outputs": [],
   "source": [
    "sns.boxplot(y='Age', data=titanic)\n",
    "plt.show()"
   ]
  },
  {
   "cell_type": "markdown",
   "metadata": {
    "id": "vlkNNZ8w83lE"
   },
   "source": [
    "- Age 변수의 데이터 분포를 Survived 열을 기준으로 구분해 확인해 봅니다.\n",
    "- x 축에 구분 기준이 되는 열을 지정합니다."
   ]
  },
  {
   "cell_type": "code",
   "execution_count": null,
   "metadata": {
    "id": "fF887p_00vgg"
   },
   "outputs": [],
   "source": [
    "sns.boxplot(y='Age', x='Survived', data=titanic)\n",
    "plt.show()"
   ]
  },
  {
   "cell_type": "markdown",
   "metadata": {
    "id": "_vGLNPzB_97s"
   },
   "source": [
    "- x 축에 대상 열을 지정하면 가로 형태로 표시할 수 있습니다."
   ]
  },
  {
   "cell_type": "code",
   "execution_count": null,
   "metadata": {
    "id": "GSB9tvaZ_0cW"
   },
   "outputs": [],
   "source": [
    "sns.boxplot(x='Age', data=titanic)\n",
    "plt.show()"
   ]
  },
  {
   "cell_type": "markdown",
   "metadata": {
    "id": "F06ue_i6B2nt"
   },
   "source": [
    "- y축에 구분 기준이 되는 열을 지정하고 **orient='h'**를 지정합니다."
   ]
  },
  {
   "cell_type": "code",
   "execution_count": null,
   "metadata": {
    "id": "I0o4rolUAdPZ"
   },
   "outputs": [],
   "source": [
    "sns.boxplot(x='Age', y='Survived', data=titanic, orient='h')\n",
    "plt.show()"
   ]
  },
  {
   "cell_type": "markdown",
   "metadata": {
    "id": "wmVp-7irBxYL"
   },
   "source": [
    "- Box Plot의 정확한 의미는 이후에 살펴볼 예정입니다."
   ]
  },
  {
   "cell_type": "markdown",
   "metadata": {
    "id": "fnLt489kqb0u"
   },
   "source": [
    "## **3. 고급 그래프**\n",
    "\n",
    "- 다양한 정보를 쉽게 확인할 수 있는 멋진 그래프를 살펴봅니다."
   ]
  },
  {
   "cell_type": "markdown",
   "metadata": {
    "id": "qJ4WJMEvN0Ls"
   },
   "source": [
    "### **3.1. Distribution Plot**\n",
    "\n",
    "- **distplot()** 함수는 단일 변수의 분포를 시각화하기 위한 함수입니다.\n",
    "- Histogram과 Density Plot을 같이 표시할 수 있습니다.\n",
    "- **kde** 매개변수를 사용하여 커널밀도함수 그래프를 추가로 그릴지 여부를 지정합니다.\n",
    "- **rug** 매개변수를 사용하여 각 데이터 포인트의 위치를 보여주는 선을 그릴지 지정할 수 있습니다.\n",
    "- **hist_kws** 매개변수에 꾸미기 위한 다양한 설정 값을 딕셔너리 형태로 전달합니다."
   ]
  },
  {
   "cell_type": "code",
   "execution_count": null,
   "metadata": {
    "id": "f6Mexrt-N0Lt"
   },
   "outputs": [],
   "source": [
    "sns.distplot(x=titanic['Age'], bins=16, hist_kws={'edgecolor': 'k'})\n",
    "plt.show()"
   ]
  },
  {
   "cell_type": "markdown",
   "metadata": {
    "id": "H09gLkspN0Lt"
   },
   "source": [
    "### **3.2. Joint Plot**\n",
    "\n",
    "- **jointplot()** 함수는 두 변수 간의 관계를 시각화하기 위해 산점도와 히스토그램을 함께 그려줍니다.\n",
    "- **kind** 매개변수를 사용하여 그래프의 종류를 지정할 수 있습니다.\n",
    "- **hue** 매개변수를 사용하여 구분 기준이 되는 범주형 변수를 지정할 수 있습니다."
   ]
  },
  {
   "cell_type": "code",
   "execution_count": null,
   "metadata": {
    "id": "8P0gYJntN0Lu"
   },
   "outputs": [],
   "source": [
    "sns.jointplot(x='Petal.Length', y='Petal.Width', data=iris)\n",
    "plt.show()"
   ]
  },
  {
   "cell_type": "markdown",
   "metadata": {
    "id": "uvKfsOeoDQAm"
   },
   "source": [
    "\n",
    "- Seaborn의 가장 큰 특징은 hue 매개변수에 범주형 변수를 지정해 색깔을 구분해 볼 수 있다는 것입니다.\n",
    "- Species 열을 구분 기준 열로 지정해 봅니다."
   ]
  },
  {
   "cell_type": "code",
   "execution_count": null,
   "metadata": {
    "id": "Ux3MInIrN0Lu"
   },
   "outputs": [],
   "source": [
    "sns.jointplot(x='Petal.Length', y='Petal.Width', data=iris, hue='Species')\n",
    "plt.show()"
   ]
  },
  {
   "cell_type": "markdown",
   "metadata": {
    "id": "c4ZFMclX2xKq"
   },
   "source": [
    "### **3.3. Pair Plot**\n",
    "\n",
    "- **pairplot()** 함수는 변수 간의 산점도 및 변수 분포를 한 번에 시각화하는 기능을 제공합니다.\n",
    "- hue 매개변수를 사용하여 추가적인 범주형 변수를 지정할 수 있습니다.\n",
    "- 하지만 그려지는 데 **시간이 많이 걸리는 단점**이 있습니다."
   ]
  },
  {
   "cell_type": "code",
   "execution_count": null,
   "metadata": {
    "id": "SaC0mvRZN0Lu"
   },
   "outputs": [],
   "source": [
    "sns.pairplot(iris, hue='Species')\n",
    "plt.show()"
   ]
  },
  {
   "cell_type": "markdown",
   "metadata": {
    "id": "B_k0bJmb26Vq"
   },
   "source": [
    "### **3.4. Count Plot**\n",
    "\n",
    "- **countplot()** 함수는 범주형 변수의 빈도를 막대 그래프로 시각화하는 함수입니다.\n",
    "- 주어진 데이터셋에서 각 범주의 개수를 계산하고 막대 그래프를 그려줍니다.\n",
    "- hue 매개변수를 사용하여 특정 범주형 변수를 기준으로 구분해 표시할 수 있습니다.\n",
    "- order와 hue_order 매개변수를 사용하여 막대 그래프에 그려질 범주의 순서를 지정할 수 있습니다.\n"
   ]
  },
  {
   "cell_type": "markdown",
   "metadata": {
    "id": "ZUiVgiZ2zDU9"
   },
   "source": [
    "- Embarked 변수의 범줏값이 몇 개씩 포함되어 있는지 확인해 봅니다."
   ]
  },
  {
   "cell_type": "code",
   "execution_count": null,
   "metadata": {
    "id": "d8_XYbV2N0Lu"
   },
   "outputs": [],
   "source": [
    "sns.countplot(x='Embarked', data=titanic)\n",
    "plt.show()"
   ]
  },
  {
   "cell_type": "markdown",
   "metadata": {
    "id": "JJER1b2TEmb6"
   },
   "source": [
    "- hue 옵션에 Survived 변수를 지정해 생존 여부로 구분해 봅니다."
   ]
  },
  {
   "cell_type": "code",
   "execution_count": null,
   "metadata": {
    "id": "hpGLx-wAN0Lv"
   },
   "outputs": [],
   "source": [
    "sns.countplot(x='Embarked', hue='Survived', data=titanic)\n",
    "plt.show()"
   ]
  },
  {
   "cell_type": "markdown",
   "metadata": {
    "id": "ugXc4K2c2_43"
   },
   "source": [
    "### **3.5. Bar Plot**\n",
    "\n",
    "- **barplot()** 함수는 범주형 변수에 대한 막대 그래프를 그리는 함수입니다.\n",
    "- barplot() 함수는 데이터를 추정하고 오차 막대를 표시할 수 있습니다.\n",
    "- 이 오차 막대는 각 범주의 **평균**과 **신뢰 구간**을 시각화하는 데 사용됩니다.\n",
    "- hue 매개변수를 사용하여 특정 범주형 변수를 기준으로 구분해 표시할 수 있습니다.\n",
    "- 예를 들어, hue 매개변수를 사용하여 다른 집단에 대한 데이터를 시각적으로 구분할 수 있습니다.\n",
    "- barplot() 함수는 기본적으로 평균값을 계산하고 오차 막대를 그립니다.\n",
    "- 필요하다면 estimator 매개변수를 사용하여 다른 추정값을 지정할 수 있습니다.\n",
    "- 예를 들어, estimator=np.median를 사용하여 중앙값을 계산할 수 있습니다."
   ]
  },
  {
   "cell_type": "code",
   "execution_count": null,
   "metadata": {
    "id": "tXEyy9fbN0Lv"
   },
   "outputs": [],
   "source": [
    "sns.barplot(x='Embarked', y='Fare', data=titanic)\n",
    "plt.show()"
   ]
  },
  {
   "cell_type": "markdown",
   "metadata": {
    "id": "r1N9VhYY3Ffy"
   },
   "source": [
    "### **3.6. Heatmap**\n",
    "\n",
    "- **heatmap()** 함수는 두 범주형 변수를 집계한 결과를 색의 농도 차이로 표시합니다.\n",
    "- 이를 위해서 집계(groupby)와 피봇(pivot)을 먼저 만들어 줘야 합니다.\n",
    "- 여러 범줏값을 갖는 변수를 비교할 때 유용합니다.\n",
    "- Embarked 별 Pclass 별 탑승자 수를 표시해 봅니다."
   ]
  },
  {
   "cell_type": "code",
   "execution_count": null,
   "metadata": {
    "id": "HcRi3BY3N0Lw"
   },
   "outputs": [],
   "source": [
    "temp1 = titanic.groupby(['Embarked', 'Pclass'], as_index=False)['PassengerId'].count()\n",
    "temp2 = temp1.pivot(index='Embarked', columns='Pclass', values='PassengerId')\n",
    "display(temp2)\n",
    "\n",
    "sns.heatmap(temp2, annot=True)\n",
    "plt.show()"
   ]
  },
  {
   "cell_type": "markdown",
   "metadata": {
    "id": "IYxwPGNpGkJ5"
   },
   "source": [
    "- 표시되는 값을 정수로, 구간 간격을 조금 벌려봅니다.\n",
    "- 색상도 다르게 지정해 봅니다."
   ]
  },
  {
   "cell_type": "code",
   "execution_count": null,
   "metadata": {
    "id": "Lh-zjizUQxlU"
   },
   "outputs": [],
   "source": [
    "sns.heatmap(temp2, annot=True, fmt='d', linewidth=2, cmap='Blues')\n",
    "plt.show()"
   ]
  }
 ],
 "metadata": {
  "colab": {
   "provenance": []
  },
  "kernelspec": {
   "display_name": "Python 3",
   "language": "python",
   "name": "python3"
  },
  "language_info": {
   "codemirror_mode": {
    "name": "ipython",
    "version": 3
   },
   "file_extension": ".py",
   "mimetype": "text/x-python",
   "name": "python",
   "nbconvert_exporter": "python",
   "pygments_lexer": "ipython3",
   "version": "3.12.7"
  }
 },
 "nbformat": 4,
 "nbformat_minor": 4
}
