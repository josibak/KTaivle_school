{
 "cells": [
  {
   "cell_type": "markdown",
   "metadata": {
    "id": "b3TDAdnvnSbh"
   },
   "source": [
    "<center><img src='https://raw.githubusercontent.com/Jangrae/img/master/title.png' width=500/></center>\n"
   ]
  },
  {
   "cell_type": "markdown",
   "metadata": {
    "id": "Rbbv5Z0f5jjC"
   },
   "source": [
    "\n",
    "# **단변량 분석 ① - 수치형**"
   ]
  },
  {
   "cell_type": "markdown",
   "metadata": {
    "id": "mVOYUVwYNrob"
   },
   "source": [
    "- 수치형 변수는 크기를 비교할 수 있는 연속적인 숫자를 갖는 변수입니다.\n",
    "- 예를 들어 Titanic 데이터프레임의 Age, Fare 등의 변수는 수치형 변수입니다.\n",
    "- 이런 수치형 변수는 값의 분포와 평균, 최댓값, 최솟값, 중앙값 등을 확인해 분석합니다."
   ]
  },
  {
   "cell_type": "markdown",
   "metadata": {
    "id": "hynlqeBw0M3n"
   },
   "source": [
    "<img src='https://raw.githubusercontent.com/Jangrae/img/master/var_01.png' width=600 align='left'/>"
   ]
  },
  {
   "cell_type": "markdown",
   "metadata": {
    "id": "c1uOWzZl_YZH"
   },
   "source": [
    "## **1.환경준비**\n",
    "\n",
    "- 사용할 라이브러리와 분석 대상 데이터를 불러옵니다."
   ]
  },
  {
   "cell_type": "code",
   "execution_count": null,
   "metadata": {
    "id": "ba319GIZlcFB"
   },
   "outputs": [],
   "source": [
    "import numpy as np\n",
    "import pandas as pd\n",
    "import matplotlib.pyplot as plt\n",
    "import seaborn as sns\n",
    "import warnings\n",
    "\n",
    "warnings.filterwarnings(action='ignore')\n",
    "%config InlineBackend.figure_format='retina'\n",
    "plt.rcParams['figure.figsize'] = (6, 4)"
   ]
  },
  {
   "cell_type": "code",
   "execution_count": null,
   "metadata": {
    "id": "GGiShK-RqnGf"
   },
   "outputs": [],
   "source": [
    "# Titanic 데이터\n",
    "path = 'https://raw.githubusercontent.com/Jangrae/csv/master/titanic_simple.csv'\n",
    "titanic = pd.read_csv(path)\n",
    "\n",
    "# 확인\n",
    "titanic.head()"
   ]
  },
  {
   "cell_type": "markdown",
   "metadata": {
    "id": "VjjG_iJ_qnGf"
   },
   "source": [
    "**📋 데이터 정보**\n",
    "\n",
    "- PassengerId : 승객 번호\n",
    "- Survived : 생존 여부(1:생존, 0:사망)\n",
    "- Pclass : 객실 등급(1:1등급, 2:2등급, 3:3등급)\n",
    "- Name : 승객 이름\n",
    "- Sex : 성별(male, female)\n",
    "- Age : 나이\n",
    "- Fare : 운임($)\n",
    "- Embarked : 승선 지역(Southampton, Cherbourg, Queenstown)"
   ]
  },
  {
   "cell_type": "code",
   "execution_count": null,
   "metadata": {
    "id": "mln1ip8Eqvvi",
    "scrolled": true
   },
   "outputs": [],
   "source": [
    "# AirQuality 데이터\n",
    "air = pd.read_csv('https://raw.githubusercontent.com/Jangrae/csv/master/airquality2.csv')\n",
    "air.head()"
   ]
  },
  {
   "cell_type": "markdown",
   "metadata": {
    "id": "70oTx7P0qvvh"
   },
   "source": [
    "**📋 데이터 정보**\n",
    "\n",
    "- Ozone: 오존 농도  \n",
    "- Solar.R: 태양복사량\n",
    "- Wind: 풍속\n",
    "- Temp: 기온\n",
    "- Date: 측정 년월일"
   ]
  },
  {
   "cell_type": "markdown",
   "metadata": {
    "id": "nwmAb_eGqD4v"
   },
   "source": [
    "## **2. 수치화**\n",
    "\n",
    "- 수치형 변수를 수치화해 분석할 때는 평균, 중앙값, 최빈값, 4분위수 등 대푯값을 사용합니다.\n",
    "- Pandas의 **describe()** 메소드를 사용해 수치형 변수의 통계 정보를 쉽게 확인할 수 있습니다."
   ]
  },
  {
   "cell_type": "markdown",
   "metadata": {
    "id": "qY83KTiYc0n9"
   },
   "source": [
    "### **2.1. 대푯값**\n",
    "\n",
    "- 우선 대푯값의 의미와 확인 방법을 살펴봅니다."
   ]
  },
  {
   "cell_type": "markdown",
   "metadata": {
    "id": "TSH5qe--sZsK"
   },
   "source": [
    "**1) 평균**\n",
    "\n",
    "- 가장 대표적인 대푯값이 평균입니다.\n",
    "- **mean()** 메소드로 평균을 구합니다."
   ]
  },
  {
   "cell_type": "code",
   "execution_count": null,
   "metadata": {
    "id": "2orVHYWcuI-_"
   },
   "outputs": [],
   "source": [
    "titanic['Fare'].mean()"
   ]
  },
  {
   "cell_type": "markdown",
   "metadata": {
    "id": "VH6yv56lsfZR"
   },
   "source": [
    "**2) 중앙값(중위수, median)**\n",
    "\n",
    "- 데이터를 크기 순으로 나열한 상태에서 가운데 위치한 값을 중앙값이라고 합니다.\n",
    "- **median()** 메소드로 중앙값을 구합니다."
   ]
  },
  {
   "cell_type": "code",
   "execution_count": null,
   "metadata": {
    "id": "-iijsBv3ugA9"
   },
   "outputs": [],
   "source": [
    "titanic['Fare'].median()"
   ]
  },
  {
   "cell_type": "markdown",
   "metadata": {
    "id": "aFytLj2tstrS"
   },
   "source": [
    "**3) 최빈값**\n",
    "\n",
    "- 데이터 중에서 가장 빈번하게 나타나는 값, 즉 빈도가 가장 높은 값을 최빈값이라고 합니다.\n",
    "- 같은 빈도의 값이 여럿 존재할 수 있으므로 최빈값은 여러 개 존재 할 수 있습니다.\n",
    "- **mode()** 메소드로 최빈값을 확인합니다."
   ]
  },
  {
   "cell_type": "code",
   "execution_count": null,
   "metadata": {
    "id": "lCVHNV9DsubB"
   },
   "outputs": [],
   "source": [
    "titanic['Pclass'].mode()"
   ]
  },
  {
   "cell_type": "markdown",
   "metadata": {
    "id": "KNUjp4U0K7YD"
   },
   "source": [
    "- 실제 최빈값은 다음과 같이 인덱스를 사용해 조회합니다."
   ]
  },
  {
   "cell_type": "code",
   "execution_count": null,
   "metadata": {
    "id": "tAYT4GSpK7YD"
   },
   "outputs": [],
   "source": [
    "titanic['Pclass'].mode()[0]"
   ]
  },
  {
   "cell_type": "markdown",
   "metadata": {
    "id": "vTDE0Dzxs01S"
   },
   "source": [
    "**4) 4분위수**\n",
    "\n",
    "- **describe()** 메소드로 4분위수를 확인할 수 있습니다."
   ]
  },
  {
   "cell_type": "markdown",
   "metadata": {
    "id": "0HGWIiwZ6qZy"
   },
   "source": [
    "<img src='https://raw.githubusercontent.com/jangrae/img/master/quartile2.png' width=700 align=\"left\"/>"
   ]
  },
  {
   "cell_type": "code",
   "execution_count": null,
   "metadata": {
    "id": "YNvEQWyqJS6H"
   },
   "outputs": [],
   "source": [
    "titanic['Fare'].describe()"
   ]
  },
  {
   "cell_type": "markdown",
   "metadata": {
    "id": "1p_PfhMIK7YE"
   },
   "source": [
    "- 1사분위수(25%)를 Q1, 2사분위수(50%)를 Q2, 3사분위수(75%)를 Q3로 지칭합니다.\n",
    "- 다음과 같이 Q1, Q2, Q3 값을 개별적으로 확인할 수 있습니다."
   ]
  },
  {
   "cell_type": "code",
   "execution_count": null,
   "metadata": {
    "id": "fY_P2sR0K7YE"
   },
   "outputs": [],
   "source": [
    "print('Q1:', titanic['Fare'].describe()['25%'])\n",
    "print('Q2:', titanic['Fare'].describe()['50%'])\n",
    "print('Q3:', titanic['Fare'].describe()['75%'])"
   ]
  },
  {
   "cell_type": "markdown",
   "metadata": {
    "id": "jMKBQrzZK7YE"
   },
   "source": [
    "- 참고로, 4사분위수(100%)를 Q4로 지칭합니다.\n",
    "- 4사분위수는 최댓값이므로 다음과 같이 Q4 값을 확인할 수 있습니다."
   ]
  },
  {
   "cell_type": "code",
   "execution_count": null,
   "metadata": {
    "id": "mHYmIc-8K7YE"
   },
   "outputs": [],
   "source": [
    "print('Q4:', titanic['Fare'].describe()['max'])"
   ]
  },
  {
   "cell_type": "markdown",
   "metadata": {
    "id": "85KHqr0rhFdC"
   },
   "source": [
    "### **2.2. 기술통계 정보**\n",
    "\n",
    "- 기술통계 정보를 사용해 데이터프레임의 데이터를 이해합니다.\n",
    "- 데이터프레임에 대한 기술통계 정보를 **describe()** 메소드로 확인합니다.\n",
    "- 기본적으로 숫자형 변수에 대한 결과만 표시됩니다."
   ]
  },
  {
   "cell_type": "code",
   "execution_count": null,
   "metadata": {
    "id": "Qh8S5zkJtnjY"
   },
   "outputs": [],
   "source": [
    "titanic.describe()"
   ]
  },
  {
   "cell_type": "markdown",
   "metadata": {
    "id": "Almn9m_opb8X"
   },
   "source": [
    "- 변수 하나에 대한 기술통계 정보를 **describe()** 메소드로 확인합니다."
   ]
  },
  {
   "cell_type": "code",
   "execution_count": null,
   "metadata": {
    "id": "2x7rQiS7sElT"
   },
   "outputs": [],
   "source": [
    "titanic['Age'].describe()"
   ]
  },
  {
   "cell_type": "markdown",
   "metadata": {
    "id": "IxbiUfjIMQxX"
   },
   "source": [
    "- 다음과 같이 대상 변수를 리스트 형태로 전달해 데이터프레임 형태로 결과를 표시할 수 있습니다."
   ]
  },
  {
   "cell_type": "code",
   "execution_count": null,
   "metadata": {
    "id": "mtQsVzdDMLIg"
   },
   "outputs": [],
   "source": [
    "titanic[['Age']].describe()"
   ]
  },
  {
   "cell_type": "markdown",
   "metadata": {
    "id": "RJA0YeMLMa00"
   },
   "source": [
    "- 다음과 같이 가로 세로 방향을 바꾸어 표시하면 내용을 이해하기가 더 쉽습니다."
   ]
  },
  {
   "cell_type": "code",
   "execution_count": null,
   "metadata": {
    "id": "-LMmVKnyMZYU"
   },
   "outputs": [],
   "source": [
    "titanic[['Age']].describe().T"
   ]
  },
  {
   "cell_type": "markdown",
   "metadata": {
    "id": "yrk10uJlZFS6"
   },
   "source": [
    "**🔍 해석**\n",
    "\n",
    "- 탑승객의 나이를 의미\n",
    "- 전체 데이터는 891건\n",
    "- Age 변수의 데이터는 714건,  나머지는 결측치\n",
    "- 탑승객 891명 중, 177명의 나이는 확인되지 않음\n",
    "- 가장 어린 나이는 0.42세, 최고령자는 80세\n",
    "- 탑승객 나이의 평균은 29.7세\n",
    "- 탑승객의 75%는 38세 이내   \n",
    "- 탑승객 중 많은 사람이 젊은 층\n"
   ]
  },
  {
   "cell_type": "code",
   "execution_count": null,
   "metadata": {
    "id": "-UBRubyopb8X",
    "scrolled": true
   },
   "outputs": [],
   "source": [
    "titanic[['Fare']].describe().T"
   ]
  },
  {
   "cell_type": "markdown",
   "metadata": {
    "id": "O0LoKSipY-5y"
   },
   "source": [
    "**🔍 해석**\n",
    "\n",
    "- 탑승객의 운임에 대한 정보\n",
    "- Fare 변수의 데이터는 891건으로 전체 데이터와 일치(결측치가 없음)\n",
    "- 운임의 범위는 0~512 달러로, 어린 아이들은 운임을 내지 않은 것으로 보임\n",
    "- 평균 운임은 32.2 달러이며, 탑승객의 75%는 31 달러 이내의 운임을 냈음\n",
    "- 평균 운임이 75% 지점 운임보다 더 큰 것으로 보아, 데이터는 왼쪽으로 굉장히 치우친 분포임\n"
   ]
  },
  {
   "cell_type": "markdown",
   "metadata": {
    "id": "nykL6hX_OWjS"
   },
   "source": [
    "<img src='https://raw.githubusercontent.com/jangrae/img/master/practice_20.png' width=120 align=\"left\"/>"
   ]
  },
  {
   "cell_type": "markdown",
   "metadata": {
    "id": "lX6zqe30IUB-"
   },
   "source": [
    "1️⃣ air 데이터프레임의 기술통계 정보를 describe() 메소드로 확인하세요."
   ]
  },
  {
   "cell_type": "code",
   "execution_count": null,
   "metadata": {
    "id": "csJ4U420FRbZ"
   },
   "outputs": [],
   "source": [
    "\n"
   ]
  },
  {
   "cell_type": "markdown",
   "metadata": {
    "id": "PXmDFiQyIdOo"
   },
   "source": [
    "2️⃣ Ozone 변수만의 기술통계 정보를 describe() 메소드로 확인하세요."
   ]
  },
  {
   "cell_type": "code",
   "execution_count": null,
   "metadata": {
    "id": "YNy99BEBFb6f"
   },
   "outputs": [],
   "source": [
    "\n"
   ]
  },
  {
   "cell_type": "markdown",
   "metadata": {
    "id": "O4IM2DPCOcmc"
   },
   "source": [
    "3️⃣ Temp 변수만의 기술통계 정보를 describe() 메소드로 확인하세요."
   ]
  },
  {
   "cell_type": "code",
   "execution_count": null,
   "metadata": {
    "id": "IvprsOrOOcmd"
   },
   "outputs": [],
   "source": [
    "\n"
   ]
  },
  {
   "cell_type": "markdown",
   "metadata": {
    "id": "OXlXtCNOOZh_"
   },
   "source": [
    "<img src='https://raw.githubusercontent.com/jangrae/img/master/practice_20e.png' width=45 align=\"left\"/>"
   ]
  },
  {
   "cell_type": "markdown",
   "metadata": {
    "id": "ns16E4en01BV"
   },
   "source": [
    "## **3.시각화**\n",
    "\n",
    "- 수치형 변수는 우선 값의 분포를 확인해야 합니다.\n",
    "- 값 분포를 확인하는 방법으로 Histogram, Density Plot, Box Plot이 대표적입니다."
   ]
  },
  {
   "cell_type": "markdown",
   "metadata": {
    "id": "3ltaI0D3qko9"
   },
   "source": [
    "### **3.1. Histogram**\n",
    "\n",
    "- Histogram은 데이터 분포를 확인하는 가장 기본적인 시각화 도구입니다.\n",
    "- **Matplotlib**의 **hist()** 함수로 Histogram을 그립니다."
   ]
  },
  {
   "cell_type": "code",
   "execution_count": null,
   "metadata": {
    "id": "0oKozK7-O7YJ"
   },
   "outputs": [],
   "source": [
    "plt.hist(x='Fare', data=titanic, ec='k')\n",
    "plt.xlabel('Fare')\n",
    "plt.ylabel('Frequency')\n",
    "plt.show()"
   ]
  },
  {
   "cell_type": "markdown",
   "metadata": {
    "id": "DGyPdn4lP9Et"
   },
   "source": [
    "- **Seaborn**의 **histplot()** 함수로 Histogram을 그립니다."
   ]
  },
  {
   "cell_type": "code",
   "execution_count": null,
   "metadata": {
    "id": "wlrmY8hLOdH3"
   },
   "outputs": [],
   "source": [
    "sns.histplot(x='Fare', data=titanic)\n",
    "plt.show()"
   ]
  },
  {
   "cell_type": "code",
   "execution_count": null,
   "metadata": {
    "id": "1ggoNTRaRxWB"
   },
   "outputs": [],
   "source": [
    "sns.histplot(x='Age', data=titanic)\n",
    "plt.show()"
   ]
  },
  {
   "cell_type": "markdown",
   "metadata": {
    "id": "h9wak3_f3MeE"
   },
   "source": [
    "- **bins** 옵션을 사용해 구간 개수를 적절히 지정합니다."
   ]
  },
  {
   "cell_type": "code",
   "execution_count": null,
   "metadata": {
    "id": "pFedUYxT3MQU"
   },
   "outputs": [],
   "source": [
    "sns.histplot(x='Fare', data=titanic, bins=20)\n",
    "plt.show()"
   ]
  },
  {
   "cell_type": "markdown",
   "metadata": {
    "id": "1IClI_fpNJp8"
   },
   "source": [
    "<img src='https://raw.githubusercontent.com/jangrae/img/master/practice_20.png' width=120 align=\"left\"/>"
   ]
  },
  {
   "cell_type": "markdown",
   "metadata": {
    "id": "aOt_MKpPNJp9"
   },
   "source": [
    "air 데이터프레임의 다음 변수들을 Seaborn의 histplot() 함수로 시각화해 데이터 분포를 확인하세요."
   ]
  },
  {
   "cell_type": "markdown",
   "metadata": {
    "id": "e_Oqtr3oNJp-"
   },
   "source": [
    "**1️⃣ Ozone**"
   ]
  },
  {
   "cell_type": "code",
   "execution_count": null,
   "metadata": {
    "id": "sdXb8ReMNJp-"
   },
   "outputs": [],
   "source": [
    "\n"
   ]
  },
  {
   "cell_type": "markdown",
   "metadata": {
    "id": "InV0Wv9rNJp-"
   },
   "source": [
    "**2️⃣ Temp**"
   ]
  },
  {
   "cell_type": "code",
   "execution_count": null,
   "metadata": {
    "id": "OnjuGm8vNJp_"
   },
   "outputs": [],
   "source": [
    "\n"
   ]
  },
  {
   "cell_type": "markdown",
   "metadata": {
    "id": "GKLs3LJ8N_MV"
   },
   "source": [
    "**3️⃣ Wind**"
   ]
  },
  {
   "cell_type": "code",
   "execution_count": null,
   "metadata": {
    "id": "inbIqkiCN_MV"
   },
   "outputs": [],
   "source": [
    "\n"
   ]
  },
  {
   "cell_type": "markdown",
   "metadata": {
    "id": "Z9Z5KHG4NJp_"
   },
   "source": [
    "<img src='https://raw.githubusercontent.com/jangrae/img/master/practice_20e.png' width=45 align=\"left\"/>"
   ]
  },
  {
   "cell_type": "markdown",
   "metadata": {
    "id": "7WD0PB06xCEs"
   },
   "source": [
    "### **3.2. Density Plot**\n",
    "\n",
    "- HIstogram은 bins 옵션에 지정한 구간 개수에 따라 전혀 다른 모양이 될 수 있습니다.\n",
    "- Density Plot을 사용해 이러한 문제를 해결할 수 있습니다.\n",
    "- Density Plot은 모든 점에서 데이터 밀도를 추정하는 커널밀도추정 방식을 사용합니다.\n",
    "- Density Plot 곡선 아래 면적은 1이 됩니다.\n",
    "- **Pandas**가 제공하는 **plot()** 메소드에 **kind='kde'** 를 지정해 Density Plot을 쉽게 그릴 수 있습니다."
   ]
  },
  {
   "cell_type": "code",
   "execution_count": null,
   "metadata": {
    "id": "15IiWH4MK7YG"
   },
   "outputs": [],
   "source": [
    "titanic['Fare'].plot(kind='kde')\n",
    "plt.show()"
   ]
  },
  {
   "cell_type": "markdown",
   "metadata": {
    "id": "m1XyuxcI7W1p"
   },
   "source": [
    "- **Seaborn**의 **kdeplot()** 함수를 사용해 Density Plot을 그립니다."
   ]
  },
  {
   "cell_type": "code",
   "execution_count": null,
   "metadata": {
    "id": "2lEXL_yx18g3"
   },
   "outputs": [],
   "source": [
    "sns.kdeplot(x='Fare', data=titanic)\n",
    "plt.show()"
   ]
  },
  {
   "cell_type": "code",
   "execution_count": null,
   "metadata": {
    "id": "kgwT4tXbUfwy"
   },
   "outputs": [],
   "source": [
    "sns.kdeplot(x='Age', data=titanic)\n",
    "plt.show()"
   ]
  },
  {
   "cell_type": "markdown",
   "metadata": {
    "id": "JdYKN2PVzCIo"
   },
   "source": [
    "**📌 확률 밀도 함수**\n",
    "\n",
    "- 셀 수 있는 값의 분포, 즉 **이산 확률 분포**는 표로 표현 할 수 있습니다.\n",
    "- 예를 들면 주사위를 던져 1 ~ 6이 나올 수 있는 확률을 표로 표현할 수 있습니다.\n",
    "- 반면에 셀 수 없는 값의 분포, 즉 **연속 확률 분포**는 대상 값이 너무 많아 표로 표현할 수 없습니다.\n",
    "- 그래서 연속 확률 분포는 **함수**, 즉 **그래프**로 표현합니다.\n",
    "- 예를 들어 키가 140~180 사이인 학생들의 키 분포는 다음과 같이 표현할 수 있습니다."
   ]
  },
  {
   "cell_type": "markdown",
   "metadata": {
    "id": "TBG55rd-zT68"
   },
   "source": [
    "<img src='https://raw.githubusercontent.com/jangrae/img/master/density.png' width=500 align=\"left\"/>"
   ]
  },
  {
   "cell_type": "markdown",
   "metadata": {
    "id": "ctVVKKYKq1V7"
   },
   "source": [
    "- 만일 키가 a~b 사이일 확률을 구하고자 한다면 위 그래프에 색이 채워진 영역의 면적입니다.\n",
    "- 그 면적이 0.4라고 한다면, 이는 40%의 확률을 의미합니다.\n",
    "- 그래프 전체 면적은 1, 즉 100%가 됩니다.\n",
    "- 이때 사용된 함수를 **확률 밀도 함수(probability density function)**라고 부릅니다."
   ]
  },
  {
   "cell_type": "markdown",
   "metadata": {
    "id": "90BzZbgjOT2W"
   },
   "source": [
    "<img src='https://raw.githubusercontent.com/jangrae/img/master/practice_20.png' width=120 align=\"left\"/>"
   ]
  },
  {
   "cell_type": "markdown",
   "metadata": {
    "id": "QRZnbnFxOT2X"
   },
   "source": [
    "air 데이터프레임의 다음 변수들을 Seaborn의 kdeplot() 함수로 시각화해 데이터 분포를 확인하세요."
   ]
  },
  {
   "cell_type": "markdown",
   "metadata": {
    "id": "6iwhKNoROT2X"
   },
   "source": [
    "**1️⃣ Ozone**"
   ]
  },
  {
   "cell_type": "code",
   "execution_count": null,
   "metadata": {
    "id": "qE8L1EKCOT2X"
   },
   "outputs": [],
   "source": [
    "\n"
   ]
  },
  {
   "cell_type": "markdown",
   "metadata": {
    "id": "FJ2PRU0_OT2X"
   },
   "source": [
    "**2️⃣ Temp**"
   ]
  },
  {
   "cell_type": "code",
   "execution_count": null,
   "metadata": {
    "id": "_c5RcAcoOT2X"
   },
   "outputs": [],
   "source": [
    "\n"
   ]
  },
  {
   "cell_type": "markdown",
   "metadata": {
    "id": "iw1WCIzCOT2Y"
   },
   "source": [
    "**3️⃣ Wind**"
   ]
  },
  {
   "cell_type": "code",
   "execution_count": null,
   "metadata": {
    "id": "SnCkIhk7OT2Y"
   },
   "outputs": [],
   "source": [
    "\n"
   ]
  },
  {
   "cell_type": "markdown",
   "metadata": {
    "id": "-suWyoGKOrkE"
   },
   "source": [
    "<img src='https://raw.githubusercontent.com/jangrae/img/master/practice_20e.png' width=45 align=\"left\"/>"
   ]
  },
  {
   "cell_type": "markdown",
   "metadata": {
    "id": "v54-dA2sx13e"
   },
   "source": [
    "### **3.3. Box Plot**\n",
    "\n",
    "- Box Plot은 이해하기가 다소 어렵지만, 데이터 분포를 확인하는 유익한 시각화 도구입니다.\n",
    "- **Matplotlib**의 **boxplot()** 함수를 사용해 Box Plot을 그립니다."
   ]
  },
  {
   "cell_type": "code",
   "execution_count": null,
   "metadata": {
    "id": "KxxCBVpOVR6-"
   },
   "outputs": [],
   "source": [
    "plt.boxplot(x='Fare', data=titanic)\n",
    "plt.show()"
   ]
  },
  {
   "cell_type": "markdown",
   "metadata": {
    "id": "CcnexkD-V0s5"
   },
   "source": [
    "- **주의**: 결측치가 있으면 그래프가 그려지지 않습니다."
   ]
  },
  {
   "cell_type": "code",
   "execution_count": null,
   "metadata": {
    "id": "lpblIsMQVuYh"
   },
   "outputs": [],
   "source": [
    "plt.boxplot(x='Age', data=titanic)\n",
    "plt.show()"
   ]
  },
  {
   "cell_type": "markdown",
   "metadata": {
    "id": "YM0zVdVWV3zK"
   },
   "source": [
    "- **Seaborn**의 **boxplot()** 함수를 사용해 Box Plot을 그립니다."
   ]
  },
  {
   "cell_type": "code",
   "execution_count": null,
   "metadata": {
    "id": "EPYG2_IgVbBD"
   },
   "outputs": [],
   "source": [
    "sns.boxplot(x='Fare', data=titanic)\n",
    "plt.show()"
   ]
  },
  {
   "cell_type": "markdown",
   "metadata": {
    "id": "TTj5jextV7Xp"
   },
   "source": [
    "- 결측치가 있어도 그려집니다."
   ]
  },
  {
   "cell_type": "code",
   "execution_count": null,
   "metadata": {
    "id": "mxA9krN0VhxW"
   },
   "outputs": [],
   "source": [
    "sns.boxplot(x='Age', data=titanic)\n",
    "plt.show()"
   ]
  },
  {
   "cell_type": "markdown",
   "metadata": {
    "id": "jr97nvKNaiJ1"
   },
   "source": [
    "- 다음과 같이 세로 방향으로 표시할 수 있습니다."
   ]
  },
  {
   "cell_type": "code",
   "execution_count": null,
   "metadata": {
    "id": "33lrzTX8W_f_"
   },
   "outputs": [],
   "source": [
    "sns.boxplot(y='Age', data=titanic)\n",
    "plt.show()"
   ]
  },
  {
   "cell_type": "markdown",
   "metadata": {
    "id": "hc8ZKlF3znVP"
   },
   "source": [
    "**📌 박스플롯의 의미**"
   ]
  },
  {
   "cell_type": "markdown",
   "metadata": {
    "id": "ZahdNGAAO5fF"
   },
   "source": [
    "<img src='https://raw.githubusercontent.com/jangrae/img/master/boxplot03.png' width=800 align=\"left\"/>"
   ]
  },
  {
   "cell_type": "markdown",
   "metadata": {
    "id": "Fq5oXvYjbQFd"
   },
   "source": [
    "- Histogram과 Bax Plot을 같이 그리면 데이터를 더 쉽게 파악할 수 있습니다."
   ]
  },
  {
   "cell_type": "code",
   "execution_count": null,
   "metadata": {
    "id": "7yxZeFFp4eVe"
   },
   "outputs": [],
   "source": [
    "plt.figure(figsize=(8, 5))\n",
    "plt.subplot(2, 1, 1)\n",
    "sns.histplot(x='Age', bins=20, data=titanic)\n",
    "\n",
    "plt.subplot(2, 1, 2)\n",
    "sns.boxplot(x='Age', data=titanic, color='w', medianprops={'color': 'tab:orange'})\n",
    "\n",
    "plt.tight_layout()\n",
    "plt.show()"
   ]
  },
  {
   "cell_type": "markdown",
   "metadata": {
    "id": "s2PS8ALfOuYn"
   },
   "source": [
    "<img src='https://raw.githubusercontent.com/jangrae/img/master/practice_20.png' width=120 align=\"left\"/>"
   ]
  },
  {
   "cell_type": "markdown",
   "metadata": {
    "id": "1P85A3o3OuYn"
   },
   "source": [
    "air 데이터프레임의 다음 변수들을 Seaborn의 boxplot() 함수로 시각화해 데이터 분포를 확인하세요."
   ]
  },
  {
   "cell_type": "markdown",
   "metadata": {
    "id": "UmoodvLqOuYn"
   },
   "source": [
    "**1️⃣ Ozone**"
   ]
  },
  {
   "cell_type": "code",
   "execution_count": null,
   "metadata": {
    "id": "UQ7B-8_fOuYn"
   },
   "outputs": [],
   "source": [
    "\n"
   ]
  },
  {
   "cell_type": "markdown",
   "metadata": {
    "id": "NUGOL15YOuYo"
   },
   "source": [
    "**2️⃣ Temp**"
   ]
  },
  {
   "cell_type": "code",
   "execution_count": null,
   "metadata": {
    "id": "LyilMxpfOuYo"
   },
   "outputs": [],
   "source": [
    "\n"
   ]
  },
  {
   "cell_type": "markdown",
   "metadata": {
    "id": "Rnah6e7zOuYo"
   },
   "source": [
    "**3️⃣ Wind**"
   ]
  },
  {
   "cell_type": "code",
   "execution_count": null,
   "metadata": {
    "id": "GOnN59R0OuYo"
   },
   "outputs": [],
   "source": [
    "\n"
   ]
  },
  {
   "cell_type": "markdown",
   "metadata": {
    "id": "QdVZi4PIOuYp"
   },
   "source": [
    "<img src='https://raw.githubusercontent.com/jangrae/img/master/practice_20e.png' width=45 align=\"left\"/>"
   ]
  },
  {
   "cell_type": "markdown",
   "metadata": {
    "id": "GDsv14de5wvz"
   },
   "source": [
    "### **3.4. 시계열 데이터 시각화**\n",
    "\n",
    "- 시계열 데이터는 보통 시간 축(x축)에 맞게 값들을 선 그래프로 표현합니다.\n",
    "- **Matplotlib**의 **plot()** 함수를 사용해 Line Plot을 그립니다."
   ]
  },
  {
   "cell_type": "code",
   "execution_count": null,
   "metadata": {
    "id": "5I9msV-T5wbb"
   },
   "outputs": [],
   "source": [
    "air['Date'] = pd.to_datetime(air['Date'])\n",
    "\n",
    "plt.plot('Date', 'Ozone', data=air, label='Ozone')\n",
    "plt.plot('Date', 'Temp', data=air, label='Temp')\n",
    "plt.xlabel('Date')\n",
    "plt.legend()\n",
    "plt.show()"
   ]
  },
  {
   "cell_type": "markdown",
   "metadata": {
    "id": "WnhVEz3RbPNs"
   },
   "source": [
    "- **Seaborn**의 **lineplot()** 함수를 사용해 Line Plot을 그립니다."
   ]
  },
  {
   "cell_type": "code",
   "execution_count": null,
   "metadata": {
    "id": "K6IIX2J-a0fu"
   },
   "outputs": [],
   "source": [
    "sns.lineplot(x='Date', y='Ozone', data=air, label='Ozone')\n",
    "sns.lineplot(x='Date', y='Temp', data=air, label='Temp')\n",
    "plt.legend()\n",
    "plt.show()"
   ]
  }
 ],
 "metadata": {
  "colab": {
   "provenance": []
  },
  "kernelspec": {
   "display_name": "Python 3",
   "language": "python",
   "name": "python3"
  },
  "language_info": {
   "codemirror_mode": {
    "name": "ipython",
    "version": 3
   },
   "file_extension": ".py",
   "mimetype": "text/x-python",
   "name": "python",
   "nbconvert_exporter": "python",
   "pygments_lexer": "ipython3",
   "version": "3.12.7"
  }
 },
 "nbformat": 4,
 "nbformat_minor": 4
}
