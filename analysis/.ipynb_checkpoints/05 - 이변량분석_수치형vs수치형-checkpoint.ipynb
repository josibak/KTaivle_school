{
 "cells": [
  {
   "cell_type": "markdown",
   "metadata": {
    "id": "b3TDAdnvnSbh"
   },
   "source": [
    "<center><img src='https://raw.githubusercontent.com/Jangrae/img/master/title.png' width=500/></center>\n"
   ]
  },
  {
   "cell_type": "markdown",
   "metadata": {
    "id": "UnwFIkKT5Sxu"
   },
   "source": [
    "# **이변량 분석 ① - 수치형  → 수치형**"
   ]
  },
  {
   "cell_type": "markdown",
   "metadata": {
    "id": "EnlYouStN0Le"
   },
   "source": [
    "- 시각화와 수치화 방법으로 두 수치형 변수 간 관계를 분석해 봅니다."
   ]
  },
  {
   "cell_type": "markdown",
   "metadata": {
    "id": "hynlqeBw0M3n"
   },
   "source": [
    "<img src='https://raw.githubusercontent.com/Jangrae/img/master/two_var_01.png' width=600 align='left'/>"
   ]
  },
  {
   "cell_type": "markdown",
   "metadata": {
    "id": "hmWyNpcSkdIL"
   },
   "source": [
    "<img src='https://raw.githubusercontent.com/Jangrae/img/master/analysis1.png' width=620 align='left'/>"
   ]
  },
  {
   "cell_type": "markdown",
   "metadata": {
    "id": "0SJP-uYxN0Lk"
   },
   "source": [
    "## **1. 환경준비**\n",
    "\n",
    "- 사용할 라이브러리와 분석 대상 데이터를 읽어옵니다."
   ]
  },
  {
   "cell_type": "code",
   "execution_count": null,
   "metadata": {
    "id": "Sma8Fku5N0Ll"
   },
   "outputs": [],
   "source": [
    "import numpy as np\n",
    "import pandas as pd\n",
    "import matplotlib.pyplot as plt\n",
    "import seaborn as sns\n",
    "import scipy.stats as spst\n",
    "import warnings\n",
    "\n",
    "warnings.filterwarnings(action='ignore')\n",
    "%config InlineBackend.figure_format = 'retina'\n",
    "plt.rcParams['figure.figsize'] = (6, 4)"
   ]
  },
  {
   "cell_type": "code",
   "execution_count": null,
   "metadata": {
    "id": "IdRS2OER6pw9"
   },
   "outputs": [],
   "source": [
    "# AirQuality 데이터\n",
    "path = 'https://raw.githubusercontent.com/Jangrae/csv/master/airquality2.csv'\n",
    "air = pd.read_csv(path)\n",
    "air.head()"
   ]
  },
  {
   "cell_type": "code",
   "execution_count": null,
   "metadata": {
    "id": "VJDGVk_iEjqG"
   },
   "outputs": [],
   "source": [
    "# Insurance 데이터\n",
    "path = 'https://raw.githubusercontent.com/Jangrae/csv/master/insurance.csv'\n",
    "insurance = pd.read_csv(path)\n",
    "insurance.head()"
   ]
  },
  {
   "cell_type": "markdown",
   "metadata": {
    "id": "xpVE5kFzPVSz"
   },
   "source": [
    "**📋 데이터 정보**\n",
    "\n",
    "- age: 나이\n",
    "- sex: 성별(female, male)\n",
    "- bmi: 체질량지수(체중을 키의 제곱으로 나눈 값, 적정 수준:18.5 - 24.9)\n",
    "- children: 자녀 수\n",
    "- smoker: 흡연 여부\n",
    "- region: 거주지역(northeast, southeast, southwest, northwest)\n",
    "- charges: 건강보험에서 지불한 의료비 - Target"
   ]
  },
  {
   "cell_type": "markdown",
   "metadata": {
    "id": "24HAzukSN0Ls"
   },
   "source": [
    "## **2. 시각화**\n",
    "\n",
    "- **상관분석**은 수치형 변수 x에 대한 수치형 변수 y의 관계를 분석할 때 사용됩니다.\n",
    "- 두 수치형 변수 관계는 **산점도**를 사용해 시각화 합니다.\n",
    "- 가설: 온도(x)가 상승하면 아이스크림 판매량(y)이 증가한다.\n",
    "    - 어떤 관계가 보이나요?\n",
    "    - 얼마나 강한 관계인가요?\n",
    "- 두 수치형 변수의 관계를 비교할 때 중요한 관점이 **직선(Linearity)**입니다.\n"
   ]
  },
  {
   "cell_type": "markdown",
   "metadata": {
    "id": "nOyF7Q9erYn-"
   },
   "source": [
    "<img src='https://raw.githubusercontent.com/Jangrae/img/master/scatter.png' width=500 align='left'/>"
   ]
  },
  {
   "cell_type": "markdown",
   "metadata": {
    "id": "qJ4WJMEvN0Ls"
   },
   "source": [
    "### **2.1. 산점도**\n",
    "\n",
    "- **산점도(Scatter Plot)**는 두 변수 간의 관계를 나타내는 그래프입니다.\n",
    "- 각각의 변수는 x축과 y축에 위치하여 점으로 나타내어집니다.\n",
    "- 이 **점들의 분포 형태**를 통해 두 변수 간의 **상관관계**를 파악할 수 있습니다.\n",
    "- 두 변수 간의 관계가 선형적인지, 또는 어떤 패턴이 있는지 파악하는 데 매우 유용합니다.\n",
    "- 예를 들어, x값이 증가할 때 y값도 증가하는 선형적인 관계라면 양의 상관관계가 있다고 볼 수 있습니다.\n",
    "- **Matplotlib**의 **scatter()** 함수로 산점도를 그립니다."
   ]
  },
  {
   "cell_type": "code",
   "execution_count": null,
   "metadata": {
    "id": "f6Mexrt-N0Lt"
   },
   "outputs": [],
   "source": [
    "plt.scatter(x='Temp', y='Ozone', data=air)\n",
    "plt.xlabel('Temp')\n",
    "plt.ylabel('Ozone')\n",
    "plt.show()"
   ]
  },
  {
   "cell_type": "code",
   "execution_count": null,
   "metadata": {
    "id": "sB8ah_DsE62F"
   },
   "outputs": [],
   "source": [
    "plt.scatter(x='Wind', y='Ozone', data=air)\n",
    "plt.xlabel('Wind')\n",
    "plt.ylabel('Ozone')\n",
    "plt.show()"
   ]
  },
  {
   "cell_type": "markdown",
   "metadata": {
    "id": "hy3VDmCDFFyq"
   },
   "source": [
    "- **Seaborn**의 **scatterplot()** 함수로 산점도를 그립니다."
   ]
  },
  {
   "cell_type": "code",
   "execution_count": null,
   "metadata": {
    "id": "rJ99nERTEsOM"
   },
   "outputs": [],
   "source": [
    "sns.scatterplot(x='Temp', y='Ozone', data=air)\n",
    "plt.show()"
   ]
  },
  {
   "cell_type": "code",
   "execution_count": null,
   "metadata": {
    "id": "R9y5HYU9E-oV"
   },
   "outputs": [],
   "source": [
    "sns.scatterplot(x='Wind', y='Ozone', data=air, s=30, ec=None)\n",
    "plt.show()"
   ]
  },
  {
   "cell_type": "markdown",
   "metadata": {
    "id": "BWDe7P1Jxm2X"
   },
   "source": [
    "- **질문:** 그래프를 그렸으면, 그래프로부터 정보를 파악해야 합니다. 무엇이 보이나요?"
   ]
  },
  {
   "cell_type": "code",
   "execution_count": null,
   "metadata": {
    "id": "0fEz9lgJxsu9"
   },
   "outputs": [],
   "source": [
    "# 두 변수가 상관관계를 가짐"
   ]
  },
  {
   "cell_type": "markdown",
   "metadata": {
    "id": "nykL6hX_OWjS"
   },
   "source": [
    "<img src='https://raw.githubusercontent.com/jangrae/img/master/practice_20.png' width=120 align=\"left\"/>"
   ]
  },
  {
   "cell_type": "markdown",
   "metadata": {
    "id": "9ly-695qVkt1"
   },
   "source": [
    "insurance 데이터프레임의 다음 변수들의 관계를 산점도로 시각화해 확인하세요."
   ]
  },
  {
   "cell_type": "markdown",
   "metadata": {
    "id": "lX6zqe30IUB-"
   },
   "source": [
    "**1️⃣ age → charges**"
   ]
  },
  {
   "cell_type": "code",
   "execution_count": null,
   "metadata": {
    "id": "csJ4U420FRbZ"
   },
   "outputs": [],
   "source": [
    "\n"
   ]
  },
  {
   "cell_type": "markdown",
   "metadata": {
    "id": "PXmDFiQyIdOo"
   },
   "source": [
    "**2️⃣ bmi → charges**"
   ]
  },
  {
   "cell_type": "code",
   "execution_count": null,
   "metadata": {
    "id": "YNy99BEBFb6f"
   },
   "outputs": [],
   "source": [
    "\n"
   ]
  },
  {
   "cell_type": "markdown",
   "metadata": {
    "id": "O4IM2DPCOcmc"
   },
   "source": [
    "**3️⃣ children → charges**"
   ]
  },
  {
   "cell_type": "code",
   "execution_count": null,
   "metadata": {
    "id": "IvprsOrOOcmd"
   },
   "outputs": [],
   "source": [
    "\n"
   ]
  },
  {
   "cell_type": "markdown",
   "metadata": {
    "id": "OXlXtCNOOZh_"
   },
   "source": [
    "<img src='https://raw.githubusercontent.com/jangrae/img/master/practice_20e.png' width=45 align=\"left\"/>"
   ]
  },
  {
   "cell_type": "markdown",
   "metadata": {
    "id": "D4A3to-Xrtfl"
   },
   "source": [
    "**2) 두 변수의 관계**\n",
    "\n",
    "- 산점도에서 또렷한 패턴이 보인다면 강한 관계로 볼 수 있습니다.\n",
    "- 특히 직선 패턴이 보인다면 더욱 그렇습니다."
   ]
  },
  {
   "cell_type": "markdown",
   "metadata": {
    "id": "8UNnjlCgsFrL"
   },
   "source": [
    "<img src='https://cqeacademy.com/wp-content/uploads/2018/06/Scatter-Plots-and-Correlation-Examples.png' width=800 align='left'/>"
   ]
  },
  {
   "cell_type": "markdown",
   "metadata": {
    "id": "7M1bl3cgLSiY"
   },
   "source": [
    "### **2.2. Pair Plot**\n",
    "\n",
    "- **Seaborn**의 **pairplot()** 함수는 데이터프레임의 모든 숫자형 변수 쌍에 대한 **산점도**와 **히스토그램**을 같이 그려줍니다.\n",
    "- 단, 변수가 많아지면 산점도 행렬이 너무 커져서 시각화하기 어려울 수 있습니다.\n",
    "- 변수가 많아지면 그만큼 **시간도 많이 걸립니다.**\n",
    "- **변수 중 일부만 선택해 시각화**하거나, 다른 시각화 방법을 사용하는 것이 더 좋을 수 있습니다."
   ]
  },
  {
   "cell_type": "code",
   "execution_count": null,
   "metadata": {
    "id": "LDB_6Yx0LO-V"
   },
   "outputs": [],
   "source": [
    "sns.pairplot(air)\n",
    "plt.show()"
   ]
  },
  {
   "cell_type": "markdown",
   "metadata": {
    "id": "ACJRiOqzI4nb"
   },
   "source": [
    "<img src='https://raw.githubusercontent.com/jangrae/img/master/practice_20.png' width=120 align=\"left\"/>"
   ]
  },
  {
   "cell_type": "markdown",
   "metadata": {
    "id": "0aAIIhRNI4nb"
   },
   "source": [
    "*️⃣ insurance 데이터프레임의 모든 숫자형 변수에 대해 상관관계를 pairplot() 함수로 시각화해 확인하세요."
   ]
  },
  {
   "cell_type": "code",
   "execution_count": null,
   "metadata": {
    "id": "HM6T31dBI4nc"
   },
   "outputs": [],
   "source": [
    "\n"
   ]
  },
  {
   "cell_type": "markdown",
   "metadata": {
    "id": "OXlXtCNOOZh_"
   },
   "source": [
    "<img src='https://raw.githubusercontent.com/jangrae/img/master/practice_20e.png' width=45 align=\"left\"/>"
   ]
  },
  {
   "cell_type": "markdown",
   "metadata": {
    "id": "H09gLkspN0Lt"
   },
   "source": [
    "###  **2.3. Joint Plot**\n",
    "\n",
    "- **Seaborn**의 **jointplot()** 함수는 두 개의 변수 사이의 관계를 시각화하기 위한 유용한 도구입니다.\n",
    "- 기본적으로 **산점도**를 그려주고, **히스토그램**으로 각 변수의 분포를 보여줍니다.\n",
    "- **KDE**(Kernel Density Estimation) 그래프를 추가하여 밀도 추정 결과도 확인할 수 있습니다.\n",
    "- **kind** 매개변수를 사용하여 **reg, hex, kde** 등 다양한 형태의 그래프를 그릴 수 있습니다."
   ]
  },
  {
   "cell_type": "markdown",
   "metadata": {
    "id": "9FBpgfC65XDJ"
   },
   "source": [
    "**1) Temp → Ozone**"
   ]
  },
  {
   "cell_type": "code",
   "execution_count": null,
   "metadata": {
    "id": "8P0gYJntN0Lu"
   },
   "outputs": [],
   "source": [
    "sns.jointplot(x='Temp', y='Ozone', data=air)\n",
    "plt.show()"
   ]
  },
  {
   "cell_type": "markdown",
   "metadata": {
    "id": "kwOi3vhRUAR_"
   },
   "source": [
    "**2) Wind → Ozone**"
   ]
  },
  {
   "cell_type": "code",
   "execution_count": null,
   "metadata": {
    "id": "0ujxLZCYUASG"
   },
   "outputs": [],
   "source": [
    "sns.jointplot(x='Wind', y='Ozone', data=air, kind='scatter')\n",
    "plt.show()"
   ]
  },
  {
   "cell_type": "markdown",
   "metadata": {
    "id": "e9S7janZUAdA"
   },
   "source": [
    "**3) Solar.R → Ozone**"
   ]
  },
  {
   "cell_type": "code",
   "execution_count": null,
   "metadata": {
    "id": "6aDLVi-OUAdA"
   },
   "outputs": [],
   "source": [
    "sns.jointplot(x='Solar.R', y='Ozone', data=air, kind='hex', marginal_kws=dict(bins=20))\n",
    "plt.show()"
   ]
  },
  {
   "cell_type": "markdown",
   "metadata": {
    "id": "f-vlKxiJJ6MS"
   },
   "source": [
    "<img src='https://raw.githubusercontent.com/jangrae/img/master/practice_20.png' width=120 align=\"left\"/>"
   ]
  },
  {
   "cell_type": "code",
   "execution_count": null,
   "metadata": {
    "id": "Vakg3G5LJ2kE"
   },
   "outputs": [],
   "source": [
    "# 데이터 확인\n",
    "insurance.head()"
   ]
  },
  {
   "cell_type": "markdown",
   "metadata": {
    "id": "W3ISofvDWEda"
   },
   "source": [
    "insurance 데이터프레임의 다음 변수들의 관계를 jointplot() 함수로 시각화해 확인하세요."
   ]
  },
  {
   "cell_type": "markdown",
   "metadata": {
    "id": "_O4tAVt8J2kF"
   },
   "source": [
    "**1️⃣ age → charges**"
   ]
  },
  {
   "cell_type": "code",
   "execution_count": null,
   "metadata": {
    "id": "gKTK4eCtJ2kF"
   },
   "outputs": [],
   "source": [
    "\n"
   ]
  },
  {
   "cell_type": "markdown",
   "metadata": {
    "id": "B0GvaqVlJ2kF"
   },
   "source": [
    "**2️⃣ bmi → charges**"
   ]
  },
  {
   "cell_type": "code",
   "execution_count": null,
   "metadata": {
    "id": "-TmpVx2MJ2kF"
   },
   "outputs": [],
   "source": [
    "\n"
   ]
  },
  {
   "cell_type": "markdown",
   "metadata": {
    "id": "OXlXtCNOOZh_"
   },
   "source": [
    "<img src='https://raw.githubusercontent.com/jangrae/img/master/practice_20e.png' width=45 align=\"left\"/>"
   ]
  },
  {
   "cell_type": "markdown",
   "metadata": {
    "id": "5UkPG-rSUpoF"
   },
   "source": [
    "## **3. 수치화**"
   ]
  },
  {
   "cell_type": "markdown",
   "metadata": {
    "id": "ftEZeY1Cs-mV"
   },
   "source": [
    "- 수치형 → 수치형 관계를 수치화해 비교하고자 한다면 **상관분석**을 수행합니다.\n",
    "- **상관계수**와 **p-value**를 사용해 두 변수의 상관관계를 확인할 수 있습니다.\n",
    "- 상관계수 𝑟\n",
    "    - 두 변수 간의 선형 관계의 강도와 방향을 측정하는 통계적인 지표입니다.\n",
    "    - -1부터 1 사이의 값을 가집니다.\n",
    "    - 절댓값이 1에 가까울수록 강한 선형 관계, 0에 가까울수록 약한 선형 관계를 나타냅니다.\n",
    "- 경험에 의한 대략의 기준(절대적인 기준이 절대 아닙니다)은 다음과 같습니다.\n",
    "    - 강함: 0.5 < |𝑟| ≤ 1\n",
    "    - 중간: 0.2 < |𝑟| ≤ 0.5\n",
    "    - 약함: 0.1 < |𝑟| ≤ 0.2\n",
    "    - (거의)없음: |𝑟| ≤ 0.1\n",
    "- **scipy.stats** 라이브러리의 **pearsonr()** 함수로 상관계수를 확인합니다."
   ]
  },
  {
   "cell_type": "code",
   "execution_count": null,
   "metadata": {
    "id": "KAiaxHXNnE_P"
   },
   "outputs": [],
   "source": [
    "result = spst.pearsonr(air['Temp'], air['Ozone'])\n",
    "\n",
    "print(result)\n",
    "print('* 상관계수:', result[0])\n",
    "print('* p-value:', result[1])"
   ]
  },
  {
   "cell_type": "markdown",
   "metadata": {
    "id": "K_bW8SCfnE_P"
   },
   "source": [
    "- 결과의 첫 번째 값이 상관계수, 두 번째 값이 p-value 입니다.\n",
    "    - 귀무가설: 상관 관계가 없다.(상관계수가 0이다.)\n",
    "    - 대립가설: 상관 관계가 있다.(상관계수가 0이 아니다.)"
   ]
  },
  {
   "cell_type": "code",
   "execution_count": null,
   "metadata": {
    "id": "OgPjUZNiNJ-j"
   },
   "outputs": [],
   "source": [
    "result = spst.pearsonr(air['Wind'], air['Ozone'])\n",
    "\n",
    "print(result)\n",
    "print('* 상관계수:', result[0])\n",
    "print('* p-value:', result[1])"
   ]
  },
  {
   "cell_type": "markdown",
   "metadata": {
    "id": "P_rOiCafNdv1"
   },
   "source": [
    "- **주의**: 결측치가 있으면 계산되지 않습니다. 반드시 .notnull()로 제외하고 수행해야 합니다.\n",
    "\n",
    "    ~~~python\n",
    "    예) air2 = air.loc[air['Solar.R'].notnull()]\n",
    "    ~~~"
   ]
  },
  {
   "cell_type": "code",
   "execution_count": null,
   "metadata": {
    "id": "ZLlKw_0kNLtL"
   },
   "outputs": [],
   "source": [
    "air2 = air.loc[air['Solar.R'].notnull()]\n",
    "result = spst.pearsonr(air2['Solar.R'], air2['Ozone'])\n",
    "\n",
    "print(result)\n",
    "print('* 상관계수:', result[0])\n",
    "print('* p-value:', result[1])"
   ]
  },
  {
   "cell_type": "markdown",
   "metadata": {
    "id": "fivisBnv-L8S"
   },
   "source": [
    "- Pandas의 **corr()** 메소드를 사용해 상관계수를 확인할 수 있습니다."
   ]
  },
  {
   "cell_type": "code",
   "execution_count": null,
   "metadata": {
    "id": "-J9YEpjfzvIz"
   },
   "outputs": [],
   "source": [
    "air.corr(numeric_only=True)"
   ]
  },
  {
   "cell_type": "markdown",
   "metadata": {
    "id": "nAYPzWCrUMDn"
   },
   "source": [
    "- 위 결과에서 가운데 역대각선 방향에 표시된 1은 같은 변수 간 관계이므로 의미가 없습니다.\n",
    "- 상관계수의 절대값이 **1에 가까울 수록 강한 상관관계**, **0에 가까울 수록 약한 상관관계**입니다.\n",
    "- **+** 는 양의 상관관계, **-** 는 음의 상관관계를 의미합니다."
   ]
  },
  {
   "cell_type": "markdown",
   "metadata": {
    "id": "PI3ZtwqGr2Bd"
   },
   "source": [
    "- **Seaborn**의 **heatmap()** 함수로 상관계수를 시각화 할 수 있습니다."
   ]
  },
  {
   "cell_type": "code",
   "execution_count": null,
   "metadata": {
    "id": "vala5ZkVtZp7"
   },
   "outputs": [],
   "source": [
    "plt.figure(figsize=(6, 6))\n",
    "sns.heatmap(air.corr(numeric_only=True),\n",
    "            annot=True,\n",
    "            fmt='.3f',\n",
    "            cmap='Blues',\n",
    "            vmin=-1,\n",
    "            vmax=1,\n",
    "            square=True,\n",
    "            cbar=False)\n",
    "plt.show()"
   ]
  },
  {
   "cell_type": "markdown",
   "metadata": {
    "id": "CT3bNdsa9mR3"
   },
   "source": [
    "<img src='https://raw.githubusercontent.com/jangrae/img/master/practice_20.png' width=120 align=\"left\"/>"
   ]
  },
  {
   "cell_type": "markdown",
   "metadata": {
    "id": "L4cXA3pEUlMz"
   },
   "source": [
    "insurance 데이터프레임의 다음 변수들 간의 상관계수와 p-value를 살펴보세요."
   ]
  },
  {
   "cell_type": "markdown",
   "metadata": {
    "id": "AGKMdzlAD4U8"
   },
   "source": [
    "**1️⃣ age → charges**"
   ]
  },
  {
   "cell_type": "code",
   "execution_count": null,
   "metadata": {
    "id": "bkh6McXbUoV9"
   },
   "outputs": [],
   "source": [
    "\n"
   ]
  },
  {
   "cell_type": "markdown",
   "metadata": {
    "id": "_7MhYwriD6Pv"
   },
   "source": [
    "**2️⃣ bmi → charges**"
   ]
  },
  {
   "cell_type": "code",
   "execution_count": null,
   "metadata": {
    "id": "3Wg3fFkoDy57"
   },
   "outputs": [],
   "source": [
    "\n"
   ]
  },
  {
   "cell_type": "markdown",
   "metadata": {
    "id": "kJNrhpY1D8Cw"
   },
   "source": [
    "**3️⃣ children → charges**"
   ]
  },
  {
   "cell_type": "code",
   "execution_count": null,
   "metadata": {
    "id": "Fjcj2FR3DyYM"
   },
   "outputs": [],
   "source": [
    "\n"
   ]
  },
  {
   "cell_type": "markdown",
   "metadata": {
    "id": "8aDqEZqfExuJ"
   },
   "source": [
    "- **질문:** 차트로 보는 것과 상관계수로 비교하는 것에 차이가 있나요?"
   ]
  },
  {
   "cell_type": "code",
   "execution_count": null,
   "metadata": {
    "id": "QAHGPe2FUoJL"
   },
   "outputs": [],
   "source": [
    "# "
   ]
  },
  {
   "cell_type": "markdown",
   "metadata": {
    "id": "z05v04VcOHRf"
   },
   "source": [
    "<img src='https://raw.githubusercontent.com/jangrae/img/master/practice_20e.png' width=45 align=\"left\"/>"
   ]
  },
  {
   "cell_type": "markdown",
   "metadata": {
    "id": "-vBvKkAGCnl4"
   },
   "source": [
    "## **4. 상관계수의 한계**\n",
    "\n",
    "- 상관계수에는 한계가 있습니다.\n",
    "- 아래 그림에서 숫자는 상관계수입니다.\n",
    "- 맨 아래 줄은 관계가 있어보이는데 상관계수는 0입니다."
   ]
  },
  {
   "cell_type": "markdown",
   "metadata": {
    "id": "S6_fpCxuvbE0"
   },
   "source": [
    "\n",
    "\n",
    "<img src='https://upload.wikimedia.org/wikipedia/commons/thumb/d/d4/Correlation_examples2.svg/1920px-Correlation_examples2.svg.png' width=800/>\n"
   ]
  },
  {
   "cell_type": "markdown",
   "metadata": {
    "id": "mTPa1H7DGsJY"
   },
   "source": [
    "- 데이터 사우루스를 사용해 상관계수의 한계를 살펴봅니다.\n",
    "    - 데이터 사우루스 패키지는 13개의 데이터셋으로 구성되어 있습니다.\n",
    "    - 모든 데이터셋의 평균, 표준편차, 상관관계 등의 기본적인 통계량은 동일합니다.\n",
    "    - 하지만 그래프나 분포 등의 시각적인 특성이 서로 다릅니다."
   ]
  },
  {
   "cell_type": "code",
   "execution_count": null,
   "metadata": {
    "id": "7n8BRgkZCqR0"
   },
   "outputs": [],
   "source": [
    "path = 'https://raw.githubusercontent.com/Jangrae/csv/master/datasaurus.csv'\n",
    "ds = pd.read_csv(path)\n",
    "ds.head()"
   ]
  },
  {
   "cell_type": "code",
   "execution_count": null,
   "metadata": {
    "id": "FuK7zCEpHS_i"
   },
   "outputs": [],
   "source": [
    "ds['dataset'].value_counts()"
   ]
  },
  {
   "cell_type": "markdown",
   "metadata": {
    "id": "nAzk2-wIGL2H"
   },
   "source": [
    "- 아래 5개 그룹의 수치화 결과(상관계수)를 보고 x와 y에 관계가 있는지 판단해 봅니다."
   ]
  },
  {
   "cell_type": "code",
   "execution_count": null,
   "metadata": {
    "id": "ctxRZPhiEl5i"
   },
   "outputs": [],
   "source": [
    "ds_names = ['dino','x_shape', 'star', 'circle', 'bullseye' ]\n",
    "\n",
    "for i, d in enumerate(ds_names) :\n",
    "    temp_ds = ds.loc[ds['dataset']==d]\n",
    "    corr = spst.pearsonr(temp_ds['x'], temp_ds['y'])\n",
    "    print(f'[그룹{i}] 상관계수: {corr[0]:.4f}, p-value: {corr[1]:.4f}')"
   ]
  },
  {
   "cell_type": "markdown",
   "metadata": {
    "id": "AOXu72zQIKd2"
   },
   "source": [
    "- **질문:** 5개 그룹 중 x와 y가 서로 관련이 있는 것은?"
   ]
  },
  {
   "cell_type": "code",
   "execution_count": null,
   "metadata": {
    "id": "gjt4fUj0IK6Q"
   },
   "outputs": [],
   "source": [
    "# "
   ]
  },
  {
   "cell_type": "markdown",
   "metadata": {
    "id": "T5XH8b1TICHU"
   },
   "source": [
    "- **질문:** 5개 그룹 중 x와 y가 가장 관련이 있는 것은?"
   ]
  },
  {
   "cell_type": "code",
   "execution_count": null,
   "metadata": {
    "id": "dKkI9hJSGme5"
   },
   "outputs": [],
   "source": [
    "# "
   ]
  },
  {
   "cell_type": "markdown",
   "metadata": {
    "id": "wYkkc-KFE61v"
   },
   "source": [
    "- 그렇다면, 이제 그래프들을 관찰해 봅니다."
   ]
  },
  {
   "cell_type": "code",
   "execution_count": null,
   "metadata": {
    "id": "RT3INNHfDAfH"
   },
   "outputs": [],
   "source": [
    "plt.figure(figsize=(15, 3))\n",
    "for i, d in enumerate(ds_names) :\n",
    "    temp_ds = ds.loc[ds['dataset']==d]\n",
    "    corr = spst.pearsonr(temp_ds['x'], temp_ds['y'])\n",
    "    plt.subplot(1, 5, i + 1)\n",
    "    plt.scatter(temp_ds['x'], temp_ds['y'])\n",
    "    plt.title(f'[{i}-{d}] corr: {corr[0]:.4f}, p-value: {corr[1]:.4f}', size=9)\n",
    "plt.tight_layout()\n",
    "plt.show()"
   ]
  },
  {
   "cell_type": "markdown",
   "metadata": {
    "id": "iHB-2gf1KAfB"
   },
   "source": [
    "\n",
    "- **질문:** 어떤 패턴이 있나요? 아니면 아무런 패턴도 없나요?\n",
    "\n",
    "- **질문:** 어떤 신호가 있나요? 아니면 노이즈만 있나요?"
   ]
  },
  {
   "cell_type": "markdown",
   "metadata": {
    "id": "YWqb7KPxFLMk"
   },
   "source": [
    "- 이렇듯, 수치화해서 하나의 숫자로 요약하는 데에는 많은 장점이 있지만, 한계도 분명히 있음을 알아야 합니다."
   ]
  }
 ],
 "metadata": {
  "colab": {
   "provenance": []
  },
  "kernelspec": {
   "display_name": "Python 3",
   "language": "python",
   "name": "python3"
  },
  "language_info": {
   "codemirror_mode": {
    "name": "ipython",
    "version": 3
   },
   "file_extension": ".py",
   "mimetype": "text/x-python",
   "name": "python",
   "nbconvert_exporter": "python",
   "pygments_lexer": "ipython3",
   "version": "3.12.7"
  }
 },
 "nbformat": 4,
 "nbformat_minor": 4
}
