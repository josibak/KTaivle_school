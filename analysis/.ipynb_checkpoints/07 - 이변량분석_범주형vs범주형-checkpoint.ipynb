{
 "cells": [
  {
   "cell_type": "markdown",
   "metadata": {
    "id": "b3TDAdnvnSbh"
   },
   "source": [
    "<center><img src='https://raw.githubusercontent.com/Jangrae/img/master/title.png' width=500/></center>\n"
   ]
  },
  {
   "cell_type": "markdown",
   "metadata": {
    "id": "wYG9wzjY62PD"
   },
   "source": [
    "# **이변량 분석 ③ - 범주형  → 범주형**"
   ]
  },
  {
   "cell_type": "markdown",
   "metadata": {
    "id": "EnlYouStN0Le"
   },
   "source": [
    "- 시각화와 수치화 방법으로 두 범주형 변수 간 관계를 분석합니다."
   ]
  },
  {
   "cell_type": "markdown",
   "metadata": {
    "id": "hynlqeBw0M3n"
   },
   "source": [
    "<img src='https://raw.githubusercontent.com/Jangrae/img/master/two_var_03.png' width=600 align='left'/>"
   ]
  },
  {
   "cell_type": "markdown",
   "metadata": {
    "id": "hmWyNpcSkdIL"
   },
   "source": [
    "<img src='https://raw.githubusercontent.com/Jangrae/img/master/analysis3.png' width=620 align='left'/>"
   ]
  },
  {
   "cell_type": "markdown",
   "metadata": {
    "id": "0SJP-uYxN0Lk"
   },
   "source": [
    "## **1. 환경준비**\n",
    "\n",
    "- 사용할 라이브러리와 분석 대상 데이터를 읽어옵니다."
   ]
  },
  {
   "cell_type": "code",
   "execution_count": null,
   "metadata": {
    "id": "Sma8Fku5N0Ll"
   },
   "outputs": [],
   "source": [
    "import numpy as np\n",
    "import pandas as pd\n",
    "import random as rd\n",
    "import matplotlib.pyplot as plt\n",
    "import seaborn as sns\n",
    "from statsmodels.graphics.mosaicplot import mosaic\n",
    "import scipy.stats as spst\n",
    "import warnings\n",
    "\n",
    "warnings.filterwarnings(action='ignore')\n",
    "%config InlineBackend.figure_format = 'retina'\n",
    "plt.rcParams['figure.figsize'] = (6, 4)"
   ]
  },
  {
   "cell_type": "code",
   "execution_count": null,
   "metadata": {
    "id": "si-trqDhN0Lo"
   },
   "outputs": [],
   "source": [
    "# Titanic 데이터\n",
    "path = 'https://raw.githubusercontent.com/Jangrae/csv/master/titanic.1.csv'\n",
    "titanic = pd.read_csv(path)\n",
    "titanic.head()"
   ]
  },
  {
   "cell_type": "markdown",
   "metadata": {
    "id": "24HAzukSN0Ls"
   },
   "source": [
    "## **2. 교차표**\n",
    "\n",
    "- 범주 vs 범주 를 비교하기 위해서는 Pandas의 **crosstab()** 함수를 사용해 **교차표**를 먼저 만들어야 합니다.\n",
    "- **Sex → Survived** 관계를 비교하기 위해 교차표를 만들어봅니다."
   ]
  },
  {
   "cell_type": "code",
   "execution_count": null,
   "metadata": {
    "id": "Rk95XQsydRXx"
   },
   "outputs": [],
   "source": [
    "pd.crosstab(titanic['Sex'], titanic['Survived'])"
   ]
  },
  {
   "cell_type": "markdown",
   "metadata": {
    "id": "yLsW2TM8p4Ct"
   },
   "source": [
    "- 참고로, 위 교차표는 다음과 같이 groupby() 메소드를 사용해 집계한 후 pivot 형태로 변환한 것과 같습니다."
   ]
  },
  {
   "cell_type": "code",
   "execution_count": null,
   "metadata": {
    "id": "D6_mYdVznmAm"
   },
   "outputs": [],
   "source": [
    "tmp = titanic.groupby(by=['Sex', 'Survived'], as_index=False)['Fare'].count()\n",
    "tmp.columns = ['Sex', 'Survived', 'Cnt']\n",
    "tmp.pivot(index='Sex', columns='Survived', values='Cnt')"
   ]
  },
  {
   "cell_type": "markdown",
   "metadata": {
    "id": "mZsvUW0iLcQ9"
   },
   "source": [
    "- **Embarked → Survived** 관계를 비교하기 위해 교차표를 만들어봅니다."
   ]
  },
  {
   "cell_type": "code",
   "execution_count": null,
   "metadata": {
    "id": "TYupCKpHLV1x"
   },
   "outputs": [],
   "source": [
    "pd.crosstab(titanic['Embarked'], titanic['Survived'])"
   ]
  },
  {
   "cell_type": "markdown",
   "metadata": {
    "id": "F4YQ63QpXZKb"
   },
   "source": [
    "- 교차표는 다음과 같은 **normalize** 매개변수 값에 따라 다른 결과를 보여줍니다.\n",
    "    - 'index': 각 행의 합으로 각 요소를 나눠서 각 행의 상대적인 비율을 보여줍니다(각 행의 합이 1이 됨).\n",
    "    - 'columns': 각 열의 합으로 각 요소를 나눠서 각 열의 상대적인 비율을 보여줍니다(각 열이 합이 1이 됨).\n",
    "    - 'all': 전체 합으로 각 요소를 나눠서 전체 데이터셋에서 각 셀의 상대적인 비율을 보여줍니다(전체 합이 1이 됨)."
   ]
  },
  {
   "cell_type": "markdown",
   "metadata": {
    "id": "VjVxXCshLBQr"
   },
   "source": [
    "<img src='https://raw.githubusercontent.com/Jangrae/img/master/cross.png' width=700 align='left'/>"
   ]
  },
  {
   "cell_type": "markdown",
   "metadata": {
    "id": "9nsp18gALGXB"
   },
   "source": [
    "\n",
    "- **Embarked → Survived** 관계를 교차표로 normalize 매개변수 값을 바꿔가면서 표시해봅니다."
   ]
  },
  {
   "cell_type": "code",
   "execution_count": null,
   "metadata": {
    "id": "xNNBmdowHt1T"
   },
   "outputs": [],
   "source": [
    "pd.crosstab(titanic['Embarked'], titanic['Survived'], normalize='columns')"
   ]
  },
  {
   "cell_type": "code",
   "execution_count": null,
   "metadata": {
    "id": "HqRdrSu-JBbX"
   },
   "outputs": [],
   "source": [
    "pd.crosstab(titanic['Embarked'], titanic['Survived'], normalize='index')"
   ]
  },
  {
   "cell_type": "code",
   "execution_count": null,
   "metadata": {
    "id": "S8yAEvtzJHEg"
   },
   "outputs": [],
   "source": [
    "pd.crosstab(titanic['Embarked'], titanic['Survived'], normalize='all')"
   ]
  },
  {
   "cell_type": "markdown",
   "metadata": {
    "id": "bBPSpzBhVua5"
   },
   "source": [
    "## **3. 시각화**\n",
    "\n",
    "- 다음과 같은 방법으로 범주형 → 범주형 비교를 시각화할 수 있습니다.\n",
    "    -  100% Stacked Bar\n",
    "    -  Mosaic Plot"
   ]
  },
  {
   "cell_type": "markdown",
   "metadata": {
    "id": "Vn475dvuPHZO"
   },
   "source": [
    "\n",
    "- 위 두 가지 방법으로 **Pclass → Survived** 관계를 시각화해서 비교해 봅니다."
   ]
  },
  {
   "cell_type": "markdown",
   "metadata": {
    "id": "QprpfbLPYoA7"
   },
   "source": [
    "**1) 100% Stacked Bar**\n",
    "\n",
    "- 우선 **normalize='index'** 를 설정한 교차표를 작성합니다.\n",
    "- Pclass 변수가 세 개의 범줏값을 가지므로 세 개의 행이 생깁니다.\n",
    "- normalize='index'를 지정했으므로 각 행의 합은 1이 됩니다."
   ]
  },
  {
   "cell_type": "code",
   "execution_count": null,
   "metadata": {
    "id": "wmyAN2Mi-5PJ"
   },
   "outputs": [],
   "source": [
    "table = pd.crosstab(titanic['Pclass'], titanic['Survived'], normalize='index')\n",
    "table"
   ]
  },
  {
   "cell_type": "markdown",
   "metadata": {
    "id": "w6kS_yhD--kz"
   },
   "source": [
    "- 위 교차표에 대해 Stacked Bar를 그립니다.\n",
    "- Stacked Bar는 Pandas의 **plot()** 메소드로 쉽게 그릴 수 있습니다.\n",
    "- 각 행별로 Stacked Bar가 그려지며, 각 행의 합이 1이므로 같은 높이를 갖습니다.\n",
    "- 그래서 100% Stacked Bar 라고 부릅니다.\n",
    "- **axhline()** 함수를 사용해 Survived 열 평균을 표시하는 가로선도 표시해봅니다.\n",
    "- Survived 열 평균, 즉 titanic['Survived'].mean() 은 생존율을 의미합니다.\n",
    "- 그런데 Stacked Bar 하단이 사망(Survived=0)을 의미합니다.\n",
    "- 그래서 일관된 표시를 위해 1 - titanic['Survived'].mean() 을 표시합니다."
   ]
  },
  {
   "cell_type": "code",
   "execution_count": null,
   "metadata": {
    "id": "qahDr2FxNLKJ"
   },
   "outputs": [],
   "source": [
    "table.plot(kind='bar', stacked=True)\n",
    "\n",
    "plt.axhline(1-titanic['Survived'].mean(), color='r')\n",
    "plt.xticks(rotation=0)\n",
    "plt.show()"
   ]
  },
  {
   "cell_type": "code",
   "execution_count": null,
   "metadata": {
    "id": "C7TdRieRX2r8"
   },
   "outputs": [],
   "source": [
    "table = pd.crosstab(titanic['Sex'], titanic['Survived'], normalize='index')\n",
    "display(table)\n",
    "\n",
    "table.plot(kind='bar', stacked=True)\n",
    "plt.axhline(1-titanic['Survived'].mean(), color='r')\n",
    "plt.xticks(rotation=0)\n",
    "plt.show()"
   ]
  },
  {
   "cell_type": "code",
   "execution_count": null,
   "metadata": {
    "id": "3aEZnQb3X2r9"
   },
   "outputs": [],
   "source": [
    "table = pd.crosstab(titanic['Embarked'], titanic['Survived'], normalize='index')\n",
    "display(table)\n",
    "\n",
    "table.plot(kind='bar', stacked=True)\n",
    "plt.axhline(1-titanic['Survived'].mean(), color='r')\n",
    "plt.xticks(rotation=0)\n",
    "plt.show()"
   ]
  },
  {
   "cell_type": "markdown",
   "metadata": {
    "id": "mazbfND-X2sE"
   },
   "source": [
    "<img src='https://raw.githubusercontent.com/jangrae/img/master/practice_20.png' width=120 align=\"left\"/>"
   ]
  },
  {
   "cell_type": "markdown",
   "metadata": {
    "id": "wIn8zHcFX2sG"
   },
   "source": [
    "titanic 데이터프레임의 다음 변수들 간의 관계를 100% Bar Plot 으로 시각화해 확인하세요."
   ]
  },
  {
   "cell_type": "markdown",
   "metadata": {
    "id": "eDHyW0NRX2sI"
   },
   "source": [
    "**1️⃣ Title → Survived**"
   ]
  },
  {
   "cell_type": "code",
   "execution_count": null,
   "metadata": {
    "id": "KfUPNonWX2sI"
   },
   "outputs": [],
   "source": [
    "\n"
   ]
  },
  {
   "cell_type": "markdown",
   "metadata": {
    "id": "Gr5nCaYbX2sJ"
   },
   "source": [
    "**2️⃣ AgeGroup → Survived**"
   ]
  },
  {
   "cell_type": "code",
   "execution_count": null,
   "metadata": {
    "id": "VzDSnkgBX2sJ"
   },
   "outputs": [],
   "source": [
    "\n"
   ]
  },
  {
   "cell_type": "markdown",
   "metadata": {
    "id": "PKoGdiE0X2sJ"
   },
   "source": [
    "<img src='https://raw.githubusercontent.com/jangrae/img/master/practice_20e.png' width=45 align=\"left\"/>"
   ]
  },
  {
   "cell_type": "markdown",
   "metadata": {
    "id": "dmopxnQQZX4_"
   },
   "source": [
    "**2) Mosaic Plot**\n",
    "\n",
    "- 100% Stacked Bar는 비율만 비교하므로 양에 대한 비교는 할 수 없습니다.\n",
    "- Mosaic Plot으로 **양에 대한 비교**를 해봅니다.\n",
    "- **tatsmodels.graphics.mosaicplot**의 **mosaic()** 함수로 Mosaic Plot을 그립니다."
   ]
  },
  {
   "cell_type": "code",
   "execution_count": null,
   "metadata": {
    "id": "t10ETkNKHcNi"
   },
   "outputs": [],
   "source": [
    "mosaic(titanic, ['Pclass', 'Survived'])\n",
    "plt.axhline(1-titanic['Survived'].mean(), color='r')\n",
    "plt.show()"
   ]
  },
  {
   "cell_type": "markdown",
   "metadata": {
    "id": "SF6cAab1aKw5"
   },
   "source": [
    "- 위 그래프의 x축 길이는 각 객실 등급별 승객 비율을 나타냅니다.  \n",
    "- y축 길이는 객실 승객의 사망, 생존 비율을 의미합니다.\n",
    "- **sort_values()** 메소드를 사용해 원하는 순서로 정렬해 표시할 수 있습니다.\n",
    "- **gap** 옵션으로 영역들 사이 간격을 조정할 수 있습니다."
   ]
  },
  {
   "cell_type": "code",
   "execution_count": null,
   "metadata": {
    "id": "8tEpr2eUbCfE"
   },
   "outputs": [],
   "source": [
    "mosaic(titanic.sort_values(['Pclass', 'Survived']), ['Pclass', 'Survived'], gap=0.01)\n",
    "plt.axhline(1-titanic['Survived'].mean(), color='r')\n",
    "plt.show()"
   ]
  },
  {
   "cell_type": "markdown",
   "metadata": {
    "id": "ZjexES7BX2sU"
   },
   "source": [
    "<img src='https://raw.githubusercontent.com/jangrae/img/master/practice_20.png' width=120 align=\"left\"/>"
   ]
  },
  {
   "cell_type": "markdown",
   "metadata": {
    "id": "5jvMPmz9X2sU"
   },
   "source": [
    "titanic 데이터프레임의 다음 변수들 간의 관계를 Mosaic Plot 으로 시각화해 확인하세요."
   ]
  },
  {
   "cell_type": "markdown",
   "metadata": {
    "id": "IqZmaywlX2sa"
   },
   "source": [
    "**1️⃣ Sex → Survived**"
   ]
  },
  {
   "cell_type": "code",
   "execution_count": null,
   "metadata": {
    "id": "i8iZAhKIX2sb"
   },
   "outputs": [],
   "source": [
    "\n"
   ]
  },
  {
   "cell_type": "markdown",
   "metadata": {
    "id": "78Iyk6idX2sc"
   },
   "source": [
    "**2️⃣ Embarked → Survived**"
   ]
  },
  {
   "cell_type": "code",
   "execution_count": null,
   "metadata": {
    "id": "Ye_UV7hPX2sd",
    "scrolled": true
   },
   "outputs": [],
   "source": [
    "\n"
   ]
  },
  {
   "cell_type": "markdown",
   "metadata": {
    "id": "FhgYycieX2sd"
   },
   "source": [
    "**3️⃣ Title → Survived**"
   ]
  },
  {
   "cell_type": "code",
   "execution_count": null,
   "metadata": {
    "id": "ypiVoI6CX2se"
   },
   "outputs": [],
   "source": [
    "\n"
   ]
  },
  {
   "cell_type": "markdown",
   "metadata": {
    "id": "UXEC8FolX2se"
   },
   "source": [
    "<img src='https://raw.githubusercontent.com/jangrae/img/master/practice_20e.png' width=45 align=\"left\"/>"
   ]
  },
  {
   "cell_type": "markdown",
   "metadata": {
    "id": "R196PLJaZo-5"
   },
   "source": [
    "**📌 시각화 결과를 분석하는 방법**\n",
    "\n",
    "- 한 가지만 기억하세요! 귀무가설이 참일 때 나올 그래프의 모양(아래 그림)\n",
    "- 여기서 벗어나면, '차이가 있다'., '관련이 있다'는 말입니다.\n",
    "\n"
   ]
  },
  {
   "cell_type": "markdown",
   "metadata": {
    "id": "a29v8xwvZ9pC"
   },
   "source": [
    "<img src='https://github.com/DA4BAM/image/blob/main/%EB%AA%A8%EC%9E%90%EC%9D%B5.png?raw=true' width=700/>"
   ]
  },
  {
   "cell_type": "markdown",
   "metadata": {
    "id": "9X2HoAWSZirN"
   },
   "source": [
    "**참고:  Mosaic Plot을 3 범주로 그리기**"
   ]
  },
  {
   "cell_type": "code",
   "execution_count": null,
   "metadata": {
    "id": "R7f9BNPRS6xs"
   },
   "outputs": [],
   "source": [
    "mosaic(titanic, ['Sex', 'Pclass', 'Survived'], gap=0.02)\n",
    "plt.show()"
   ]
  },
  {
   "cell_type": "markdown",
   "metadata": {
    "id": "dmhYzOHLXvJC"
   },
   "source": [
    "## **4. 수치화**\n",
    "\n",
    "- 범주형 → 범주형 관계를 수치와해 비교할 때는 **카이제곱검정(Chi-Squared Test)** 을 사용합니다.\n",
    "- **scipy.stats** 라이브러리의 **chi2_contingency()** 함수로 카이제곱검정을 수행합니다.\n",
    "- 카이제곱검정은 $x^2$검정으로도 불립니다."
   ]
  },
  {
   "cell_type": "markdown",
   "metadata": {
    "id": "8p7ZrC7rj8Ei"
   },
   "source": [
    "<img src = \"https://github.com/Jangrae/img/blob/master/chi2.png?raw=true\" width=300 align=\"left\"/>"
   ]
  },
  {
   "cell_type": "markdown",
   "metadata": {
    "id": "A2fDnaln9310"
   },
   "source": [
    "- 카이제곱통계량은\n",
    "    - 클수록 기대빈도로부터 실제 값의 차이가 크다는 의미입니다.\n",
    "    - 계산식으로 볼 때, 범주의 수가 늘어날 수록 값은 커지게 되어 있습니다.\n",
    "    - 보통, 자유도의 2~3배 보다 크면, 차이가 있다고 봅니다.\n",
    "\n",
    "- 범주형 변수의 자유도: 범주의 수 - 1\n",
    "\n",
    "- 카이제곱검정에서는\n",
    "    - x 변수의 자유도 × y 변수의 자유도\n",
    "    - 예: Pclass → Survived\n",
    "        - Pclass: 범주가 3개, Survived: 2개\n",
    "        - (3-1) * (2-1) = 2\n",
    "        - 그러므로, 2의 2 ~ 3배인 4 ~ 6 보다 카이제곱 통계량이 크면 차이가 있다고 볼수 있습니다.\n"
   ]
  },
  {
   "cell_type": "markdown",
   "metadata": {
    "id": "CwbDv0nEkUIz"
   },
   "source": [
    "- **Pclass → Survived** 관계를 카이제곱검정을 사용해 확인해봅니다.\n",
    "- 우선 교차표를 만들고 확인합니다."
   ]
  },
  {
   "cell_type": "code",
   "execution_count": null,
   "metadata": {
    "id": "Jl7IPy0GkeEn"
   },
   "outputs": [],
   "source": [
    "table = pd.crosstab(titanic['Pclass'], titanic['Survived'])\n",
    "table"
   ]
  },
  {
   "cell_type": "markdown",
   "metadata": {
    "id": "rE5MBcDrlnFg"
   },
   "source": [
    "- 이 교차표를 사용해 카이제곱검정을 수행합니다."
   ]
  },
  {
   "cell_type": "code",
   "execution_count": null,
   "metadata": {
    "id": "ZIhdTgsSnE_P"
   },
   "outputs": [],
   "source": [
    "result = spst.chi2_contingency(table)\n",
    "print('* 카이제곱통계량:', result[0])\n",
    "print('* p-value:', result[1])\n",
    "print('* 기대빈도:\\n',result[3])"
   ]
  },
  {
   "cell_type": "markdown",
   "metadata": {
    "id": "NsiO4UlD0Ym5"
   },
   "source": [
    "<img src = \"https://github.com/Jangrae/img/blob/master/chi.png?raw=true\" width=800 align=\"left\"/>"
   ]
  },
  {
   "cell_type": "markdown",
   "metadata": {
    "id": "P285aWDL0fWJ"
   },
   "source": [
    "📌 **기대빈도 계산**\n",
    "\n",
    "**1)** $\\frac{549 \\times 216}{891}$\n",
    "**2)** $\\frac{549 \\times 184}{891}$\n",
    "**3)** $\\frac{549 \\times 491}{891}$\n",
    "**4)** $\\frac{342 \\times 216}{891}$\n",
    "**5)** $\\frac{342 \\times 184}{891}$\n",
    "**6)** $\\frac{342 \\times 491}{891}$\n",
    "\n"
   ]
  },
  {
   "cell_type": "markdown",
   "metadata": {
    "id": "a2Pa1wfO5X3O"
   },
   "source": [
    "📌 **카이제곱통계량 계산**\n",
    "\n",
    "$\\large x^2$$=\\frac{(80-133.0909)^2}{133.0909}+\\frac{(97-113.3737)^2}{113.3737}+\\frac{(372-302.5354)^2}{302.5354}+\\frac{(136-82.90909)^2}{82.90909}+\\frac{(87-70.62626)^2}{70.62626}+\\frac{(119-188.4646)^2}{188.4646}=102.889$"
   ]
  },
  {
   "cell_type": "markdown",
   "metadata": {
    "id": "RrpiFEqgX2sy"
   },
   "source": [
    "<img src='https://raw.githubusercontent.com/jangrae/img/master/practice_20.png' width=120 align=\"left\"/>"
   ]
  },
  {
   "cell_type": "markdown",
   "metadata": {
    "id": "ai4Io_lInE_Q"
   },
   "source": [
    "titanic 데이터프레임의 다음 변수들 간의 관계를 카이제곱검정으로 확인하세요."
   ]
  },
  {
   "cell_type": "markdown",
   "metadata": {
    "id": "DIIf_Gt9foRO"
   },
   "source": [
    "**1️⃣ Sex → Survived**"
   ]
  },
  {
   "cell_type": "code",
   "execution_count": null,
   "metadata": {
    "id": "dLVO0UZ3XPH4"
   },
   "outputs": [],
   "source": [
    "\n"
   ]
  },
  {
   "cell_type": "markdown",
   "metadata": {
    "id": "sfkwdLVvZIOP"
   },
   "source": [
    "**2️⃣ Embarked → Survived**"
   ]
  },
  {
   "cell_type": "code",
   "execution_count": null,
   "metadata": {
    "id": "7HwAZctKZIOQ"
   },
   "outputs": [],
   "source": [
    "\n"
   ]
  },
  {
   "cell_type": "markdown",
   "metadata": {
    "id": "WCmKwOwSZIOR"
   },
   "source": [
    "**3️⃣ Title → Survived**"
   ]
  },
  {
   "cell_type": "code",
   "execution_count": null,
   "metadata": {
    "id": "VAhKitACZIOS"
   },
   "outputs": [],
   "source": [
    "\n"
   ]
  },
  {
   "cell_type": "markdown",
   "metadata": {
    "id": "NcfBt8loX2tG"
   },
   "source": [
    "<img src='https://raw.githubusercontent.com/jangrae/img/master/practice_20e.png' width=45 align=\"left\"/>"
   ]
  }
 ],
 "metadata": {
  "colab": {
   "provenance": []
  },
  "kernelspec": {
   "display_name": "Python 3",
   "language": "python",
   "name": "python3"
  },
  "language_info": {
   "codemirror_mode": {
    "name": "ipython",
    "version": 3
   },
   "file_extension": ".py",
   "mimetype": "text/x-python",
   "name": "python",
   "nbconvert_exporter": "python",
   "pygments_lexer": "ipython3",
   "version": "3.12.7"
  }
 },
 "nbformat": 4,
 "nbformat_minor": 4
}
