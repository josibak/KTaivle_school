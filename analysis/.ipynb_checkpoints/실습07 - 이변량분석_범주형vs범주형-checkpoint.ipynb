{
 "cells": [
  {
   "cell_type": "markdown",
   "metadata": {
    "id": "b3TDAdnvnSbh"
   },
   "source": [
    "<center><img src='https://raw.githubusercontent.com/Jangrae/img/master/title.png' width=500/></center>\n"
   ]
  },
  {
   "cell_type": "markdown",
   "metadata": {
    "id": "PmZtDSeUdRJ5"
   },
   "source": [
    "\n",
    "# **실습: 이변량 분석 ③ - 범주형  → 범주형**"
   ]
  },
  {
   "cell_type": "markdown",
   "metadata": {
    "id": "4UklllBjdRJ7"
   },
   "source": [
    "## **1. 환경준비**"
   ]
  },
  {
   "cell_type": "code",
   "execution_count": null,
   "metadata": {
    "id": "yROT1tWLdRJ8"
   },
   "outputs": [],
   "source": [
    "import numpy as np\n",
    "import pandas as pd\n",
    "import random as rd\n",
    "import matplotlib.pyplot as plt\n",
    "import seaborn as sns\n",
    "from statsmodels.graphics.mosaicplot import mosaic\n",
    "import scipy.stats as spst\n",
    "import warnings\n",
    "\n",
    "warnings.filterwarnings(action='ignore')\n",
    "%config InlineBackend.figure_format = 'retina'\n",
    "plt.rcParams['figure.figsize'] = (6, 4)"
   ]
  },
  {
   "cell_type": "code",
   "execution_count": null,
   "metadata": {
    "id": "2voHuCQWY03s"
   },
   "outputs": [],
   "source": [
    "# Attrition 데이터\n",
    "path = 'https://raw.githubusercontent.com/Jangrae/csv/master/Attrition_simple2.csv'\n",
    "data = pd.read_csv(path)\n",
    "data.head(5)"
   ]
  },
  {
   "cell_type": "markdown",
   "metadata": {
    "id": "alMCGdShMLQt"
   },
   "source": [
    "**📋 데이터 정보**\n",
    "\n",
    "- Attrition: 이직 여부 (1: 이직, 0: 잔류)\n",
    "- Age: 나이\n",
    "- DistanceFromHome: 집-직장 거리 (단위: 마일)\n",
    "- EmployeeNumber: 사번\n",
    "- Gender: 성별 (Male, Female)\n",
    "- JobSatisfaction: 직무만족도(1: Low, 2: Medium, 3: High, 4: Very High)\n",
    "- MaritalStatus: 결혼 상태 (Single, Married, Divorced)\n",
    "- MonthlyIncome: 월급 (단위: 달러)\n",
    "- OverTime: 야근 여부 (Yes, No)\n",
    "- PercentSalaryHike: 전년 대비 급여 인상율(단위: %)\n",
    "- TotalWorkingYears: 총 경력 연수"
   ]
  },
  {
   "cell_type": "markdown",
   "metadata": {
    "id": "HmuNcr-YdRJ-"
   },
   "source": [
    "## **2. 교차표**\n",
    "\n",
    "- 다음에 지정한 두 변수의 관계에 대해서 교차표를 만들어 보세요."
   ]
  },
  {
   "cell_type": "markdown",
   "metadata": {
    "id": "K2WERwSGUU9-"
   },
   "source": [
    "**1️⃣ 성별(Gender) → 이직 여부(Attrition)**"
   ]
  },
  {
   "cell_type": "markdown",
   "metadata": {
    "id": "g0waSPvJBb-u"
   },
   "source": [
    "- 전체 개수"
   ]
  },
  {
   "cell_type": "code",
   "execution_count": null,
   "metadata": {
    "id": "sqrtTjkZdRJ_"
   },
   "outputs": [],
   "source": []
  },
  {
   "cell_type": "markdown",
   "metadata": {
    "id": "jqQ1ZavZVRoM"
   },
   "source": [
    "- 행 기준 비율"
   ]
  },
  {
   "cell_type": "code",
   "execution_count": null,
   "metadata": {
    "id": "sCyn_L0NdRKA"
   },
   "outputs": [],
   "source": []
  },
  {
   "cell_type": "markdown",
   "metadata": {
    "id": "zLZTkWPkV3dN"
   },
   "source": [
    "- **질문:** 교차표를 통해 성별(Gender)에 따라 이직 여부가 관련 있다고 보이나요?"
   ]
  },
  {
   "cell_type": "code",
   "execution_count": null,
   "metadata": {
    "id": "SEZLAjW8WGFc"
   },
   "outputs": [],
   "source": [
    "# "
   ]
  },
  {
   "cell_type": "markdown",
   "metadata": {
    "id": "ue-5F_ErVkDY"
   },
   "source": [
    "**2️⃣ 직무만족도(JobSatisfaction) → 이직 여부(Attrition)**"
   ]
  },
  {
   "cell_type": "markdown",
   "metadata": {
    "id": "Xki1XpZDC2XC"
   },
   "source": [
    "- 전체 개수"
   ]
  },
  {
   "cell_type": "code",
   "execution_count": null,
   "metadata": {
    "id": "1HyMqxNIVkDZ"
   },
   "outputs": [],
   "source": []
  },
  {
   "cell_type": "markdown",
   "metadata": {
    "id": "ubYDgFiPVkDa"
   },
   "source": [
    "- 행 기준 비율"
   ]
  },
  {
   "cell_type": "code",
   "execution_count": null,
   "metadata": {
    "id": "v6CUOLQnVkDb"
   },
   "outputs": [],
   "source": []
  },
  {
   "cell_type": "markdown",
   "metadata": {
    "id": "Z8a9JoFrWLsS"
   },
   "source": [
    "- **질문:** 교차표를 통해 직무만족도(JobSatisfaction)에 따라 이직 여부(Attrition)가 관련 있다고 보이나요?"
   ]
  },
  {
   "cell_type": "code",
   "execution_count": null,
   "metadata": {
    "id": "OCN20OLXWLsT"
   },
   "outputs": [],
   "source": [
    "# "
   ]
  },
  {
   "cell_type": "markdown",
   "metadata": {
    "id": "YQHgEGWyaIe2"
   },
   "source": [
    "**3️⃣ 결혼 상태(MaritalStatus) → 이직 여부(Attrition')**"
   ]
  },
  {
   "cell_type": "markdown",
   "metadata": {
    "id": "ciT3-r4_DM3I"
   },
   "source": [
    "- 전체 개수"
   ]
  },
  {
   "cell_type": "code",
   "execution_count": null,
   "metadata": {
    "id": "yKtN7UC7aIfB"
   },
   "outputs": [],
   "source": []
  },
  {
   "cell_type": "markdown",
   "metadata": {
    "id": "LRZTy8TKaIfD"
   },
   "source": [
    "- 행 기준 비율"
   ]
  },
  {
   "cell_type": "code",
   "execution_count": null,
   "metadata": {
    "id": "q2_pFRBaaIfD"
   },
   "outputs": [],
   "source": []
  },
  {
   "cell_type": "markdown",
   "metadata": {
    "id": "GptS-M-0aIfE"
   },
   "source": [
    "- **질문:** 교차표를 통해 결혼 상태(MaritalStatus)에 따라 이직 여부(Attrition)가 관련 있다고 보이나요?"
   ]
  },
  {
   "cell_type": "code",
   "execution_count": null,
   "metadata": {
    "id": "qKxCS-HdaIfF"
   },
   "outputs": [],
   "source": [
    "#"
   ]
  },
  {
   "cell_type": "markdown",
   "metadata": {
    "id": "KpOlS7FLg-z5"
   },
   "source": [
    "**4️⃣ 야근 여부(OverTime) → 이직 여부(Attrition')**"
   ]
  },
  {
   "cell_type": "markdown",
   "metadata": {
    "id": "e4jvc8dsg-z5"
   },
   "source": [
    "- 전체 개수"
   ]
  },
  {
   "cell_type": "code",
   "execution_count": null,
   "metadata": {
    "id": "gTOK3jYng-z5"
   },
   "outputs": [],
   "source": []
  },
  {
   "cell_type": "markdown",
   "metadata": {
    "id": "71jyZ74Ag-z6"
   },
   "source": [
    "- 행 기준 비율"
   ]
  },
  {
   "cell_type": "code",
   "execution_count": null,
   "metadata": {
    "id": "_izm9n-Rg-z6"
   },
   "outputs": [],
   "source": []
  },
  {
   "cell_type": "markdown",
   "metadata": {
    "id": "6gfDBhWmg-z6"
   },
   "source": [
    "- **질문:** 교차표를 통해 야근 여부(OverTime)에 따라 이직 여부(Attrition)가 관련 있다고 보이나요?"
   ]
  },
  {
   "cell_type": "code",
   "execution_count": null,
   "metadata": {
    "id": "TfcNtGlSg-z6"
   },
   "outputs": [],
   "source": [
    "# "
   ]
  },
  {
   "cell_type": "markdown",
   "metadata": {
    "id": "L1doOGiYWOY-"
   },
   "source": [
    "- **질문:** 성별, 직무만족도, 결혼 상태, 야근 여부 중 어떤 변수가 이직 여부를 예측하는데 더 중요한 변수인가요?"
   ]
  },
  {
   "cell_type": "code",
   "execution_count": null,
   "metadata": {
    "id": "HN8Oa4_BWX19"
   },
   "outputs": [],
   "source": [
    "# "
   ]
  },
  {
   "cell_type": "markdown",
   "metadata": {
    "id": "AVvWLzMGdRKD"
   },
   "source": [
    "## **3. 시각화**\n",
    "\n",
    "- 100% Stacked Bar, Mosaic Plot을 사용해 시각화해 보세요."
   ]
  },
  {
   "cell_type": "markdown",
   "metadata": {
    "id": "_wEBgf8JdRKD"
   },
   "source": [
    "**1️⃣ 성별(Gender) → 이직 여부(Attrition)**"
   ]
  },
  {
   "cell_type": "markdown",
   "metadata": {
    "id": "30SQGugIE9qr"
   },
   "source": [
    "- 100% Stacked Bar"
   ]
  },
  {
   "cell_type": "code",
   "execution_count": null,
   "metadata": {
    "id": "5xVcKWaOdRKD"
   },
   "outputs": [],
   "source": [
    "\n"
   ]
  },
  {
   "cell_type": "markdown",
   "metadata": {
    "id": "sV7akerqbWXE"
   },
   "source": [
    "- Mosaic Plot"
   ]
  },
  {
   "cell_type": "code",
   "execution_count": null,
   "metadata": {
    "id": "COgPkiBddRKE"
   },
   "outputs": [],
   "source": [
    "\n"
   ]
  },
  {
   "cell_type": "markdown",
   "metadata": {
    "id": "9A2HVREgbZJ_"
   },
   "source": [
    "- **질문:**  두 차트로 볼 때, 성별(Gender)에 따라 이직 여부가 달라지나요?"
   ]
  },
  {
   "cell_type": "code",
   "execution_count": null,
   "metadata": {
    "id": "oCuWaOVTbgxF"
   },
   "outputs": [],
   "source": [
    "# "
   ]
  },
  {
   "cell_type": "markdown",
   "metadata": {
    "id": "_fZpBa9lbjeH"
   },
   "source": [
    "**2️⃣ 직무만족도(JobSatisfaction) → 이직 여부(Attrition)**"
   ]
  },
  {
   "cell_type": "markdown",
   "metadata": {
    "id": "YoDDQ3RVFEL2"
   },
   "source": [
    "- 100% Stacked Bar"
   ]
  },
  {
   "cell_type": "code",
   "execution_count": null,
   "metadata": {
    "id": "3Wl_oBrUbjeI"
   },
   "outputs": [],
   "source": [
    "\n"
   ]
  },
  {
   "cell_type": "markdown",
   "metadata": {
    "id": "F7FP_UlnbjeJ"
   },
   "source": [
    "- Mosaic Plot"
   ]
  },
  {
   "cell_type": "code",
   "execution_count": null,
   "metadata": {
    "id": "gyZCjbyAbjeJ"
   },
   "outputs": [],
   "source": [
    "\n"
   ]
  },
  {
   "cell_type": "markdown",
   "metadata": {
    "id": "wXNkVRVXbjeK"
   },
   "source": [
    "- **질문:** 두 차트로 볼 때, 직무만족도(JobSatisfaction)에 따라 이직 여부(Attrition)가 달라지나요?"
   ]
  },
  {
   "cell_type": "code",
   "execution_count": null,
   "metadata": {
    "id": "ojolV1nPbjeK"
   },
   "outputs": [],
   "source": [
    "# "
   ]
  },
  {
   "cell_type": "markdown",
   "metadata": {
    "id": "zu-43a3PbT-v"
   },
   "source": [
    "**3️⃣ 결혼 상태(MaritalStatus) → 이직 여부(Attrition)**"
   ]
  },
  {
   "cell_type": "markdown",
   "metadata": {
    "id": "XvQcVFs-FGQY"
   },
   "source": [
    "- 100% Stacked Bar"
   ]
  },
  {
   "cell_type": "code",
   "execution_count": null,
   "metadata": {
    "id": "6m_p-JS5bT-x"
   },
   "outputs": [],
   "source": [
    "\n"
   ]
  },
  {
   "cell_type": "markdown",
   "metadata": {
    "id": "9yPObcxabT-y"
   },
   "source": [
    "- Mosaic Plot"
   ]
  },
  {
   "cell_type": "code",
   "execution_count": null,
   "metadata": {
    "id": "bQ5VSVAPbT-z"
   },
   "outputs": [],
   "source": [
    "\n"
   ]
  },
  {
   "cell_type": "markdown",
   "metadata": {
    "id": "qQz_KohUbT-z"
   },
   "source": [
    "- **질문:** 두 차트로 볼 때, 결혼 상태(MaritalStatus)에 따라 이직 여부(Attrition)가 달라지나요?"
   ]
  },
  {
   "cell_type": "code",
   "execution_count": null,
   "metadata": {
    "id": "59QW20ljbT-0"
   },
   "outputs": [],
   "source": [
    "# "
   ]
  },
  {
   "cell_type": "markdown",
   "metadata": {
    "id": "a5BGwhfKhgn2"
   },
   "source": [
    "**4️⃣ 야근 여부(OverTime) → 이직 여부(Attrition)**"
   ]
  },
  {
   "cell_type": "markdown",
   "metadata": {
    "id": "aUfl-Qb9hgn3"
   },
   "source": [
    "- 100% Stacked Bar"
   ]
  },
  {
   "cell_type": "code",
   "execution_count": null,
   "metadata": {
    "id": "elP_2PP1hgn3"
   },
   "outputs": [],
   "source": [
    "\n"
   ]
  },
  {
   "cell_type": "markdown",
   "metadata": {
    "id": "WghcXf1nhgn3"
   },
   "source": [
    "- Mosaic Plot"
   ]
  },
  {
   "cell_type": "code",
   "execution_count": null,
   "metadata": {
    "id": "6QX9LvP6hgn4"
   },
   "outputs": [],
   "source": [
    "\n"
   ]
  },
  {
   "cell_type": "markdown",
   "metadata": {
    "id": "RgtGaN6nhgn4"
   },
   "source": [
    "- **질문:** 두 차트로 볼 때, 야근 여부(OverTime)에 따라 이직 여부(Attrition)가 달라지나요?"
   ]
  },
  {
   "cell_type": "code",
   "execution_count": null,
   "metadata": {
    "id": "YEpYtny1hgn4"
   },
   "outputs": [],
   "source": [
    "# "
   ]
  },
  {
   "cell_type": "markdown",
   "metadata": {
    "id": "qSAqgxxidRKI"
   },
   "source": [
    "## **4. 수치화**\n",
    "\n",
    "- 카이제곱검정을 사용해 수치화해 비교해 보세요."
   ]
  },
  {
   "cell_type": "markdown",
   "metadata": {
    "id": "weRMH5a-0dao"
   },
   "source": [
    "**1️⃣ 성별(Gender) → 이직 여부(Attrition)**"
   ]
  },
  {
   "cell_type": "code",
   "execution_count": null,
   "metadata": {
    "id": "F5z57Jd5dRKI"
   },
   "outputs": [],
   "source": [
    "\n"
   ]
  },
  {
   "cell_type": "markdown",
   "metadata": {
    "id": "NYGp1Chh0kvE"
   },
   "source": [
    "**2️⃣ 직무만족도(JobSatisfaction) -→ 이직 여부(Attrition)**"
   ]
  },
  {
   "cell_type": "code",
   "execution_count": null,
   "metadata": {
    "id": "EYp-HFge0kvF"
   },
   "outputs": [],
   "source": [
    "\n"
   ]
  },
  {
   "cell_type": "markdown",
   "metadata": {
    "id": "qk1bHLp8bp0b"
   },
   "source": [
    "**3️⃣ 결혼 상태(MaritalStatus) → 이직 여부(Attrition)**"
   ]
  },
  {
   "cell_type": "code",
   "execution_count": null,
   "metadata": {
    "id": "NkaTy-aXbqgO"
   },
   "outputs": [],
   "source": [
    "\n"
   ]
  },
  {
   "cell_type": "markdown",
   "metadata": {
    "id": "NQvHbogUiFcA"
   },
   "source": [
    "**4️⃣ 야근 여부(OverTime) → 이직 여부(Attrition)**"
   ]
  },
  {
   "cell_type": "code",
   "execution_count": null,
   "metadata": {
    "id": "hOMnjtqbiFcB"
   },
   "outputs": [],
   "source": [
    "\n"
   ]
  }
 ],
 "metadata": {
  "colab": {
   "provenance": []
  },
  "kernelspec": {
   "display_name": "Python 3",
   "language": "python",
   "name": "python3"
  },
  "language_info": {
   "codemirror_mode": {
    "name": "ipython",
    "version": 3
   },
   "file_extension": ".py",
   "mimetype": "text/x-python",
   "name": "python",
   "nbconvert_exporter": "python",
   "pygments_lexer": "ipython3",
   "version": "3.12.7"
  }
 },
 "nbformat": 4,
 "nbformat_minor": 4
}
