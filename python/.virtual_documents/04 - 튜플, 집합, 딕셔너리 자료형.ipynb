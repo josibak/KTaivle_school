














# 빈 튜플 만들기 #1
score = ()

# 확인
print(score)


# 빈 튜플 만들기 #2
score = tuple()

# 확인
print(score)





# 튜플을 잘못 만든 예, 요소가 하나이기 때문에
score = (90)

# 확인
print(score)
print(type(score))





# 요소가 하나인 튜플 만들기 => ','
# score = 90,  == 똑같이 튜플 : ()가 생략 가능하다.
score = (90,)

# 확인
print(score)
print(type(score))
print(len(score))





# 여러 형태의 튜플 만들기
score1 = (90, 85, 70)
score2 = 90, 85, 70
score3 = (90, 85, 70, ('A', 'B', 'D', 'F'))

# 확인
print(score1)
print(score2)
print(type(score2))
print(score3)


# range() 함수를 사용해 만들기
nums = tuple(range(5))

# 확인
print(nums)


# 문자열로 튜플 만들기
chars = tuple('PYTHON')

# 확인
print(chars)





# 리스트 만들기
a = [1, 2, 3, 4, 5]

# 요소 변경
a[0]= 10

# 확인
print(a)





# 튜플 만들기
b = (1, 2, 3, 4, 5)

# 요소 변경이 불가능하다!
b[0] = 10











# 정수를 갖는 집합
nums = {0, 1, 2, 3, 4, 5, 6, 7, 8, 9}

# 확인
print(nums)





# 문자열을 갖는 집합
members = {'홍길동', '한사랑', '일지매', '박여인'}  # 순서가 바뀐다(집합안의 요소는 인덱싱이 의미가 없다)

# 확인
print(members)





# 여러 자료형을 갖는 집합
etc = {'홍길동', 100, (1, 2, 3), '박여인'}

# 확인
print(etc)








# 문자열로 집합 만들기
hello = set('잘지내지요')

# 확인
print(hello)





# range로 집합 만들기
nums = set(range(0, 10))

# 확인
print(nums)





# 리스트 만들기
member = ['홍길동', '한사랑', '홍길동', '일지매', '박여인']

# 집합 만들기
member1 = set(member)

# 확인
print(member1)





# 튜플 만들기
member = ('홍길동', '한사랑', '홍길동', '일지매', '박여인')

# 집합 만들기
member2 = set(member)

# 확인
print(member2)








# 집합 만들기
member_set1 = {'홍길동', '한사랑', '일지매', '박여인'}
member_set2 = {'한사랑', '홍길민', '강우동'}

# 합집합 구하기 #1
member_set3 = member_set1 | member_set2

# 확인
print(member_set3)


# 합집합 구하기 #2
member_set3 = member_set1.union(member_set2)

# 확인
print(member_set3)





# 집합 만들기
member_set1 = {'홍길동', '한사랑', '일지매', '박여인'}
member_set2 = {'한사랑', '홍길민', '강우동'}

# 교집합 구하기 #1
member_set3 = member_set1 & member_set2

# 확인
print(member_set3)


# 교집합 구하기 #2
member_set3 = member_set1.intersection(member_set2)

# 확인
print(member_set3)





# 집합 만들기
member_set1 = {'홍길동', '한사랑', '일지매', '박여인'}
member_set2 = {'한사랑', '홍길민', '강우동'}

# 차집합 구하기 #1
member_set3 = member_set1 - member_set2

# 확인
print(member_set3)


# 차집합 구하기 #2
member_set3 = member_set1.difference(member_set2)

# 확인
print(member_set3)





# 집합 만들기
member_set1 = {'홍길동',  '한사랑', '일지매', '박여인'}
member_set2 = {'한사랑', '홍길민', '강우동'}

# 대칭 차집합 구하기 #1
member_set3 = member_set1 ^ member_set2

# 확인
print(member_set3)


# 대칭 차집합 구하기 #2
member_set3 = member_set1.symmetric_difference(member_set2)

# 확인
print(member_set3)














# 영어:한글  ==> 'key' : 'value'
word = {'love': '사랑', 'happy': '행복', 'dream': '꿈'}

# 확인
print(word)
print(word['dream'])  # key 값을 넣음으로써 value값을 확인 가능 / 인덱싱은 의미 없음


# 이름:점수
score = {'홍길동': 100, '한여인': 90, '일지매': 90}

# 확인
print(score)
print(score['일지매'])





# 이름:점수
score = {'홍길동': 100,
         '한여인': 90,
         '일지매': 90}

# 확인
print(score)





# 다양한 정보를 갖는 딕셔너리
member1 = {'이름':'홍길동',
           '나이': 20,
           '지역':'서울'}

# 확인
print(member1)


# Value가 리스트인 딕셔너리
member2 = {'이름': '홍길동',
           '취미': ['독서', '여행', '걷기']}

# 확인
print(member2)
print(member2['취미'][0])
print(member2['취미'][-1])





# 숫자가 Key인 리스트
nums = {1:10, 2:20, 3:30}

# 확인
print(nums)





# 딕셔너리 만들기
score = {'홍길동': 100,
         '한여인': 90,
         '홍길동': 95,
         '한여인': 90,
         '한국인': 75,
         '일지매': 90}

# 확인
print(score)





# 딕셔너리 만들기
member = {'이름': '홍길동',
          '취미': ['독서', '여행', '걷기']}


# 이름 조회
print(member['이름'])


# 취미 조회
print(member['취미'])








# 딕셔너리 만들기




# 확인



# 이름 조회



# 나이 조회



# 지역 조회



# 언어 조회












# 딕셔너리 만들기
member = {'이름': '홍길동',
          '나이': 20}

# 확인
print(member)


# 딕셔너리 요소 값 변경
member['나이'] = 30

# 확인
print(member)





# 딕셔너리에 요소 추가
member['취미'] = ['독서', '여행']

# 확인
print(member)





# 딕셔너리 만들기
member = {'이름': '홍길동',
          '나이': 20,
          '지역':'서울',
          '성별': 'M',
          '등급': 'Gold'}

# 확인
print(member)





# 지정한 요소 삭제
del member['나이']

# 확인
print(member)





# 지정한 요소 삭제
del_member = member.pop('지역')

# 확인
print(del_member)
print(member)





# 임의 요소 삭제
del_member = member.popitem()

# 확인
print(del_member)
print(member)





# 딕셔너리에서 모든 요소 삭제
member= {}

# 확인
print(member)








# 딕셔너리 만들기
member = {'이름': '홍길동',
          '취미': ['독서', '여행', '걷기']}

# 확인
print(member)


# Key 확인
print(member.keys())


# Key만 뽑아 리스트 만들기
member_keys = list(member.keys())

# 확인
print(member_keys)





# Value 확인
print(member.values())


# Value만 뽑아 리스트 만들기
member_values = list(member.values())

# 확인
print(member_values)





# Key, Value 확인
print(member.items())





# 모든 요소 삭제
member.clear()

# 확인
print(member)








# 딕셔너리 만들기
stu01 = {
    'no': 1,
    'name': '홍길동',
    'score': [92, 96, 98]
}
stu02 = {
    'no': 2,
    'name': '한사랑',
    'score': [98, 64, 100]
}
stu03 = {
    'no': 3,
    'name': '일지매',
    'score': [88, 84, 92]
}

# 확인
print(stu01)
print(stu02)
print(stu03)





# 번호 + 10



# 확인








# 평균 구하기
stu01_mean = 
stu02_mean = 
stu03_mean = 

# 확인
print(stu01_mean)
print(stu02_mean)
print(stu03_mean)





# 출력 형태
out = '번호: {}, 이름: {}, 평균점수: {}'

# 출력








# 출력 형태
out = '번호: {}, 이름: {}, 평균점수: {:.2f}'

# 출력






