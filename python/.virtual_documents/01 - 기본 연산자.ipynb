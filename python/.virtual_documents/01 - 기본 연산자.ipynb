











# 나이(age) 변수 선언
age = 30

# 변수 값 확인
age


import this





# 변수 값 변경
age = age + 1

# 변수 값 확인
age





# 데이터 형식 확인
type(age)











# 키워드 확인
import keyword
print(keyword.kwlist)








# 정수형 변수
a = 26
b = 5





# 더하기
a + b


# 빼기
a - b


# 곱하기
a * b


# 나누기
a / b





# 몫
a // b


# 나머지
a % b


# 제곱
a ** 2





# 변수 선언
a = 20

# 짝/홀수 판단
if a % 2 == 0:
    result = '짝수'
else:
    result = '홀수'

# 확인
result





# 변수 선언
age = 26

# 10으로 나눈 몫을 구한 후 10 곱하기
age = age // 10 * 10

# 확인
age





# 실수형 변수
c = 10.5
d = 2.5


# print() 함수를 사용하지 않은 경우 --> 값이 하나만 표시됨
c % d
c // d


# print() 함수를 사용한 경우 #1 --> 값이 여러번 표시됨
print(c % d)
print(c // d)





# print() 함수를 사용한 경우 #2
print('c =', c)
print('d =', d)
print('c % d =', c % d)
print('c // d =', c // d)








# 변수 선언
name = "sihyun"
age = 27


# 나이 빼기
age = age - 10


# 값 확인 #1
print('이름:', name)
print('나이:', age)


# 값 확인 #2
print('이름:', name, '/', '나이:', age)





# 정수형 변수
score1 = 153
score2 = 204
score3 = 259
score4 = 221
score5 = 267

# 합계 구하기
tot_score = score1 + score2 + score3 + score4 + score5

# 평균 구하기
avg_score = tot_score / 5

# 출력
tot_score
avg_score











# 정수형 변수 선언
a = 10
b = 20

# '크다' 비교
a > b


# '같다' 비교
a == b


# '작다' 비교
a < b





# 변수 선언
score = 85

# 조건문 예
if score >= 80:
    print('Good')
else:
    print('Bad')





# 정수형 변수 선언
a = 10

# 복합 대입 연산자 사용
a += 10
a -= 2
a *= 2
a /= 5

# 확인
print(a)





# 정수형 변수 선언
a = 10

# 복합 대입 연산자 사용 안함
a = a + 10
a = a - 2
a = a * 2
a = a / 5

# 확인
print(a)











# 정수형 변수
x = 5

# 확인
print(type(x))
print(x)





# 실수형 변수
x = 2.5

# 자료형 확인
print(type(x))

# 연산 확인
print(x, x + 1, x * 2, x ** 2)


# 정수형 변수
x = 123

# 정수 사이의 연산
y = x / 4

# 확인
print(type(y))
print(y)








# 부울형 변수
t = True
f = False

# 자료형 확인
print(type(t))
print(type(f))


# 조건의 참과 거짓
print(10 > 1)
print(10 == 10)
print(10 > 100)





# 부울형과 논리 연산자
t = True
f = False

print(t and f)
print(t or f)
print(not t)








# 문자열, 정수 --> 실수
a = float('10.5')
b = float(10)
print(type(a))
print(type(b))
print(a)
print(b)





# 문자열, 실수 --> 정수
a = int('10')
b = int(123.45)
print(type(a))
print(type(b))
print(a)
print(b)





# 숫자 --> 문자열
c = str(123.45)
print(type(c))
print(c)





# 숫자 --> 불리언형
d = bool(-12)
print(type(d))
print(d)

e = bool(0)
print(type(e))
print(e)





# 문자 --> 불리언형
f = bool('a')
print(type(f), f)

g = bool('')
print(type(g), g)








# 문자열과 숫자 연결
print('I am ' + '20' + ' years old.')











print("파이썬을 배웁시다" + "누구든 할 수 있습니다.")
print()





print('123' + ' 오늘은' + ' 12월 20일 입니다')





31 == 31.0





24 == 24.0






kor = int(input())
math = int(input())
eng = int(input())
avg = (kor + math + eng) / 3
print('홍길동의 평균 점수는 '+ str(avg))



