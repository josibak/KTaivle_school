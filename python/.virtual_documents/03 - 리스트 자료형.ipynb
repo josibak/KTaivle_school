














# 개별 값을 갖는 기존 변수
score1 = 85
score2 = 90
score3 = 80
score4 = 75
score5 = 95





# 변수들의 합
score_sum = score1 + score2 + score3 + score4 + score5

# 확인
print(score_sum)





# 리스트 만들기
score = [85, 90, 80, 75, 95]

# 확인
print(score)





# 리스트 요소의 합
score_sum = sum(score)

# 확인
print(score_sum)





# 리스트 요소 중 가장 큰 값
score_max = max(score)

# 확인
print(score_max)











# 빈 리스트 만들기
score1 = []
score2 = list()

# 확인
print(score1)
print(score2)





# 리스트 만들기
score = [85, 95, 90, 75]

# 확인
print(score)
print(len(score))





# 리스트 만들기
member = ['홍길동', 85, '한사랑', 95, '일지매', 90,'박여인', 75]

# 확인
print(member)
print(len(member))





# 2차원 리스트 만들기
score = [[80, 90, 75],
         [85, 70, 99],
         [90, 75, 80]]

# 확인
print(score)
print(len(score))





# 리스트 만들기
nums = [1, 2, 3, 4, 5, 6, 7, 8, 9, 10, 11, 12, 13, 14, 15, 16, 17, 18, 19, 20]

# 확인
print(nums)








# 0 ~ 9 정수를 요소로 갖는 리스트
nums = list(range(10))

# 확인
print(nums)





# 위 결과와 동일
nums = list(range(0, 10))

# 확인
print(nums)


# -5 ~ 5 사이 정수를 요소로 갖는 리스트
nums = list(range(-5, 6))

# 확인
print(nums)





# 0 ~ 9 사이, 2씩 증가하는 정수를 요소로 갖는 리스트
nums = list(range(0, 10, 2))

# 확인
print(nums)


# 0 ~ 9 사이, 3씩 증가하는 정수를 요소로 갖는 리스트
nums = list(range(0, 10, 3))

# 확인
print(nums)


# 9 ~ 0 사이, 1씩 감소하는 정수를 요소로 갖는 리스트
nums = list(range(9, -1, -1))

# 확인
print(nums)





# 단순 문자열
var_str = ('PYTHON')

# 확인
print(var_str)


# 문자열 하나를 요소로 갖는 리스트
list_str = ['PYTHON']

# 확인
print(list_str)


# 개별 문자를 요소로 갖는 리스트 #1
list_str = list('PYTHON')

# 확인
print(list_str)


# 개별 문자를 요소로 갖는 리스트 #2
list_str = list('123456789')

# 확인
print(list_str)





# 리스트 만들기
member = ['홍길동', 85, '한사랑', 95, '일지매', 90, '박여인', 75]

# 인덱싱
print(member[0])
print(member[3])
print(member[-1])
print(member[-7])





# 리스트를 요소로 갖는 리스트
score = [80, [90, 100, 85], 85, 90]

# 인덱싱
print(score[0])
print(score[1])
print(score[-1])
print(score[-3])
print(score[1][2])


print(score[1][0])





# 리스트 만들기
member = ['홍길동', 85, '한사랑', 95, '일지매', 90,' 박여인', 75]

# 슬라이싱
print(member[2:6])
print(member[6:])
print(member[:4])
print(member[:])
print(member[0:-2])





# 리스트를 요소로 갖는 리스트
score = [80, [90, 100, 85], 85, 90]

# 슬라이싱
score[1][1:3]








# 1 ~ 10 정수를 갖는 리스트
a = list(range(1, 11))

# 확인
print(a)


# 2 ~ 10 짝수를 갖는 리스트
b = list(range(2, 11, 2))

# 확인
print(b)


# 리스트 a에서 5 ~ 8 정수만 가져와 리스트 c 만들기
c = a[4:8]

# 확인
print(c)











# 리스트 만들기
score1 = [90, 80, 95, 70]
score2 = [70, 75, 90, 100]

# 두 리스트 더하기
score3 = score1 + score2

# 확인
print(score3)





# 빈 리스트 만들기
score = []

# 리스트 연결
score += [90, 80, 95, 70]
score += [70, 75, 90, 100]

# 확인
print(score)





# 리스트 만들기
score1 = [90, 80, 95, 70]

# 리스트 요소를 곱한 수 만큼 반복하기
score2 = score1 * 2
score3 = score1 * 3

# 확인
print(score1)
print(score2)
print(score3)





# 리스트 만들기
score1 = [90, 80, 95, 70]

# 리스트에 0 곱하기
score0 = score1 * 0

# 확인
print(score1)
print(score0)








# 두 리스트 만들기
a1 = list(range(1, 5))
a2 = list(range(5, 10))
a3 = list(range(10, 15))

# 확인
print(a1)
print(a2)
print(a3)

# 리스트 합치기


# 확인















# range() 함수로 리스트 만들기
nums = list(range(10))

# 확인
print(nums)


# 특정 요소 값 변경
nums[1] = 10

# 확인
print(nums)


# 범위내 요소 값 변경
nums[2:4] = [20, 30]

# 확인
print(nums)


# 범위내 요소 값 변경
nums[4:7] = [40, 50]

# 확인
print(nums)





# 범위를 벗어나는 요소 값 변경
nums[6:] = [70, 80, 90, 100]

# 확인
print(nums)


# 범위를 완전히 벗어나는 요소 값 변경
nums[600:] = [110, 120]

# 확인
print(nums)








# 0 ~ 4 정수를 갖는 리스트 만들기
nums = list(range(5))

# 확인
print(nums)


# 맨 뒤에 요소 하나 추가
nums.append(5)

# 맨 뒤에 요소 하나 더 추가
nums.append(6)

# 확인
print(nums)


# 맨 뒤에 리스트 하나를 요소로 추가
nums.append([7, 8])

# 확인
print(nums)





# 리스트 만들기
nums = [10, 20, 40, 50]

# 확인
print(nums)


# 특정 위치에 요소 추가
nums.insert(3, 30)

# 확인
print(nums)





# 리스트 만들기
nums = list(range(5))

# 확인
print(nums)


# 리스트 더하기
nums = nums + [5, 6, 7, 8, 9]

# 확인
print(nums)





# 리스트 만들기
nums = list(range(5))

# 확인
print(nums)


# extend 메서드를 사용해서 다른 리스트 연결
nums.extend([5, 6, 7, 8, 9])

# 확인
print(nums)





# 리스트 만들기
nums = list(range(10, 100, 10))

# 확인
print(nums)





# del문으로 특정 요소 삭제
#      [10, 20, 30, 40, 50, 60, 70, 80, 90]
# 인덱스 0   1   2   3   4   5   6   7   8

del nums[7]

# 확인
print(nums)





# 범위 지정하여 여러 요소 삭제
#      [10, 20, 30, 40, 50, 60, 70, 90]
# 인덱스 0   1   2   3   4   5   6   7

del nums[4:]

# 확인
print(nums)





# 모든 요소 삭제
nums = []

# 또는
#nums.clear()

# 확인
print(nums)








# 리스트 만들기
score = [75, 46, 93, -82, -77, 130, 100, 75, -10]

# 요소 개수 확인






# 인덱싱







# 요소 추가


# 확인






# 슬라이싱






# 요소 변경


# 확인






# 요소 삭제


# 확인









# 리스트 복사
nums = list(range(10))
nums_copy_1 = nums                  # 그냥 복사
nums_copy_2 = nums[:]               # 전체 범위를 지정하여 복사

# 확인
print(nums_copy_1)
print(nums_copy_2)





# copy_1의 첫번째 값 변경 후 원본과 비교
nums_copy_1[0] = 'a'

# 확인
print(nums_copy_1)
print(nums_copy_2)
print(nums)





# copy_2의 첫번째 값 변경 후 원본과 비교
nums_copy_2[0] = 'b'

# 확인
print(nums_copy_1)
print(nums_copy_2)
print(nums)





# 완전 복사 방법
nums_copy_2 = nums[:]
nums_copy_2 = nums.copy()





# 변수 선언
a = 'I have a Dream.'
b = ['A', 'B', 'C', 'D']

# 메서드 사용
a.upper()  # a는 변결 불가능한 문자열이라 그대로다
a = a.upper()  # 이러면 가능
b.reverse()  # list는 변경 가능

# 확인
print(a)
print(b)





a = [1, 2, 3]
print(a[1])
print(sum(a))
print(sum([1, 2, 3, 4, 5]))


# 리스트 만들기
score = [90, 80, 95, 70, 100, 65, 70, 100]

# 확인
print(score)


# 100점이 몇 개인지 확인
score.count(100)


# 100점이 처음 나타나는 위치
print(score.index(100))





# 리스트 만들기
score = [90, 80, 95, 70, 100]
print(score)


# 리스트 맨 뒤에 새로운 요소 추가
score.append(85)

# 확인
print(score)


# 리스트에 리스트를 요소로 추가
score.append([85, 95, 90, 70, 85])

# 확인
print(score)


# 조심!
a = [1,2,3,4]
a.append(5)
# a = a.append(6)  # 이러면 안된다
print(a)





# 리스트 만들기
member = ['홍길동', '일지매', '박여인', '한사랑', '강우동']

# 확인
print(member)


# 요소 뒤집기
member.reverse()

# 확인
print(member)


# 리스트 안의 요소를 오름차순으로 정렬
member.sort()

# 확인
print(member)


# 리스트 안의 요소를 내림차순으로 정렬
member.sort(reverse=True)

# 확인
print(member)





# 리스트 만들기
member = ['일지매', '박여인', '한사랑']

# 확인
print(member)


# '박여인'과 '한사랑' 사이에 '한국인' 삽입
member.insert(2, '한국인')

# 확인
print(member)


# 마지막 요소 '한사랑' 앞에 '강우동' 삽입
member.insert(-1, '강우동')

# 확인
print(member)


# 맨 앞 요소 '일지매' 앞에 '홍길동' 삽입
member.insert(0, '홍길동')
print(member)





# 리스트 만들기
member = ['홍길동', '일지매', '박여인', '한사랑', '박여인', '강우동']

# 확인
print(member)


# 첫 번째 '박여인' 삭제
member.remove('박여인')

# 확인
print(member)


# 3번째 요소 삭제
del_member = member.pop(2)

# 확인
print(del_member)
print(member)


# 모든 요소 삭제
member.clear()

# 확인
print(member)








# 리스트 만들기
del_member = []
member = ['홍길동', '일지매', '박여인', '한사랑', '박여인', '강우동']

# 요소 삭제
del_member.append(member.pop(0))
del_member.append(member.pop(0))
del_member.append(member.pop(0))

# 확인
print(del_member)
print(member)








# 리스트 만들기
score = [90, 80, 95, 70, 100]

# 확인
print(score)


# 리스트에 리스트 붙이기
score.extend([65, 70, 100])

# 확인
print(score)


# 두 리스트 연결
add_score = [80, 95, 75]
score.extend(add_score)

# 확인
print(score)





































































