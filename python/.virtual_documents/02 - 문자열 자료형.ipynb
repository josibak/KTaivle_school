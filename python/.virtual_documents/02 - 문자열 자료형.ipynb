











# 문자열 출력(Hello World)
print('Hello World')
print("Hello World")


# 문자열 변수 선언
a = 'Hello'
b = "World"

# 확인
print(a, b)


# 문자열 길이 확인
print(len(a))





# 여러 줄 문자열 표시
s1 = "여러 줄의 문자열을 표시할 때는 \n을 사용하세요"
print(s1)


s2 = """또 다른 방법은
큰 따옴표나 작은 따옴표를 세 개 사용하는 것입니다."""
print(s2)





# 문자열에 따옴표 넣기
s3 = "문자열 안에 따옴표, 예를 들어 '를 넣고 싶을 때는 이렇게 하세요."
print(s3)


s4 = "아니면 \' 또는 \"를 사용해도 됩니다."
print(s4)








# 문자열 변수
s1 = 'hello'
s2 = 'world'

# 문자열 더하기
hw = s1 + ' ' + s2

# 확인
hw





# * 사용해 문자열 반복
print('*' * 17)
print('** ' + s1 + ' ' + s2 + ' **')
print('*' * 17)


# 문자열에 0을 곱하면 문자열이 제거됨
s = 'hello'
print(s * 1)
print(s * 0)
print(s * 2)








# 단순 문자열
'이름:{}, 과목:{}, 점수:{}'





# format 사용
'이름:{}, 과목:{}, 점수:{}'.format('홍길동', '국어', 90)





# 변수 선언
name = '홍길동'
year = 2019
perf = 2345.6789

# 출력
print('이름:{}, 연도:{}, 실적:{}'.format(name, year, perf))





# 변수 선언
name = '홍길동'
year = 2019
perf = 2345.6789

# 출력
print('이름:{0}, 연도:{1}, 실적:{2}'.format(name, year, perf))
print('이름:{0}, 연도:{1}, 실적:{2:.2f}'.format(name, year, perf))
print('이름:{}, 연도:{}, 실적:{:,.2f}'.format(name, year, perf))








# 변수 선언
Name = 'sihyun'
kor = 100
math = 100
eng = 90





# 합 구하기
my_sum = kor + math + eng
Sum = my_sum





# 평균 구하기
my_mean = my_sum / 3
Mean = my_mean





# 확인
print('{} 학생의 점수 합은 {} 이고 평균은 {:.2f} 입니다.'.format(Name, Sum, Mean))








# 변수 선언
name = '홍길동'
age = 25
score = 2345.6789

# 확인
print(f'이름: {name}')
print(f'나이: {age}')
print(f'점수: {score}')
print(f'{age}살의 {name}의 점수는 {score}입니다.')





# 확인
print(f'{age}살의 {name}의 점수는 {score:,.2f}입니다.')








# 변수 선언
name = '홍길동'
age = 25
score1 = 153
score2 = 204
score3 = 259
score4 = 221
score5 = 267

# 합계
tot_score = score1 + score2 + score3 + score4 + score5

# 평균
avg_score = tot_score / 5

# 연령대
age_group = age // 10 * 10





# 확인

print(f"{name}, 나이 : {age}, 연령대 : {age_group}")
print(f"점수 : {score1}, {score2}, {score3}, {score4}, {score5}")
print(f"합계 : {tot_score} / 평균 : {avg_score}") 










# 대문자로 변환
s = 'I have a Dream.'
print(s.upper())  # s는 변하지 않음
print(s)





# 대문자로 변환
s = 'I have a Dream.'
print(s.upper())

# 변수에 반영
s = s.upper()
print(s)





# 대/소문자 변환
s = 'I have a Dream.'
print(s.capitalize())  # 첫 글자만 대문자
print(s.title())  # 단어의 첫 글자만 대문자
print(s.upper())
print(s.lower())





# 문자열 변경
s = 'nowhere'
print(s.replace('now', 'now '))
print(s)  # 변수 자체는 변하지 않음


# 앞 뒤 빈 문자열, 특수 문자 제거
print('  world '.strip())
print('#world#$$#'.strip())
print('#world#$$#'.strip('$#'))





# 문자열 변수
num = '123,456'

# 콤마 제거 후 정수로 변환
num = num.replace(',', '')
num = int(num)

# 연산
print(num * 2)








# 문자열 변수 선언
my_str = '파이썬을 대충 공부할께요!'

# 문자열 변환
print(my_str)








# 문자열 변수
s = 'I have a Dream!'

# 문자열 분리
print(s.split())


# 문자열 변수
s = '1/2/3/4/5/6/7/8/9'

# 문자열 분리
s_new = s.split('/')

# 확인
print(s_new)  # 리스트로 반환


# 문자열 변수
s = '2020-09-14'

# 문자열 분리
# 리스트로 반환되는걸 이용
year = s.split('-')[0]
month = s.split('-')[1]
day = s.split('-')[2]

# 확인
print('오늘은', year, '년', month, '월', day, '일 입니다.')





# 중간에 특정 문자열 삽입
s = 'PYTHON'
s1 = '/'
print(s1.join(s))


# 요소를 연결해서 문자열로
a = ['홍길동', '한사랑', '강우동', '박여인']
s = '/'.join(a)

# 확인
print(s)


# 문자열을 구분자로 나누어 리스트로
b = s.split('/')

# 확인
print(b)








# 문자열 변수
my_str = '15, 23, 52, 41, 25, 60, 47, 28, 49, 60'

# 문자열 분리
print(my_str.split(','))





# 리스트 만들기
my_list = ['2020', '09', '14']

# 문자열 연결
date = '-'.join(my_list)

# 확인
print(date)





# 리스트 만들기
a = ['h', 'a', 'p',  'p', 'y']

# 대문자로 변경
b = ''.join(a)

# 확인
print(b.upper())



















































