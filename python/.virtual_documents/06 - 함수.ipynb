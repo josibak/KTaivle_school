














# 함수 만들기
def hello():
    print('안녕하세요? 반갑습니다!')

# 함수 사용하기
hello()





# 함수 만들기
def hello(name):
    print(f'{name}님 안녕하세요? 반갑습니다!')

# 함수 사용
hello('홍길동')








# 함수 만들기
def hello(name='여러분'):
    print(f'{name}님 안녕하세요? 반갑습니다!')

# 함수 사용
hello('홍길동')
hello()











# 함수 만들기



# 함수 사용
hello('홍길동')
hello()








# 함수 만들기
def hello(name, loud=1):
    if loud == 1:
        print(f'우~~와~~ {name}님 안녕하세요? 반갑습니다!!!')
    else:
        print(f'{name}님 안녕하세요? 반가워요.')

# 함수 사용
hello(name='홍길동', loud=1)   # 매개변수 이름 = 값 으로 지정
hello(loud=0, name='홍길동')   # 매개변수 이름으로 지정하면 순서 변경 가능
hello('홍길동', 0)             # 매개변수 순서에 맞게 값을 넣으면 매개변수 이름 생략 가능
hello('홍길동')                # 함수 생성 시 loud = 1 로 선언했으므로, 안쓰면 기본값 1이 입력됨





# 함수 만들기
def hello(*args):
    for who in args:
        print(f'{who}님 안녕하세요? 반갑습니다!')

# 함수 사용
hello('홍길동', '일지매', '강우동')





# 함수 만들기
def hello(title, *args):
    for who in args:
        print(f'{who}{title} 안녕하세요? 반갑습니다!')

# 함수 사용
hello('선생님', '홍길동', '일지매', '강우동')





# 함수 만들기
def hello(title, *args):
    for who in args:
        print(f'{who}{title} 안녕하세요? 반갑습니다!')

# 함수 사용(오류)
hello(title='선생님', '홍길동', '일지매', '강우동')





# 함수 만들기
def hello(*args, title):
    for who in args:
        print(f'{who}{title} 안녕하세요? 반갑습니다!')

# 함수 사용(오류)
hello('홍길동', '일지매', '강우동', '선생님')





# 함수 만들기
def hello(*args, title):
    for who in args:
        print(f'{who}{title} 안녕하세요? 반갑습니다!')

# 함수 사용
hello('홍길동', '일지매', '강우동', title='선생님')








# 함수 만들기



# 함수 사용
sqrsum(1, 4, 3, 5)








# 함수 만들기
def calculate1(a, b):
    summ = a + b
    return summ

# 함수 사용
r1 = calculate1(10, 5)
print(r1)





# 함수 만들기
def calculate1(a, b):
    summ = a + b
    print(summ)

# 함수 사용
r1 = calculate1(10, 5)
print(r1)





# 함수 만들기
def calculate2(a, b):
    summ = a + b
    mult = a * b
    return summ, mult

# 함수 사용
r1, r2 = calculate2(10, 5)
print(r1)
print(r2)








# 함수 만들기




# 함수 사용
r1, r2 = divide2(10, 5)
print(r1)
print(r2)


























































