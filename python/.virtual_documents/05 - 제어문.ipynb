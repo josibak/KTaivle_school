











# 변수 선언
my_score = 73

# 80보다 크거나 같으면 10 더하기
if my_score >= 80:
    my_score += 10

# 결과 출력
my_score


# 리스트 만들기
score_list = []

# 리스트에 요소가 있으면 출력, 없으면 말고
if len(score_list) > 0:
    print(score_list)


# 리스트 만들기
score1 = [75, 80, 70, 95, 90]
score2 = []

# 요소가 있으면 True, 없으면 False
print(bool(score1), bool(score2))


# 리스트 만들기
score_list = [75, 80, 70, 95, 90]

# 리스트에 요소가 있으면 출력, 없으면 말고
if score_list:
    print(score_list)





# 변수 선언
my_score = 73

# 80보다 크거나 같으면 Pass, 아니면 Fail
if my_score >= 80:
    my_result = 'Pass'
else:
    my_result = 'Fail'

# 결과 출력
print(my_result)


# 리스트 만들기
score_list = [75, 80, 70, 95, 90]

# 리스트에 요소가 있으면 출력, 없으면 '요소 없음' 출력
if score_list:
    print(score_list)
else:
    print('요소 없음')





# 리스트 만들기
score_list = [75, 80, 70, 95, 90]

# 한 줄로 작성하기
if score_list: print(score_list)
else: print('요소 없음')





# 리스트 만들기
score_list = [75, 80, 70, 95, 90]

# 우선 pass
if score_list:
    pass
else:
    print('요소 없음')





# 변수 선언
my_score = 76

# 점수에 따른 학점 주기
if my_score >= 90:
    my_grade = 'A'
elif my_score >= 80:
    my_grade = 'B'
elif my_score >= 70:
    my_grade = 'C'
elif my_score >= 60:
    my_grade = 'D'
else:
    my_grade = 'F'

# 결과 출력
print(my_grade)





# 변수 선언
my_score = 76

# 점수에 따른 학점 주기
if my_score >= 90:
    my_grade = 'A'
else:
    if my_score >= 80:
        my_grade = 'B'
    else:
        if my_score >= 70:
            my_grade = 'C'
        else:
            if my_score >= 60:
                my_grade = 'D'
            else:
                my_grade = 'F'

# 결과 출력
print(my_grade)








# 오늘의 요일 확인
from datetime import datetime

dt = datetime.now()
week_num = dt.weekday()

print(week_num)


# 숫자로된 요일이 '월' ~ '일' 문자로 표시되게 조건문 작성
if week_num == 0:
    week_str = '월'
elif week_num == 1:
    week_str = '화'



# 확인
print(week_str)





# 변수 선언
score1 = 72
score2 = 90
score3 = 76

my_score = score1

# 조건 처리
if my_score >= 95:
    my_grade = 'A+'
elif my_score >= 90:
    my_grade = 'A'



# 확인
print(my_grade)





# 변수 선언
score1 = 60
score2 = 100
score3 = 76

# 조건 처리
if score1 <= 60:
    print('Fail')
elif score2 <= 60:


















# 문자열의 문자 줄력
for i in 'PYTHON':
    print(i)


# 리스트 요소 출력
for i in [0, 1, 2, 3, 4]:
    print(i)


# range() 함수 사용해 범위 지정
print(range(5))
print(list(range(5)))


# iterable한 자료형 = for 문에 사용할 수 있는 자료형
# 리스트, 튜플, 집합, 문자열, range() 함수 ...


# 범위안의 값 출력
for i in range(5):
    print(i)


# if 문과 같이 사용(짝수만 출력)
for i in range(5):
    if i % 2 == 0:
        print(i)


# 리스트 만들기
fruits = ['apple', 'banana', 'cherry']

# 리스트 요소 출력
for i in fruits:
    print(i)








# 1부터 10까지 짝수의 합
s = 0

for i in range(1, 10):
    s = s + i

print('합 =', s)





# 1부터 100까지 합








# 1부터 100까지 7의 배수














# 리스트 만들기
member = ['홍길동', '한사랑', '일지매', '박여인', '강우동']

# 루프 돌면서 이름 출력
for mem in member:
    print(mem)





# list(member)
list(enumerate(member))  # index를 포함한 튜플형으로 반환 -> enumerate : 리스트에 인덱스값을 포함한 튜플형으로 반환됨


# 순번이 짝수인 경우만 '순번: 이름' 형태로 출력 - index를 활용한 방법
for idx, mem in enumerate(member):
    if idx % 2 == 0:
        print(f'{idx}: {mem}')


# 문자열과 enumerate() 함수
for idx, val in enumerate('나의살던고향'):
    print(idx, val)





# 리스트 만들기
nums = [0, 1, 2, 3, 4]

# 빈 리스트 만들기
squares = []

# 2를 곱한 결과를 squares 리스트에 추가
for x in nums:
    squares.append(x ** 2)

# 확인
print(squares)


# 반복문 확장 문법 #1
squares = [x ** 2 for x in nums]

# 확인
print(squares)


# 반복문 확장 문법 #2
# 반복문 + 조건문: 짝수인 값의 제곱을 구해서 even_squares 리스트에 넣기
even_squares = [x ** 2 for x in nums if x % 2 == 0]

# 확인
print(even_squares)








score = [75, 46, 93, -82, -77, 130, 100, 75, -10]

# 음수 제거
score01 = [x for x in score if x >= 0]
print(score01)





# 100보다 큰 수 제외
score02 = [x for x in score01 if x < 100]
print(score02)






# 요소 합과 평균
tot_score02 = 0
count = 0
for x in score02:
    tot_score02 += x
    count += 1
print(count)
avg_score02 = tot_score02 / count
print(tot_score02)
print(avg_score02)





# 10으로 나눈 값














# 딕셔너리 만들기
score = {'홍길동': 85, '한사랑': 95, '일지매': 90}

# key와 value 조회
for key in score:
    value = score[key]
    print('{}: {}'.format(key, value))





# items() 메서드 사용
for key, value in score.items():
    # print('{}: {}'.format(key, value))
    print(key, value)








# 딕셔너리 만들기
score = {'홍길동': [85, 80, 90, 95],
         '한사랑': [95, 90, 80, 90],
         '일지매': [90, 70, 60, 80]}

# 이름과 점수 합 확인










# 딕셔너리 만들기
score = {'홍길동': 85, '한사랑': 95, '일지매': 90}

# 확인
print(score)
print(score.items())


# 확장 문법 - 반복문 + 제어문
score_over_90 = {k: v for k, v in score.items() if v > 90}

# 확인
print(score_over_90)





# items() 메서드 사용 안하면
score_over_90 = {k: score[k] for k in score if score[k] > 90}

# 확인
print(score_over_90)








# 리스트 만들기
fruits = ['apple', 'banana', 'cherry']

# 요소 출력
i = 0
while i < len(fruits):
    print(fruits[i])
    i += 1





# 변수 선언
tot, i = 0, 0

# 100까지 짝수 합 구하기
while True:
    i += 1
    if i > 100:
        break

    if i % 2 == 0:
        tot += i
    else:
        continue

# 확인
print(tot)








# 변수 선언
tot, i = 0, 0

# 100까지 짝수 합 구하기
while True:
    i += 1
    if i > 100:
        break

    if i % 2 == 0:
        tot += i
    else:
        continue

# 확인
print(tot)








# 문자를 입력하면 continue, 0을 입력하면 break, 아니면 10으로 나눈 나머지 표시
while True:
    response = input('숫자를 입력하세요(0 = 종료):')
    if not response.isnumeric():
        continue
    if int(response) == 0:
        break
    result = int(response) % 10
    print("{} 나누기 10의 나머지는 {}입니다.".format(response, result))








# 조건 처리
score = 55

if (90 <= score):
    print('A')
elif (80 <= score < 90):


else:
    print('F')






































